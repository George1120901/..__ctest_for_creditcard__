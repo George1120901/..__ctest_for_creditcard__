{
 "cells": [
  {
   "cell_type": "code",
   "execution_count": 3,
   "metadata": {},
   "outputs": [],
   "source": [
    "import sqlite3"
   ]
  },
  {
   "cell_type": "markdown",
   "metadata": {},
   "source": [
    "# create database"
   ]
  },
  {
   "cell_type": "code",
   "execution_count": 4,
   "metadata": {},
   "outputs": [],
   "source": [
    "conn = sqlite3.connect('creditcard.db')\n",
    "\n",
    "cursor = conn.cursor()\n",
    "cursor.execute(\n",
    "    '''\n",
    "    CREATE TABLE  IF NOT EXISTS 教育程度類別消費資料(\n",
    "            \"id\"\tINTEGER,\n",
    "            \"年月\"\tTEXT NOT NULL,\n",
    "            \"地區\"\tTEXT NOT NULL,\n",
    "            \"產業別\"\tTEXT NOT NULL,\n",
    "            \"教育程度類別\"\tTEXT NOT NULL,\n",
    "            \"信用卡交易筆數\"\tINTEGER NOT NULL,\n",
    "            \"信用卡交易金額[新台幣]\"\tINTEGER NOT NULL,            \n",
    "            PRIMARY KEY(\"id\" AUTOINCREMENT)\n",
    "    );\n",
    "    '''\n",
    ")\n",
    "\n",
    "cursor.execute(\n",
    "    '''\n",
    "    CREATE TABLE  IF NOT EXISTS 收入類別消費資料(\n",
    "        \"id\"\tINTEGER,\n",
    "        \"年月\"\tTEXT NOT NULL,\n",
    "        \"地區\"\tTEXT NOT NULL,\n",
    "        \"產業別\"\tTEXT NOT NULL,\n",
    "        \"年收入\"\tTEXT NOT NULL,\n",
    "        \"信用卡交易筆數\"\tINTEGER NOT NULL,\n",
    "        \"信用卡交易金額[新台幣]\"\tINTEGER NOT NULL,            \n",
    "        PRIMARY KEY(\"id\" AUTOINCREMENT)\n",
    "    );\n",
    "    '''\n",
    ")\n",
    "\n",
    "cursor.execute(\n",
    "    '''\n",
    "    CREATE TABLE  IF NOT EXISTS 兩性類別消費資料(\n",
    "        \"id\"\tINTEGER,\n",
    "        \"年月\"\tTEXT NOT NULL,\n",
    "        \"地區\"\tTEXT NOT NULL,\n",
    "        \"產業別\"\tTEXT NOT NULL,\n",
    "        \"性別\"\tINTEGER NOT NULL,\n",
    "        \"信用卡交易筆數\"\tINTEGER NOT NULL,\n",
    "        \"信用卡交易金額[新台幣]\"\tINTEGER NOT NULL,            \n",
    "        PRIMARY KEY(\"id\" AUTOINCREMENT)\n",
    "    );\n",
    "    '''\n",
    ")\n",
    "\n",
    "cursor.execute(\n",
    "    '''\n",
    "        CREATE TABLE  IF NOT EXISTS 職業類別消費資料(\n",
    "            \"id\"\tINTEGER,\n",
    "            \"年月\"\tTEXT NOT NULL,\n",
    "            \"地區\"\tTEXT NOT NULL,\n",
    "            \"產業別\"\tTEXT NOT NULL,\n",
    "            \"職業類別\"\tTEXT NOT NULL,\n",
    "            \"信用卡交易筆數\"\tINTEGER NOT NULL,\n",
    "            \"信用卡交易金額[新台幣]\"\tINTEGER NOT NULL,            \n",
    "            PRIMARY KEY(\"id\" AUTOINCREMENT)\n",
    "        );\n",
    "    '''\n",
    ")\n",
    "\n",
    "\n",
    "conn.commit()\n",
    "conn.close()"
   ]
  },
  {
   "cell_type": "markdown",
   "metadata": {},
   "source": [
    "# insert data"
   ]
  },
  {
   "cell_type": "code",
   "execution_count": 12,
   "metadata": {},
   "outputs": [],
   "source": [
    "import pandas as pd\n",
    "import sqlite3\n",
    "\n",
    "conn = sqlite3.connect('creditcard.db')\n",
    "cursor = conn.cursor()\n",
    "\n",
    "def csv_to_database(csv_file, table_name):\n",
    "    df = pd.read_csv(csv_file)\n",
    "    df.to_sql(table_name, conn, if_exists='replace', index=False)\n",
    "\n",
    "\n",
    "csv_files = [\n",
    "    {\"file\": \"education.csv\", \"table\":\"教育程度類別消費資料\"},\n",
    "    {\"file\": \"incom.csv\", \"table\":\"收入類別消費資料\"},\n",
    "    {\"file\": \"sex.csv\", \"table\":\"兩性類別消費資料\"},\n",
    "    {\"file\": \"job.csv\", \"table\":\"職業類別消費資料\"}   \n",
    "]\n",
    "\n",
    "for file_info in csv_files:\n",
    "    csv_file = file_info[\"file\"]\n",
    "    table_name = file_info[\"table\"]\n",
    "    csv_to_database(csv_file=csv_file, table_name=table_name)\n",
    "\n",
    "conn.commit()\n",
    "conn.close()"
   ]
  },
  {
   "cell_type": "markdown",
   "metadata": {},
   "source": [
    "# 合併csv"
   ]
  },
  {
   "cell_type": "code",
   "execution_count": 7,
   "metadata": {},
   "outputs": [],
   "source": [
    "import os\n",
    "import pandas as pd\n",
    "\n",
    "folder_path = 'C:\\GitHub\\ctest\\datasource\\education'\n",
    "csv_files = [file for file in os.listdir(folder_path) if file.endswith('.csv')]\n",
    "merged_data = pd.DataFrame()\n",
    "for file in csv_files:\n",
    "    file_path = os.path.join(folder_path, file)\n",
    "    data = pd.read_csv(file_path)\n",
    "    merged_data = pd.concat([merged_data, data], ignore_index=True)\n",
    "merged_data.to_csv(\"education.csv\", index=False)"
   ]
  },
  {
   "cell_type": "code",
   "execution_count": 8,
   "metadata": {},
   "outputs": [],
   "source": [
    "folder_path = 'C:\\GitHub\\ctest\\datasource\\incom'\n",
    "csv_files = [file for file in os.listdir(folder_path) if file.endswith('.csv')]\n",
    "merged_data = pd.DataFrame()\n",
    "for file in csv_files:\n",
    "    file_path = os.path.join(folder_path, file)\n",
    "    data = pd.read_csv(file_path)\n",
    "    merged_data = pd.concat([merged_data, data], ignore_index=True)\n",
    "merged_data.to_csv(\"incom.csv\", index=False)"
   ]
  },
  {
   "cell_type": "code",
   "execution_count": 9,
   "metadata": {},
   "outputs": [],
   "source": [
    "folder_path = 'C:\\GitHub\\ctest\\datasource\\job'\n",
    "csv_files = [file for file in os.listdir(folder_path) if file.endswith('.csv')]\n",
    "merged_data = pd.DataFrame()\n",
    "for file in csv_files:\n",
    "    file_path = os.path.join(folder_path, file)\n",
    "    data = pd.read_csv(file_path)\n",
    "    merged_data = pd.concat([merged_data, data], ignore_index=True)\n",
    "merged_data.to_csv(\"job.csv\", index=False)"
   ]
  },
  {
   "cell_type": "code",
   "execution_count": 10,
   "metadata": {},
   "outputs": [],
   "source": [
    "folder_path = 'C:\\GitHub\\ctest\\datasource\\sex'\n",
    "csv_files = [file for file in os.listdir(folder_path) if file.endswith('.csv')]\n",
    "merged_data = pd.DataFrame()\n",
    "for file in csv_files:\n",
    "    file_path = os.path.join(folder_path, file)\n",
    "    data = pd.read_csv(file_path)\n",
    "    merged_data = pd.concat([merged_data, data], ignore_index=True)\n",
    "merged_data.to_csv(\"sex.csv\", index=False)"
   ]
  }
 ],
 "metadata": {
  "kernelspec": {
   "display_name": ".venv",
   "language": "python",
   "name": "python3"
  },
  "language_info": {
   "codemirror_mode": {
    "name": "ipython",
    "version": 3
   },
   "file_extension": ".py",
   "mimetype": "text/x-python",
   "name": "python",
   "nbconvert_exporter": "python",
   "pygments_lexer": "ipython3",
   "version": "3.10.8"
  }
 },
 "nbformat": 4,
 "nbformat_minor": 2
}
