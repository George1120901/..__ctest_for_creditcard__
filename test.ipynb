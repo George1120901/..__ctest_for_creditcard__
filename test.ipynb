{
 "cells": [
  {
   "cell_type": "code",
   "execution_count": 18,
   "metadata": {},
   "outputs": [],
   "source": [
    "import pandas as pd\n",
    "\n",
    "df = pd.read_csv(\"education_trans.csv\")\n",
    "\n",
    "cities = [\"臺北市\", \"新北市\", \"桃園市\", \"臺中市\", \"臺南市\", \"高雄市\"]\n",
    "data = pd.DataFrame()\n",
    "\n",
    "for city in cities:\n",
    "    cityData = df[\n",
    "        (df[\"地區\"] == city) & (df[\"年\"] == 2023)\n",
    "    ]  # Filter by both city and year\n",
    "    data = pd.concat([data, cityData], ignore_index=True)\n",
    "\n",
    "# Exclude rows where \"產業別\" is '其他'\n",
    "data = data[(data[\"產業別\"] != \"其他\") & (data[\"教育程度類別\"] != \"其他\")]\n",
    "\n",
    "# Rename\n",
    "data = data.rename(columns={\"信用卡交易金額[新台幣]\": \"信用卡交易金額\"})\n",
    "\n",
    "data.to_csv(\"six_e_2023.csv\", index=False)"
   ]
  },
  {
   "cell_type": "code",
   "execution_count": 36,
   "metadata": {},
   "outputs": [],
   "source": [
    "import pandas as pd\n",
    "\n",
    "df = pd.read_csv(\"education_trans.csv\")\n",
    "\n",
    "cities = [\"臺北市\", \"新北市\", \"桃園市\", \"臺中市\", \"臺南市\", \"高雄市\"]\n",
    "data = pd.DataFrame()\n",
    "\n",
    "for city in cities:\n",
    "    cityData = df[\n",
    "        (df[\"地區\"] == city) & (df[\"年\"] == 2023)\n",
    "    ]  # Filter by both city and year\n",
    "    data = pd.concat([data, cityData], ignore_index=True)\n",
    "\n",
    "# Exclude rows where \"產業別\" is '其他'\n",
    "data = data[(data[\"產業別\"] != \"其他\") & (data[\"教育程度類別\"] != \"其他\")]\n",
    "\n",
    "# Rename\n",
    "data = data.rename(columns={\"信用卡交易金額[新台幣]\": \"信用卡交易金額\"})\n",
    "\n",
    "data.to_csv(\"six_e_2023.csv\", index=False)"
   ]
  },
  {
   "cell_type": "code",
   "execution_count": 75,
   "metadata": {},
   "outputs": [
    {
     "name": "stdout",
     "output_type": "stream",
     "text": [
      "職業類別消費資料讀取成功\n"
     ]
    }
   ],
   "source": [
    "import requests\n",
    "import pandas as pd\n",
    "import csv\n",
    "\n",
    "\n",
    "def __download_creditcard_data():\n",
    "    edu_url = (\n",
    "        \"https://bas.nccc.com.tw/nccc-nop/OpenAPI/C05/educationconsumption/MCT/ALL\"\n",
    "    )\n",
    "    response = requests.request(\"GET\", edu_url)\n",
    "    with open(f\"./six_e.csv\", \"wb\") as file:\n",
    "        file.write(response.content)\n",
    "    print(\"職業類別消費資料讀取成功\")\n",
    "\n",
    "\n",
    "def trans_data():\n",
    "    area_code = {\n",
    "        \"63000000\": \"臺北市\",\n",
    "        \"64000000\": \"高雄市\",\n",
    "        \"65000000\": \"新北市\",\n",
    "        \"66000000\": \"臺中市\",\n",
    "        \"67000000\": \"臺南市\",\n",
    "        \"68000000\": \"桃園市\",\n",
    "    }\n",
    "\n",
    "    df = pd.read_csv(\"six_e.csv\")\n",
    "    df[\"年月\"] = df[\"年月\"].astype(str)\n",
    "    df[\"年\"] = df[\"年月\"].str[:4]\n",
    "    df[\"月\"] = df[\"年月\"].str[4:]\n",
    "    df = df[(df[\"產業別\"] != \"其他\") & (df[\"教育程度類別\"] != \"其他\")]\n",
    "    df = df[df[\"年\"] == \"2023\"]\n",
    "    df[\"地區\"] = df[\"地區\"].apply(lambda x: area_code.get(x, x))\n",
    "    df = df.drop(columns=[\"年月\"])\n",
    "    df = df[[\"年\", \"月\"] + [col for col in df.columns if col not in [\"年\", \"月\"]]]\n",
    "    df = df.rename(columns={\"信用卡交易金額[新台幣]\": \"信用卡交易金額\"})\n",
    "    df.to_csv(\"six_e.csv\", index=False, encoding=\"utf-8\")\n",
    "\n",
    "    with open(\"six_e.csv\", \"r\", encoding=\"utf-8\") as file:\n",
    "        csv_reader = csv.DictReader(file)\n",
    "        fieldnames = csv_reader.fieldnames\n",
    "        with open(\"six_e_2023.csv\", \"w\", encoding=\"utf-8\", newline=\"\") as file:\n",
    "            csv_writer = csv.DictWriter(file, fieldnames=fieldnames)\n",
    "            csv_writer.writeheader()\n",
    "\n",
    "            for row in csv_reader:\n",
    "                row[\"地區\"] = area_code.get(row[\"地區\"], row[\"地區\"])\n",
    "\n",
    "                new_row = {\"地區\": row[\"地區\"]}\n",
    "                new_row.update(row)\n",
    "                csv_writer.writerow(new_row)\n",
    "\n",
    "\n",
    "__download_creditcard_data()\n",
    "trans_data()"
   ]
  }
 ],
 "metadata": {
  "kernelspec": {
   "display_name": ".venv",
   "language": "python",
   "name": "python3"
  },
  "language_info": {
   "codemirror_mode": {
    "name": "ipython",
    "version": 3
   },
   "file_extension": ".py",
   "mimetype": "text/x-python",
   "name": "python",
   "nbconvert_exporter": "python",
   "pygments_lexer": "ipython3",
   "version": "3.10.8"
  }
 },
 "nbformat": 4,
 "nbformat_minor": 2
}
