{
 "cells": [
  {
   "cell_type": "code",
   "execution_count": 10,
   "metadata": {},
   "outputs": [],
   "source": [
    "import requests"
   ]
  },
  {
   "cell_type": "code",
   "execution_count": 15,
   "metadata": {},
   "outputs": [],
   "source": [
    "#處理中心金額及筆數資料(V)\n",
    "sales_url = \"https://bas.nccc.com.tw/nccc-nop/OpenAPI/A02/SalesVolumeand\"   \n",
    "response_sale = requests.request(\"GET\",sales_url) \t\n",
    "with open('sales.csv', 'w', newline= '',encoding='utf-8') as file:\n",
    "\tfile.write(response_sale.text)\n",
    "\tfile.close()"
   ]
  },
  {
   "cell_type": "code",
   "execution_count": 16,
   "metadata": {},
   "outputs": [],
   "source": [
    "#本中心會員機構發卡量資料(V)\n",
    "cards = \"https://bas.nccc.com.tw/nccc-nop/OpenAPI/A03/StatisticCardsCirculation\"   \n",
    "response_cards = requests.request(\"GET\",cards)\n",
    "with open('cards.csv', 'w', newline= '',encoding='utf-8') as file:\n",
    "\tfile.write(response_cards.text)\n",
    "\tfile.close()"
   ]
  },
  {
   "cell_type": "code",
   "execution_count": 16,
   "metadata": {},
   "outputs": [
    {
     "name": "stdout",
     "output_type": "stream",
     "text": [
      "下載成功\n"
     ]
    }
   ],
   "source": [
    "#本中心簽帳端末機裝機臺數資料(V)\n",
    "pos = \"https://bas.nccc.com.tw/nccc-nop/OpenAPI/A04/NumberPOS\"\n",
    "response_pos = requests.request(\"GET\",pos)\n",
    "data = response_pos.text\n",
    "with open(\"pos.csv\", \"w\", newline= '', encoding=\"utf-8\") as file:\n",
    "    file.write(data)\n",
    "print(\"下載成功\")"
   ]
  },
  {
   "cell_type": "code",
   "execution_count": 17,
   "metadata": {},
   "outputs": [],
   "source": [
    "#本中心特約商店型態及比例資料(V)\n",
    "Merchant_type = \"https://bas.nccc.com.tw/nccc-nop/OpenAPI/A06/MerchantCategoriesPercentage\"   \n",
    "response_Merchant_type= requests.request(\"GET\",Merchant_type)\n",
    "with open('Merchant_type.csv', 'w', newline= '', encoding='utf-8') as file:\n",
    "\tfile.write(response_Merchant_type.text)\n",
    "\tfile.close()\n",
    "\t\n",
    "#本中心收單特約商店數資料(V)\n",
    "Merchants = \"https://bas.nccc.com.tw/nccc-nop/OpenAPI/A09/NumberNCCCAcquiredMerchants\"   \n",
    "response_Merchants = requests.request(\"GET\",Merchants)\n",
    "with open('Merchants.csv', 'w', newline= '', encoding='utf-8') as file:\n",
    "\tfile.write(response_Merchants.text)\n",
    "\n",
    "#本中心特約商店分佈比例資料(V)\n",
    "Merchant_area = \"https://bas.nccc.com.tw/nccc-nop/OpenAPI/A10/NetworkNCCCServiceEstablishments\"   \n",
    "response_Merchant_area = requests.request(\"GET\",Merchant_area)\n",
    "with open('Merchant_area.csv', 'w', newline= '', encoding='utf-8') as file:\n",
    "\tfile.write(response_Merchant_area.text)"
   ]
  },
  {
   "cell_type": "code",
   "execution_count": 18,
   "metadata": {},
   "outputs": [],
   "source": [
    "#各地區別消費樣態資料(V)\n",
    "\n",
    "'''地區別代碼【KLC: 基隆市, TPE: 臺北市, NTP: 新北市, TYC: 桃園市, HCC: 新竹市, HCH: 新竹縣, MLH: 苗栗縣, TCC: 臺中市, CHH: 彰化縣, NTH: 南投縣, YUH: 雲林縣, CYC: 嘉義市, CYH: 嘉義縣, TNC: 臺南市, KHC: 高雄市, PTH: 屏東縣, TTH: 臺東縣, HLH: 花蓮縣, YIH: 宜蘭縣, PHH: 澎湖縣, KMH: 金門縣, LCH: 連江縣, TWN: 臺灣, X1: 無縣市, LCSUM: 六都十六縣, MCT: 六都, LOC: 十六縣】\n",
    "\n",
    "Available values : KLC, TPE, NTP, TYC, HCC, HCH, MLH, TCC, CHH, NTH, YUH, CYC, CYH, TNC, KHC, PTH, TTH, HLH, YIH, PHH, KMH, LCH, TWN, X1, LCSUM, MCT, LOC'''\n",
    "\n",
    "area = ['KLC', 'TPE', 'NTP', 'TYC', 'HCC', 'HCH', 'MLH', 'TCC', 'CHH', 'NTH', 'YUH', 'CYC', 'CYH', 'TNC', 'KHC',' PTH', 'TTH', 'HLH', 'YIH', 'PHH', 'KMH', 'LCH', 'TWN', 'X1',' LCSUM', 'MCT', 'LOC']\n",
    "for A in area :\n",
    "    area_url = f\"https://bas.nccc.com.tw/nccc-nop/OpenAPI/B02/Location/{A}\"   \n",
    "    response_area = requests.request(\"GET\",area_url)\n",
    "    if len(response_area.text) == 0:\n",
    "        continue\n",
    "    with open(f'area_{A}.csv', 'w', newline= '', encoding='utf-8') as file:\n",
    "        file.write(response_area.text)\n",
    "        file.close()"
   ]
  },
  {
   "cell_type": "code",
   "execution_count": 19,
   "metadata": {},
   "outputs": [],
   "source": [
    "#各產業別消費樣態資料(V)\n",
    "\n",
    "'''產業類別代碼【FD: 食品餐飲類, CT: 服飾類, LG: 住宿類, TR: 交通類, EE: 文教康樂類, DP: 百貨類, X2: #無產業, OT: 其他類, ALL: 全部產業, IDSUM: 各產業類】'''\n",
    "\n",
    "industry = ['FD', 'CT', 'LG', 'TR', 'EE', 'DP', 'X2', 'OT', ' IDSUM', 'ALL']\n",
    "for B in industry :\n",
    "    industry_url = f\"https://bas.nccc.com.tw/nccc-nop/OpenAPI/B01/Industry/{B}\"   \n",
    "    response_industry = requests.request(\"GET\",industry_url)\n",
    "    if len(response_industry.text) == 0:\n",
    "        continue\n",
    "    with open(f'industry_{B}.csv', 'w', newline='', encoding='utf-8') as file:\n",
    "        file.write(response_industry.text)\n",
    "        file.close()\n",
    "\n",
    "#兩性消費\n",
    "for C in industry :\n",
    "    sexSum_url = f\"https://bas.nccc.com.tw/nccc-nop/OpenAPI/C01/sexconsumption/TWN/{C}\"   \n",
    "    response_sexSum = requests.request(\"GET\",sexSum_url)\n",
    "    if len(response_sexSum.text) == 0:\n",
    "        continue\n",
    "    with open(f'sexSum_{C}.csv', 'w', newline='', encoding='utf-8') as file:\n",
    "        file.write(response_sexSum.text)\n"
   ]
  },
  {
   "cell_type": "code",
   "execution_count": 20,
   "metadata": {},
   "outputs": [],
   "source": [
    "#各職業類別消費樣態資料(V)\n",
    "jobSum_url = f\"https://bas.nccc.com.tw/nccc-nop/OpenAPI/C04/jobsconsumption/TWN/ALL\"   \n",
    "response_jobSum = requests.request(\"GET\",jobSum_url)\n",
    "with open(f'jobSum.csv', 'w', newline='', encoding='utf-8') as file:\n",
    "\tfile.write(response_jobSum.text)\n",
    "\tfile.close()\n",
    "\n",
    "#各年收入族群消費樣態資料(V)\n",
    "incomSum_url = f\"https://bas.nccc.com.tw/nccc-nop/OpenAPI/C03/incomegroupsconsumption/TWN/ALL\"   \n",
    "response_incomSum = requests.request(\"GET\",incomSum_url)\n",
    "with open(f'incomSum.csv', 'w', newline='', encoding='utf-8') as file:\n",
    "\tfile.write(response_incomSum.text)\n",
    "\tfile.close()"
   ]
  }
 ],
 "metadata": {
  "kernelspec": {
   "display_name": ".venv",
   "language": "python",
   "name": "python3"
  },
  "language_info": {
   "codemirror_mode": {
    "name": "ipython",
    "version": 3
   },
   "file_extension": ".py",
   "mimetype": "text/x-python",
   "name": "python",
   "nbconvert_exporter": "python",
   "pygments_lexer": "ipython3",
   "version": "3.10.8"
  }
 },
 "nbformat": 4,
 "nbformat_minor": 2
}
