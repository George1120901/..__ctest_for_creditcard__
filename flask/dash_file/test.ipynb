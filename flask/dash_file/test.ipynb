{
 "cells": [
  {
   "cell_type": "code",
   "execution_count": 21,
   "metadata": {},
   "outputs": [
    {
     "data": {
      "application/vnd.plotly.v1+json": {
       "config": {
        "plotlyServerURL": "https://plot.ly"
       },
       "data": [
        {
         "hovertemplate": "年=2023<br>月=%{x}<br>信用卡交易金額=%{y}<extra></extra>",
         "legendgroup": "2023",
         "line": {
          "color": "#636efa",
          "dash": "solid"
         },
         "marker": {
          "symbol": "circle"
         },
         "mode": "markers+lines",
         "name": "2023",
         "orientation": "v",
         "showlegend": true,
         "type": "scatter",
         "x": [
          1,
          2,
          3,
          4,
          5,
          6,
          7,
          8,
          9
         ],
         "xaxis": "x",
         "y": [
          172283788177,
          155358964049,
          159870407951,
          162788034196,
          168882656190,
          162415021002,
          170739795168,
          179663600973,
          181112276478
         ],
         "yaxis": "y"
        }
       ],
       "layout": {
        "legend": {
         "title": {
          "text": "年"
         },
         "tracegroupgap": 0
        },
        "template": {
         "data": {
          "bar": [
           {
            "error_x": {
             "color": "#2a3f5f"
            },
            "error_y": {
             "color": "#2a3f5f"
            },
            "marker": {
             "line": {
              "color": "#E5ECF6",
              "width": 0.5
             },
             "pattern": {
              "fillmode": "overlay",
              "size": 10,
              "solidity": 0.2
             }
            },
            "type": "bar"
           }
          ],
          "barpolar": [
           {
            "marker": {
             "line": {
              "color": "#E5ECF6",
              "width": 0.5
             },
             "pattern": {
              "fillmode": "overlay",
              "size": 10,
              "solidity": 0.2
             }
            },
            "type": "barpolar"
           }
          ],
          "carpet": [
           {
            "aaxis": {
             "endlinecolor": "#2a3f5f",
             "gridcolor": "white",
             "linecolor": "white",
             "minorgridcolor": "white",
             "startlinecolor": "#2a3f5f"
            },
            "baxis": {
             "endlinecolor": "#2a3f5f",
             "gridcolor": "white",
             "linecolor": "white",
             "minorgridcolor": "white",
             "startlinecolor": "#2a3f5f"
            },
            "type": "carpet"
           }
          ],
          "choropleth": [
           {
            "colorbar": {
             "outlinewidth": 0,
             "ticks": ""
            },
            "type": "choropleth"
           }
          ],
          "contour": [
           {
            "colorbar": {
             "outlinewidth": 0,
             "ticks": ""
            },
            "colorscale": [
             [
              0,
              "#0d0887"
             ],
             [
              0.1111111111111111,
              "#46039f"
             ],
             [
              0.2222222222222222,
              "#7201a8"
             ],
             [
              0.3333333333333333,
              "#9c179e"
             ],
             [
              0.4444444444444444,
              "#bd3786"
             ],
             [
              0.5555555555555556,
              "#d8576b"
             ],
             [
              0.6666666666666666,
              "#ed7953"
             ],
             [
              0.7777777777777778,
              "#fb9f3a"
             ],
             [
              0.8888888888888888,
              "#fdca26"
             ],
             [
              1,
              "#f0f921"
             ]
            ],
            "type": "contour"
           }
          ],
          "contourcarpet": [
           {
            "colorbar": {
             "outlinewidth": 0,
             "ticks": ""
            },
            "type": "contourcarpet"
           }
          ],
          "heatmap": [
           {
            "colorbar": {
             "outlinewidth": 0,
             "ticks": ""
            },
            "colorscale": [
             [
              0,
              "#0d0887"
             ],
             [
              0.1111111111111111,
              "#46039f"
             ],
             [
              0.2222222222222222,
              "#7201a8"
             ],
             [
              0.3333333333333333,
              "#9c179e"
             ],
             [
              0.4444444444444444,
              "#bd3786"
             ],
             [
              0.5555555555555556,
              "#d8576b"
             ],
             [
              0.6666666666666666,
              "#ed7953"
             ],
             [
              0.7777777777777778,
              "#fb9f3a"
             ],
             [
              0.8888888888888888,
              "#fdca26"
             ],
             [
              1,
              "#f0f921"
             ]
            ],
            "type": "heatmap"
           }
          ],
          "heatmapgl": [
           {
            "colorbar": {
             "outlinewidth": 0,
             "ticks": ""
            },
            "colorscale": [
             [
              0,
              "#0d0887"
             ],
             [
              0.1111111111111111,
              "#46039f"
             ],
             [
              0.2222222222222222,
              "#7201a8"
             ],
             [
              0.3333333333333333,
              "#9c179e"
             ],
             [
              0.4444444444444444,
              "#bd3786"
             ],
             [
              0.5555555555555556,
              "#d8576b"
             ],
             [
              0.6666666666666666,
              "#ed7953"
             ],
             [
              0.7777777777777778,
              "#fb9f3a"
             ],
             [
              0.8888888888888888,
              "#fdca26"
             ],
             [
              1,
              "#f0f921"
             ]
            ],
            "type": "heatmapgl"
           }
          ],
          "histogram": [
           {
            "marker": {
             "pattern": {
              "fillmode": "overlay",
              "size": 10,
              "solidity": 0.2
             }
            },
            "type": "histogram"
           }
          ],
          "histogram2d": [
           {
            "colorbar": {
             "outlinewidth": 0,
             "ticks": ""
            },
            "colorscale": [
             [
              0,
              "#0d0887"
             ],
             [
              0.1111111111111111,
              "#46039f"
             ],
             [
              0.2222222222222222,
              "#7201a8"
             ],
             [
              0.3333333333333333,
              "#9c179e"
             ],
             [
              0.4444444444444444,
              "#bd3786"
             ],
             [
              0.5555555555555556,
              "#d8576b"
             ],
             [
              0.6666666666666666,
              "#ed7953"
             ],
             [
              0.7777777777777778,
              "#fb9f3a"
             ],
             [
              0.8888888888888888,
              "#fdca26"
             ],
             [
              1,
              "#f0f921"
             ]
            ],
            "type": "histogram2d"
           }
          ],
          "histogram2dcontour": [
           {
            "colorbar": {
             "outlinewidth": 0,
             "ticks": ""
            },
            "colorscale": [
             [
              0,
              "#0d0887"
             ],
             [
              0.1111111111111111,
              "#46039f"
             ],
             [
              0.2222222222222222,
              "#7201a8"
             ],
             [
              0.3333333333333333,
              "#9c179e"
             ],
             [
              0.4444444444444444,
              "#bd3786"
             ],
             [
              0.5555555555555556,
              "#d8576b"
             ],
             [
              0.6666666666666666,
              "#ed7953"
             ],
             [
              0.7777777777777778,
              "#fb9f3a"
             ],
             [
              0.8888888888888888,
              "#fdca26"
             ],
             [
              1,
              "#f0f921"
             ]
            ],
            "type": "histogram2dcontour"
           }
          ],
          "mesh3d": [
           {
            "colorbar": {
             "outlinewidth": 0,
             "ticks": ""
            },
            "type": "mesh3d"
           }
          ],
          "parcoords": [
           {
            "line": {
             "colorbar": {
              "outlinewidth": 0,
              "ticks": ""
             }
            },
            "type": "parcoords"
           }
          ],
          "pie": [
           {
            "automargin": true,
            "type": "pie"
           }
          ],
          "scatter": [
           {
            "fillpattern": {
             "fillmode": "overlay",
             "size": 10,
             "solidity": 0.2
            },
            "type": "scatter"
           }
          ],
          "scatter3d": [
           {
            "line": {
             "colorbar": {
              "outlinewidth": 0,
              "ticks": ""
             }
            },
            "marker": {
             "colorbar": {
              "outlinewidth": 0,
              "ticks": ""
             }
            },
            "type": "scatter3d"
           }
          ],
          "scattercarpet": [
           {
            "marker": {
             "colorbar": {
              "outlinewidth": 0,
              "ticks": ""
             }
            },
            "type": "scattercarpet"
           }
          ],
          "scattergeo": [
           {
            "marker": {
             "colorbar": {
              "outlinewidth": 0,
              "ticks": ""
             }
            },
            "type": "scattergeo"
           }
          ],
          "scattergl": [
           {
            "marker": {
             "colorbar": {
              "outlinewidth": 0,
              "ticks": ""
             }
            },
            "type": "scattergl"
           }
          ],
          "scattermapbox": [
           {
            "marker": {
             "colorbar": {
              "outlinewidth": 0,
              "ticks": ""
             }
            },
            "type": "scattermapbox"
           }
          ],
          "scatterpolar": [
           {
            "marker": {
             "colorbar": {
              "outlinewidth": 0,
              "ticks": ""
             }
            },
            "type": "scatterpolar"
           }
          ],
          "scatterpolargl": [
           {
            "marker": {
             "colorbar": {
              "outlinewidth": 0,
              "ticks": ""
             }
            },
            "type": "scatterpolargl"
           }
          ],
          "scatterternary": [
           {
            "marker": {
             "colorbar": {
              "outlinewidth": 0,
              "ticks": ""
             }
            },
            "type": "scatterternary"
           }
          ],
          "surface": [
           {
            "colorbar": {
             "outlinewidth": 0,
             "ticks": ""
            },
            "colorscale": [
             [
              0,
              "#0d0887"
             ],
             [
              0.1111111111111111,
              "#46039f"
             ],
             [
              0.2222222222222222,
              "#7201a8"
             ],
             [
              0.3333333333333333,
              "#9c179e"
             ],
             [
              0.4444444444444444,
              "#bd3786"
             ],
             [
              0.5555555555555556,
              "#d8576b"
             ],
             [
              0.6666666666666666,
              "#ed7953"
             ],
             [
              0.7777777777777778,
              "#fb9f3a"
             ],
             [
              0.8888888888888888,
              "#fdca26"
             ],
             [
              1,
              "#f0f921"
             ]
            ],
            "type": "surface"
           }
          ],
          "table": [
           {
            "cells": {
             "fill": {
              "color": "#EBF0F8"
             },
             "line": {
              "color": "white"
             }
            },
            "header": {
             "fill": {
              "color": "#C8D4E3"
             },
             "line": {
              "color": "white"
             }
            },
            "type": "table"
           }
          ]
         },
         "layout": {
          "annotationdefaults": {
           "arrowcolor": "#2a3f5f",
           "arrowhead": 0,
           "arrowwidth": 1
          },
          "autotypenumbers": "strict",
          "coloraxis": {
           "colorbar": {
            "outlinewidth": 0,
            "ticks": ""
           }
          },
          "colorscale": {
           "diverging": [
            [
             0,
             "#8e0152"
            ],
            [
             0.1,
             "#c51b7d"
            ],
            [
             0.2,
             "#de77ae"
            ],
            [
             0.3,
             "#f1b6da"
            ],
            [
             0.4,
             "#fde0ef"
            ],
            [
             0.5,
             "#f7f7f7"
            ],
            [
             0.6,
             "#e6f5d0"
            ],
            [
             0.7,
             "#b8e186"
            ],
            [
             0.8,
             "#7fbc41"
            ],
            [
             0.9,
             "#4d9221"
            ],
            [
             1,
             "#276419"
            ]
           ],
           "sequential": [
            [
             0,
             "#0d0887"
            ],
            [
             0.1111111111111111,
             "#46039f"
            ],
            [
             0.2222222222222222,
             "#7201a8"
            ],
            [
             0.3333333333333333,
             "#9c179e"
            ],
            [
             0.4444444444444444,
             "#bd3786"
            ],
            [
             0.5555555555555556,
             "#d8576b"
            ],
            [
             0.6666666666666666,
             "#ed7953"
            ],
            [
             0.7777777777777778,
             "#fb9f3a"
            ],
            [
             0.8888888888888888,
             "#fdca26"
            ],
            [
             1,
             "#f0f921"
            ]
           ],
           "sequentialminus": [
            [
             0,
             "#0d0887"
            ],
            [
             0.1111111111111111,
             "#46039f"
            ],
            [
             0.2222222222222222,
             "#7201a8"
            ],
            [
             0.3333333333333333,
             "#9c179e"
            ],
            [
             0.4444444444444444,
             "#bd3786"
            ],
            [
             0.5555555555555556,
             "#d8576b"
            ],
            [
             0.6666666666666666,
             "#ed7953"
            ],
            [
             0.7777777777777778,
             "#fb9f3a"
            ],
            [
             0.8888888888888888,
             "#fdca26"
            ],
            [
             1,
             "#f0f921"
            ]
           ]
          },
          "colorway": [
           "#636efa",
           "#EF553B",
           "#00cc96",
           "#ab63fa",
           "#FFA15A",
           "#19d3f3",
           "#FF6692",
           "#B6E880",
           "#FF97FF",
           "#FECB52"
          ],
          "font": {
           "color": "#2a3f5f"
          },
          "geo": {
           "bgcolor": "white",
           "lakecolor": "white",
           "landcolor": "#E5ECF6",
           "showlakes": true,
           "showland": true,
           "subunitcolor": "white"
          },
          "hoverlabel": {
           "align": "left"
          },
          "hovermode": "closest",
          "mapbox": {
           "style": "light"
          },
          "paper_bgcolor": "white",
          "plot_bgcolor": "#E5ECF6",
          "polar": {
           "angularaxis": {
            "gridcolor": "white",
            "linecolor": "white",
            "ticks": ""
           },
           "bgcolor": "#E5ECF6",
           "radialaxis": {
            "gridcolor": "white",
            "linecolor": "white",
            "ticks": ""
           }
          },
          "scene": {
           "xaxis": {
            "backgroundcolor": "#E5ECF6",
            "gridcolor": "white",
            "gridwidth": 2,
            "linecolor": "white",
            "showbackground": true,
            "ticks": "",
            "zerolinecolor": "white"
           },
           "yaxis": {
            "backgroundcolor": "#E5ECF6",
            "gridcolor": "white",
            "gridwidth": 2,
            "linecolor": "white",
            "showbackground": true,
            "ticks": "",
            "zerolinecolor": "white"
           },
           "zaxis": {
            "backgroundcolor": "#E5ECF6",
            "gridcolor": "white",
            "gridwidth": 2,
            "linecolor": "white",
            "showbackground": true,
            "ticks": "",
            "zerolinecolor": "white"
           }
          },
          "shapedefaults": {
           "line": {
            "color": "#2a3f5f"
           }
          },
          "ternary": {
           "aaxis": {
            "gridcolor": "white",
            "linecolor": "white",
            "ticks": ""
           },
           "baxis": {
            "gridcolor": "white",
            "linecolor": "white",
            "ticks": ""
           },
           "bgcolor": "#E5ECF6",
           "caxis": {
            "gridcolor": "white",
            "linecolor": "white",
            "ticks": ""
           }
          },
          "title": {
           "x": 0.05
          },
          "xaxis": {
           "automargin": true,
           "gridcolor": "white",
           "linecolor": "white",
           "ticks": "",
           "title": {
            "standoff": 15
           },
           "zerolinecolor": "white",
           "zerolinewidth": 2
          },
          "yaxis": {
           "automargin": true,
           "gridcolor": "white",
           "linecolor": "white",
           "ticks": "",
           "title": {
            "standoff": 15
           },
           "zerolinecolor": "white",
           "zerolinewidth": 2
          }
         }
        },
        "title": {
         "text": "每月信用卡消費金額變化"
        },
        "xaxis": {
         "anchor": "y",
         "domain": [
          0,
          1
         ],
         "title": {
          "text": "月"
         }
        },
        "yaxis": {
         "anchor": "x",
         "domain": [
          0,
          1
         ],
         "title": {
          "text": "信用卡交易金額"
         }
        }
       }
      },
      "text/html": [
       "<div>                            <div id=\"6f559302-8c9c-47e6-9068-a5f6bb2edc7e\" class=\"plotly-graph-div\" style=\"height:525px; width:100%;\"></div>            <script type=\"text/javascript\">                require([\"plotly\"], function(Plotly) {                    window.PLOTLYENV=window.PLOTLYENV || {};                                    if (document.getElementById(\"6f559302-8c9c-47e6-9068-a5f6bb2edc7e\")) {                    Plotly.newPlot(                        \"6f559302-8c9c-47e6-9068-a5f6bb2edc7e\",                        [{\"hovertemplate\":\"\\u5e74=2023\\u003cbr\\u003e\\u6708=%{x}\\u003cbr\\u003e\\u4fe1\\u7528\\u5361\\u4ea4\\u6613\\u91d1\\u984d=%{y}\\u003cextra\\u003e\\u003c\\u002fextra\\u003e\",\"legendgroup\":\"2023\",\"line\":{\"color\":\"#636efa\",\"dash\":\"solid\"},\"marker\":{\"symbol\":\"circle\"},\"mode\":\"markers+lines\",\"name\":\"2023\",\"orientation\":\"v\",\"showlegend\":true,\"x\":[1,2,3,4,5,6,7,8,9],\"xaxis\":\"x\",\"y\":[172283788177,155358964049,159870407951,162788034196,168882656190,162415021002,170739795168,179663600973,181112276478],\"yaxis\":\"y\",\"type\":\"scatter\"}],                        {\"template\":{\"data\":{\"histogram2dcontour\":[{\"type\":\"histogram2dcontour\",\"colorbar\":{\"outlinewidth\":0,\"ticks\":\"\"},\"colorscale\":[[0.0,\"#0d0887\"],[0.1111111111111111,\"#46039f\"],[0.2222222222222222,\"#7201a8\"],[0.3333333333333333,\"#9c179e\"],[0.4444444444444444,\"#bd3786\"],[0.5555555555555556,\"#d8576b\"],[0.6666666666666666,\"#ed7953\"],[0.7777777777777778,\"#fb9f3a\"],[0.8888888888888888,\"#fdca26\"],[1.0,\"#f0f921\"]]}],\"choropleth\":[{\"type\":\"choropleth\",\"colorbar\":{\"outlinewidth\":0,\"ticks\":\"\"}}],\"histogram2d\":[{\"type\":\"histogram2d\",\"colorbar\":{\"outlinewidth\":0,\"ticks\":\"\"},\"colorscale\":[[0.0,\"#0d0887\"],[0.1111111111111111,\"#46039f\"],[0.2222222222222222,\"#7201a8\"],[0.3333333333333333,\"#9c179e\"],[0.4444444444444444,\"#bd3786\"],[0.5555555555555556,\"#d8576b\"],[0.6666666666666666,\"#ed7953\"],[0.7777777777777778,\"#fb9f3a\"],[0.8888888888888888,\"#fdca26\"],[1.0,\"#f0f921\"]]}],\"heatmap\":[{\"type\":\"heatmap\",\"colorbar\":{\"outlinewidth\":0,\"ticks\":\"\"},\"colorscale\":[[0.0,\"#0d0887\"],[0.1111111111111111,\"#46039f\"],[0.2222222222222222,\"#7201a8\"],[0.3333333333333333,\"#9c179e\"],[0.4444444444444444,\"#bd3786\"],[0.5555555555555556,\"#d8576b\"],[0.6666666666666666,\"#ed7953\"],[0.7777777777777778,\"#fb9f3a\"],[0.8888888888888888,\"#fdca26\"],[1.0,\"#f0f921\"]]}],\"heatmapgl\":[{\"type\":\"heatmapgl\",\"colorbar\":{\"outlinewidth\":0,\"ticks\":\"\"},\"colorscale\":[[0.0,\"#0d0887\"],[0.1111111111111111,\"#46039f\"],[0.2222222222222222,\"#7201a8\"],[0.3333333333333333,\"#9c179e\"],[0.4444444444444444,\"#bd3786\"],[0.5555555555555556,\"#d8576b\"],[0.6666666666666666,\"#ed7953\"],[0.7777777777777778,\"#fb9f3a\"],[0.8888888888888888,\"#fdca26\"],[1.0,\"#f0f921\"]]}],\"contourcarpet\":[{\"type\":\"contourcarpet\",\"colorbar\":{\"outlinewidth\":0,\"ticks\":\"\"}}],\"contour\":[{\"type\":\"contour\",\"colorbar\":{\"outlinewidth\":0,\"ticks\":\"\"},\"colorscale\":[[0.0,\"#0d0887\"],[0.1111111111111111,\"#46039f\"],[0.2222222222222222,\"#7201a8\"],[0.3333333333333333,\"#9c179e\"],[0.4444444444444444,\"#bd3786\"],[0.5555555555555556,\"#d8576b\"],[0.6666666666666666,\"#ed7953\"],[0.7777777777777778,\"#fb9f3a\"],[0.8888888888888888,\"#fdca26\"],[1.0,\"#f0f921\"]]}],\"surface\":[{\"type\":\"surface\",\"colorbar\":{\"outlinewidth\":0,\"ticks\":\"\"},\"colorscale\":[[0.0,\"#0d0887\"],[0.1111111111111111,\"#46039f\"],[0.2222222222222222,\"#7201a8\"],[0.3333333333333333,\"#9c179e\"],[0.4444444444444444,\"#bd3786\"],[0.5555555555555556,\"#d8576b\"],[0.6666666666666666,\"#ed7953\"],[0.7777777777777778,\"#fb9f3a\"],[0.8888888888888888,\"#fdca26\"],[1.0,\"#f0f921\"]]}],\"mesh3d\":[{\"type\":\"mesh3d\",\"colorbar\":{\"outlinewidth\":0,\"ticks\":\"\"}}],\"scatter\":[{\"fillpattern\":{\"fillmode\":\"overlay\",\"size\":10,\"solidity\":0.2},\"type\":\"scatter\"}],\"parcoords\":[{\"type\":\"parcoords\",\"line\":{\"colorbar\":{\"outlinewidth\":0,\"ticks\":\"\"}}}],\"scatterpolargl\":[{\"type\":\"scatterpolargl\",\"marker\":{\"colorbar\":{\"outlinewidth\":0,\"ticks\":\"\"}}}],\"bar\":[{\"error_x\":{\"color\":\"#2a3f5f\"},\"error_y\":{\"color\":\"#2a3f5f\"},\"marker\":{\"line\":{\"color\":\"#E5ECF6\",\"width\":0.5},\"pattern\":{\"fillmode\":\"overlay\",\"size\":10,\"solidity\":0.2}},\"type\":\"bar\"}],\"scattergeo\":[{\"type\":\"scattergeo\",\"marker\":{\"colorbar\":{\"outlinewidth\":0,\"ticks\":\"\"}}}],\"scatterpolar\":[{\"type\":\"scatterpolar\",\"marker\":{\"colorbar\":{\"outlinewidth\":0,\"ticks\":\"\"}}}],\"histogram\":[{\"marker\":{\"pattern\":{\"fillmode\":\"overlay\",\"size\":10,\"solidity\":0.2}},\"type\":\"histogram\"}],\"scattergl\":[{\"type\":\"scattergl\",\"marker\":{\"colorbar\":{\"outlinewidth\":0,\"ticks\":\"\"}}}],\"scatter3d\":[{\"type\":\"scatter3d\",\"line\":{\"colorbar\":{\"outlinewidth\":0,\"ticks\":\"\"}},\"marker\":{\"colorbar\":{\"outlinewidth\":0,\"ticks\":\"\"}}}],\"scattermapbox\":[{\"type\":\"scattermapbox\",\"marker\":{\"colorbar\":{\"outlinewidth\":0,\"ticks\":\"\"}}}],\"scatterternary\":[{\"type\":\"scatterternary\",\"marker\":{\"colorbar\":{\"outlinewidth\":0,\"ticks\":\"\"}}}],\"scattercarpet\":[{\"type\":\"scattercarpet\",\"marker\":{\"colorbar\":{\"outlinewidth\":0,\"ticks\":\"\"}}}],\"carpet\":[{\"aaxis\":{\"endlinecolor\":\"#2a3f5f\",\"gridcolor\":\"white\",\"linecolor\":\"white\",\"minorgridcolor\":\"white\",\"startlinecolor\":\"#2a3f5f\"},\"baxis\":{\"endlinecolor\":\"#2a3f5f\",\"gridcolor\":\"white\",\"linecolor\":\"white\",\"minorgridcolor\":\"white\",\"startlinecolor\":\"#2a3f5f\"},\"type\":\"carpet\"}],\"table\":[{\"cells\":{\"fill\":{\"color\":\"#EBF0F8\"},\"line\":{\"color\":\"white\"}},\"header\":{\"fill\":{\"color\":\"#C8D4E3\"},\"line\":{\"color\":\"white\"}},\"type\":\"table\"}],\"barpolar\":[{\"marker\":{\"line\":{\"color\":\"#E5ECF6\",\"width\":0.5},\"pattern\":{\"fillmode\":\"overlay\",\"size\":10,\"solidity\":0.2}},\"type\":\"barpolar\"}],\"pie\":[{\"automargin\":true,\"type\":\"pie\"}]},\"layout\":{\"autotypenumbers\":\"strict\",\"colorway\":[\"#636efa\",\"#EF553B\",\"#00cc96\",\"#ab63fa\",\"#FFA15A\",\"#19d3f3\",\"#FF6692\",\"#B6E880\",\"#FF97FF\",\"#FECB52\"],\"font\":{\"color\":\"#2a3f5f\"},\"hovermode\":\"closest\",\"hoverlabel\":{\"align\":\"left\"},\"paper_bgcolor\":\"white\",\"plot_bgcolor\":\"#E5ECF6\",\"polar\":{\"bgcolor\":\"#E5ECF6\",\"angularaxis\":{\"gridcolor\":\"white\",\"linecolor\":\"white\",\"ticks\":\"\"},\"radialaxis\":{\"gridcolor\":\"white\",\"linecolor\":\"white\",\"ticks\":\"\"}},\"ternary\":{\"bgcolor\":\"#E5ECF6\",\"aaxis\":{\"gridcolor\":\"white\",\"linecolor\":\"white\",\"ticks\":\"\"},\"baxis\":{\"gridcolor\":\"white\",\"linecolor\":\"white\",\"ticks\":\"\"},\"caxis\":{\"gridcolor\":\"white\",\"linecolor\":\"white\",\"ticks\":\"\"}},\"coloraxis\":{\"colorbar\":{\"outlinewidth\":0,\"ticks\":\"\"}},\"colorscale\":{\"sequential\":[[0.0,\"#0d0887\"],[0.1111111111111111,\"#46039f\"],[0.2222222222222222,\"#7201a8\"],[0.3333333333333333,\"#9c179e\"],[0.4444444444444444,\"#bd3786\"],[0.5555555555555556,\"#d8576b\"],[0.6666666666666666,\"#ed7953\"],[0.7777777777777778,\"#fb9f3a\"],[0.8888888888888888,\"#fdca26\"],[1.0,\"#f0f921\"]],\"sequentialminus\":[[0.0,\"#0d0887\"],[0.1111111111111111,\"#46039f\"],[0.2222222222222222,\"#7201a8\"],[0.3333333333333333,\"#9c179e\"],[0.4444444444444444,\"#bd3786\"],[0.5555555555555556,\"#d8576b\"],[0.6666666666666666,\"#ed7953\"],[0.7777777777777778,\"#fb9f3a\"],[0.8888888888888888,\"#fdca26\"],[1.0,\"#f0f921\"]],\"diverging\":[[0,\"#8e0152\"],[0.1,\"#c51b7d\"],[0.2,\"#de77ae\"],[0.3,\"#f1b6da\"],[0.4,\"#fde0ef\"],[0.5,\"#f7f7f7\"],[0.6,\"#e6f5d0\"],[0.7,\"#b8e186\"],[0.8,\"#7fbc41\"],[0.9,\"#4d9221\"],[1,\"#276419\"]]},\"xaxis\":{\"gridcolor\":\"white\",\"linecolor\":\"white\",\"ticks\":\"\",\"title\":{\"standoff\":15},\"zerolinecolor\":\"white\",\"automargin\":true,\"zerolinewidth\":2},\"yaxis\":{\"gridcolor\":\"white\",\"linecolor\":\"white\",\"ticks\":\"\",\"title\":{\"standoff\":15},\"zerolinecolor\":\"white\",\"automargin\":true,\"zerolinewidth\":2},\"scene\":{\"xaxis\":{\"backgroundcolor\":\"#E5ECF6\",\"gridcolor\":\"white\",\"linecolor\":\"white\",\"showbackground\":true,\"ticks\":\"\",\"zerolinecolor\":\"white\",\"gridwidth\":2},\"yaxis\":{\"backgroundcolor\":\"#E5ECF6\",\"gridcolor\":\"white\",\"linecolor\":\"white\",\"showbackground\":true,\"ticks\":\"\",\"zerolinecolor\":\"white\",\"gridwidth\":2},\"zaxis\":{\"backgroundcolor\":\"#E5ECF6\",\"gridcolor\":\"white\",\"linecolor\":\"white\",\"showbackground\":true,\"ticks\":\"\",\"zerolinecolor\":\"white\",\"gridwidth\":2}},\"shapedefaults\":{\"line\":{\"color\":\"#2a3f5f\"}},\"annotationdefaults\":{\"arrowcolor\":\"#2a3f5f\",\"arrowhead\":0,\"arrowwidth\":1},\"geo\":{\"bgcolor\":\"white\",\"landcolor\":\"#E5ECF6\",\"subunitcolor\":\"white\",\"showland\":true,\"showlakes\":true,\"lakecolor\":\"white\"},\"title\":{\"x\":0.05},\"mapbox\":{\"style\":\"light\"}}},\"xaxis\":{\"anchor\":\"y\",\"domain\":[0.0,1.0],\"title\":{\"text\":\"\\u6708\"}},\"yaxis\":{\"anchor\":\"x\",\"domain\":[0.0,1.0],\"title\":{\"text\":\"\\u4fe1\\u7528\\u5361\\u4ea4\\u6613\\u91d1\\u984d\"}},\"legend\":{\"title\":{\"text\":\"\\u5e74\"},\"tracegroupgap\":0},\"title\":{\"text\":\"\\u6bcf\\u6708\\u4fe1\\u7528\\u5361\\u6d88\\u8cbb\\u91d1\\u984d\\u8b8a\\u5316\"}},                        {\"responsive\": true}                    ).then(function(){\n",
       "                            \n",
       "var gd = document.getElementById('6f559302-8c9c-47e6-9068-a5f6bb2edc7e');\n",
       "var x = new MutationObserver(function (mutations, observer) {{\n",
       "        var display = window.getComputedStyle(gd).display;\n",
       "        if (!display || display === 'none') {{\n",
       "            console.log([gd, 'removed!']);\n",
       "            Plotly.purge(gd);\n",
       "            observer.disconnect();\n",
       "        }}\n",
       "}});\n",
       "\n",
       "// Listen for the removal of the full notebook cells\n",
       "var notebookContainer = gd.closest('#notebook-container');\n",
       "if (notebookContainer) {{\n",
       "    x.observe(notebookContainer, {childList: true});\n",
       "}}\n",
       "\n",
       "// Listen for the clearing of the current output cell\n",
       "var outputEl = gd.closest('.output');\n",
       "if (outputEl) {{\n",
       "    x.observe(outputEl, {childList: true});\n",
       "}}\n",
       "\n",
       "                        })                };                });            </script>        </div>"
      ]
     },
     "metadata": {},
     "output_type": "display_data"
    }
   ],
   "source": [
    "import plotly.express as px\n",
    "import pandas as pd\n",
    "\n",
    "# 讀取 CSV 檔案\n",
    "df = pd.read_csv(\"../six_age_2023.csv\")\n",
    "\n",
    "# 將資料按照年和月進行分組，計算每個月的信用卡消費金額總和\n",
    "monthly_total = df.groupby(['年', '月'])['信用卡交易金額'].sum().reset_index()\n",
    "\n",
    "# 繪製折線圖\n",
    "fig = px.line(monthly_total, x=\"月\", y=\"信用卡交易金額\", color=\"年\", title='每月信用卡消費金額變化', markers=True)\n",
    "\n",
    "# 顯示圖表\n",
    "fig.show()\n"
   ]
  },
  {
   "cell_type": "code",
   "execution_count": 54,
   "metadata": {},
   "outputs": [
    {
     "data": {
      "text/html": [
       "<div>\n",
       "<style scoped>\n",
       "    .dataframe tbody tr th:only-of-type {\n",
       "        vertical-align: middle;\n",
       "    }\n",
       "\n",
       "    .dataframe tbody tr th {\n",
       "        vertical-align: top;\n",
       "    }\n",
       "\n",
       "    .dataframe thead th {\n",
       "        text-align: right;\n",
       "    }\n",
       "</style>\n",
       "<table border=\"1\" class=\"dataframe\">\n",
       "  <thead>\n",
       "    <tr style=\"text-align: right;\">\n",
       "      <th></th>\n",
       "      <th>年</th>\n",
       "      <th>月</th>\n",
       "      <th>地區</th>\n",
       "      <th>產業別</th>\n",
       "      <th>年齡層</th>\n",
       "      <th>信用卡交易筆數</th>\n",
       "      <th>信用卡交易金額</th>\n",
       "    </tr>\n",
       "  </thead>\n",
       "  <tbody>\n",
       "    <tr>\n",
       "      <th>0</th>\n",
       "      <td>2023</td>\n",
       "      <td>1</td>\n",
       "      <td>臺北市</td>\n",
       "      <td>食</td>\n",
       "      <td>未滿20歲</td>\n",
       "      <td>220977</td>\n",
       "      <td>55715114</td>\n",
       "    </tr>\n",
       "    <tr>\n",
       "      <th>1</th>\n",
       "      <td>2023</td>\n",
       "      <td>1</td>\n",
       "      <td>臺北市</td>\n",
       "      <td>食</td>\n",
       "      <td>20(含)-25歲</td>\n",
       "      <td>2566821</td>\n",
       "      <td>753504344</td>\n",
       "    </tr>\n",
       "    <tr>\n",
       "      <th>2</th>\n",
       "      <td>2023</td>\n",
       "      <td>1</td>\n",
       "      <td>臺北市</td>\n",
       "      <td>食</td>\n",
       "      <td>25(含)-30歲</td>\n",
       "      <td>5363528</td>\n",
       "      <td>1923364256</td>\n",
       "    </tr>\n",
       "    <tr>\n",
       "      <th>3</th>\n",
       "      <td>2023</td>\n",
       "      <td>1</td>\n",
       "      <td>臺北市</td>\n",
       "      <td>食</td>\n",
       "      <td>30(含)-35歲</td>\n",
       "      <td>5857840</td>\n",
       "      <td>2316604418</td>\n",
       "    </tr>\n",
       "    <tr>\n",
       "      <th>4</th>\n",
       "      <td>2023</td>\n",
       "      <td>1</td>\n",
       "      <td>臺北市</td>\n",
       "      <td>食</td>\n",
       "      <td>35(含)-40歲</td>\n",
       "      <td>5520136</td>\n",
       "      <td>2358990576</td>\n",
       "    </tr>\n",
       "    <tr>\n",
       "      <th>...</th>\n",
       "      <td>...</td>\n",
       "      <td>...</td>\n",
       "      <td>...</td>\n",
       "      <td>...</td>\n",
       "      <td>...</td>\n",
       "      <td>...</td>\n",
       "      <td>...</td>\n",
       "    </tr>\n",
       "    <tr>\n",
       "      <th>499</th>\n",
       "      <td>2023</td>\n",
       "      <td>1</td>\n",
       "      <td>高雄市</td>\n",
       "      <td>百貨</td>\n",
       "      <td>60(含)-65歲</td>\n",
       "      <td>206522</td>\n",
       "      <td>420863669</td>\n",
       "    </tr>\n",
       "    <tr>\n",
       "      <th>500</th>\n",
       "      <td>2023</td>\n",
       "      <td>1</td>\n",
       "      <td>高雄市</td>\n",
       "      <td>百貨</td>\n",
       "      <td>65(含)-70歲</td>\n",
       "      <td>137246</td>\n",
       "      <td>254291621</td>\n",
       "    </tr>\n",
       "    <tr>\n",
       "      <th>501</th>\n",
       "      <td>2023</td>\n",
       "      <td>1</td>\n",
       "      <td>高雄市</td>\n",
       "      <td>百貨</td>\n",
       "      <td>70(含)-75歲</td>\n",
       "      <td>71281</td>\n",
       "      <td>123267662</td>\n",
       "    </tr>\n",
       "    <tr>\n",
       "      <th>502</th>\n",
       "      <td>2023</td>\n",
       "      <td>1</td>\n",
       "      <td>高雄市</td>\n",
       "      <td>百貨</td>\n",
       "      <td>75(含)-80歲</td>\n",
       "      <td>19938</td>\n",
       "      <td>33584922</td>\n",
       "    </tr>\n",
       "    <tr>\n",
       "      <th>503</th>\n",
       "      <td>2023</td>\n",
       "      <td>1</td>\n",
       "      <td>高雄市</td>\n",
       "      <td>百貨</td>\n",
       "      <td>80(含)歲以上</td>\n",
       "      <td>8774</td>\n",
       "      <td>15348475</td>\n",
       "    </tr>\n",
       "  </tbody>\n",
       "</table>\n",
       "<p>504 rows × 7 columns</p>\n",
       "</div>"
      ],
      "text/plain": [
       "        年  月   地區 產業別        年齡層  信用卡交易筆數     信用卡交易金額\n",
       "0    2023  1  臺北市   食      未滿20歲   220977    55715114\n",
       "1    2023  1  臺北市   食  20(含)-25歲  2566821   753504344\n",
       "2    2023  1  臺北市   食  25(含)-30歲  5363528  1923364256\n",
       "3    2023  1  臺北市   食  30(含)-35歲  5857840  2316604418\n",
       "4    2023  1  臺北市   食  35(含)-40歲  5520136  2358990576\n",
       "..    ... ..  ...  ..        ...      ...         ...\n",
       "499  2023  1  高雄市  百貨  60(含)-65歲   206522   420863669\n",
       "500  2023  1  高雄市  百貨  65(含)-70歲   137246   254291621\n",
       "501  2023  1  高雄市  百貨  70(含)-75歲    71281   123267662\n",
       "502  2023  1  高雄市  百貨  75(含)-80歲    19938    33584922\n",
       "503  2023  1  高雄市  百貨   80(含)歲以上     8774    15348475\n",
       "\n",
       "[504 rows x 7 columns]"
      ]
     },
     "metadata": {},
     "output_type": "display_data"
    },
    {
     "data": {
      "application/vnd.plotly.v1+json": {
       "config": {
        "plotlyServerURL": "https://plot.ly"
       },
       "data": [
        {
         "hovertemplate": "月=1<br>地區=%{x}<br>信用卡交易金額=%{y}<extra></extra>",
         "legendgroup": "",
         "line": {
          "color": "#636efa",
          "dash": "solid"
         },
         "marker": {
          "symbol": "circle"
         },
         "mode": "markers+lines",
         "name": "",
         "orientation": "v",
         "showlegend": false,
         "type": "scatter",
         "x": [
          "臺北市",
          "臺北市",
          "臺北市",
          "臺北市",
          "臺北市",
          "臺北市",
          "臺北市",
          "臺北市",
          "臺北市",
          "臺北市",
          "臺北市",
          "臺北市",
          "臺北市",
          "臺北市",
          "臺北市",
          "臺北市",
          "臺北市",
          "臺北市",
          "臺北市",
          "臺北市",
          "臺北市",
          "臺北市",
          "臺北市",
          "臺北市",
          "臺北市",
          "臺北市",
          "臺北市",
          "臺北市",
          "臺北市",
          "臺北市",
          "臺北市",
          "臺北市",
          "臺北市",
          "臺北市",
          "臺北市",
          "臺北市",
          "臺北市",
          "臺北市",
          "臺北市",
          "臺北市",
          "臺北市",
          "臺北市",
          "臺北市",
          "臺北市",
          "臺北市",
          "臺北市",
          "臺北市",
          "臺北市",
          "臺北市",
          "臺北市",
          "臺北市",
          "臺北市",
          "臺北市",
          "臺北市",
          "臺北市",
          "臺北市",
          "臺北市",
          "臺北市",
          "臺北市",
          "臺北市",
          "臺北市",
          "臺北市",
          "臺北市",
          "臺北市",
          "臺北市",
          "臺北市",
          "臺北市",
          "臺北市",
          "臺北市",
          "臺北市",
          "臺北市",
          "臺北市",
          "臺北市",
          "臺北市",
          "臺北市",
          "臺北市",
          "臺北市",
          "臺北市",
          "臺北市",
          "臺北市",
          "臺北市",
          "臺北市",
          "臺北市",
          "臺北市",
          "新北市",
          "新北市",
          "新北市",
          "新北市",
          "新北市",
          "新北市",
          "新北市",
          "新北市",
          "新北市",
          "新北市",
          "新北市",
          "新北市",
          "新北市",
          "新北市",
          "新北市",
          "新北市",
          "新北市",
          "新北市",
          "新北市",
          "新北市",
          "新北市",
          "新北市",
          "新北市",
          "新北市",
          "新北市",
          "新北市",
          "新北市",
          "新北市",
          "新北市",
          "新北市",
          "新北市",
          "新北市",
          "新北市",
          "新北市",
          "新北市",
          "新北市",
          "新北市",
          "新北市",
          "新北市",
          "新北市",
          "新北市",
          "新北市",
          "新北市",
          "新北市",
          "新北市",
          "新北市",
          "新北市",
          "新北市",
          "新北市",
          "新北市",
          "新北市",
          "新北市",
          "新北市",
          "新北市",
          "新北市",
          "新北市",
          "新北市",
          "新北市",
          "新北市",
          "新北市",
          "新北市",
          "新北市",
          "新北市",
          "新北市",
          "新北市",
          "新北市",
          "新北市",
          "新北市",
          "新北市",
          "新北市",
          "新北市",
          "新北市",
          "新北市",
          "新北市",
          "新北市",
          "新北市",
          "新北市",
          "新北市",
          "新北市",
          "新北市",
          "新北市",
          "新北市",
          "新北市",
          "新北市",
          "桃園市",
          "桃園市",
          "桃園市",
          "桃園市",
          "桃園市",
          "桃園市",
          "桃園市",
          "桃園市",
          "桃園市",
          "桃園市",
          "桃園市",
          "桃園市",
          "桃園市",
          "桃園市",
          "桃園市",
          "桃園市",
          "桃園市",
          "桃園市",
          "桃園市",
          "桃園市",
          "桃園市",
          "桃園市",
          "桃園市",
          "桃園市",
          "桃園市",
          "桃園市",
          "桃園市",
          "桃園市",
          "桃園市",
          "桃園市",
          "桃園市",
          "桃園市",
          "桃園市",
          "桃園市",
          "桃園市",
          "桃園市",
          "桃園市",
          "桃園市",
          "桃園市",
          "桃園市",
          "桃園市",
          "桃園市",
          "桃園市",
          "桃園市",
          "桃園市",
          "桃園市",
          "桃園市",
          "桃園市",
          "桃園市",
          "桃園市",
          "桃園市",
          "桃園市",
          "桃園市",
          "桃園市",
          "桃園市",
          "桃園市",
          "桃園市",
          "桃園市",
          "桃園市",
          "桃園市",
          "桃園市",
          "桃園市",
          "桃園市",
          "桃園市",
          "桃園市",
          "桃園市",
          "桃園市",
          "桃園市",
          "桃園市",
          "桃園市",
          "桃園市",
          "桃園市",
          "桃園市",
          "桃園市",
          "桃園市",
          "桃園市",
          "桃園市",
          "桃園市",
          "桃園市",
          "桃園市",
          "桃園市",
          "桃園市",
          "桃園市",
          "桃園市",
          "臺中市",
          "臺中市",
          "臺中市",
          "臺中市",
          "臺中市",
          "臺中市",
          "臺中市",
          "臺中市",
          "臺中市",
          "臺中市",
          "臺中市",
          "臺中市",
          "臺中市",
          "臺中市",
          "臺中市",
          "臺中市",
          "臺中市",
          "臺中市",
          "臺中市",
          "臺中市",
          "臺中市",
          "臺中市",
          "臺中市",
          "臺中市",
          "臺中市",
          "臺中市",
          "臺中市",
          "臺中市",
          "臺中市",
          "臺中市",
          "臺中市",
          "臺中市",
          "臺中市",
          "臺中市",
          "臺中市",
          "臺中市",
          "臺中市",
          "臺中市",
          "臺中市",
          "臺中市",
          "臺中市",
          "臺中市",
          "臺中市",
          "臺中市",
          "臺中市",
          "臺中市",
          "臺中市",
          "臺中市",
          "臺中市",
          "臺中市",
          "臺中市",
          "臺中市",
          "臺中市",
          "臺中市",
          "臺中市",
          "臺中市",
          "臺中市",
          "臺中市",
          "臺中市",
          "臺中市",
          "臺中市",
          "臺中市",
          "臺中市",
          "臺中市",
          "臺中市",
          "臺中市",
          "臺中市",
          "臺中市",
          "臺中市",
          "臺中市",
          "臺中市",
          "臺中市",
          "臺中市",
          "臺中市",
          "臺中市",
          "臺中市",
          "臺中市",
          "臺中市",
          "臺中市",
          "臺中市",
          "臺中市",
          "臺中市",
          "臺中市",
          "臺中市",
          "臺南市",
          "臺南市",
          "臺南市",
          "臺南市",
          "臺南市",
          "臺南市",
          "臺南市",
          "臺南市",
          "臺南市",
          "臺南市",
          "臺南市",
          "臺南市",
          "臺南市",
          "臺南市",
          "臺南市",
          "臺南市",
          "臺南市",
          "臺南市",
          "臺南市",
          "臺南市",
          "臺南市",
          "臺南市",
          "臺南市",
          "臺南市",
          "臺南市",
          "臺南市",
          "臺南市",
          "臺南市",
          "臺南市",
          "臺南市",
          "臺南市",
          "臺南市",
          "臺南市",
          "臺南市",
          "臺南市",
          "臺南市",
          "臺南市",
          "臺南市",
          "臺南市",
          "臺南市",
          "臺南市",
          "臺南市",
          "臺南市",
          "臺南市",
          "臺南市",
          "臺南市",
          "臺南市",
          "臺南市",
          "臺南市",
          "臺南市",
          "臺南市",
          "臺南市",
          "臺南市",
          "臺南市",
          "臺南市",
          "臺南市",
          "臺南市",
          "臺南市",
          "臺南市",
          "臺南市",
          "臺南市",
          "臺南市",
          "臺南市",
          "臺南市",
          "臺南市",
          "臺南市",
          "臺南市",
          "臺南市",
          "臺南市",
          "臺南市",
          "臺南市",
          "臺南市",
          "臺南市",
          "臺南市",
          "臺南市",
          "臺南市",
          "臺南市",
          "臺南市",
          "臺南市",
          "臺南市",
          "臺南市",
          "臺南市",
          "臺南市",
          "臺南市",
          "高雄市",
          "高雄市",
          "高雄市",
          "高雄市",
          "高雄市",
          "高雄市",
          "高雄市",
          "高雄市",
          "高雄市",
          "高雄市",
          "高雄市",
          "高雄市",
          "高雄市",
          "高雄市",
          "高雄市",
          "高雄市",
          "高雄市",
          "高雄市",
          "高雄市",
          "高雄市",
          "高雄市",
          "高雄市",
          "高雄市",
          "高雄市",
          "高雄市",
          "高雄市",
          "高雄市",
          "高雄市",
          "高雄市",
          "高雄市",
          "高雄市",
          "高雄市",
          "高雄市",
          "高雄市",
          "高雄市",
          "高雄市",
          "高雄市",
          "高雄市",
          "高雄市",
          "高雄市",
          "高雄市",
          "高雄市",
          "高雄市",
          "高雄市",
          "高雄市",
          "高雄市",
          "高雄市",
          "高雄市",
          "高雄市",
          "高雄市",
          "高雄市",
          "高雄市",
          "高雄市",
          "高雄市",
          "高雄市",
          "高雄市",
          "高雄市",
          "高雄市",
          "高雄市",
          "高雄市",
          "高雄市",
          "高雄市",
          "高雄市",
          "高雄市",
          "高雄市",
          "高雄市",
          "高雄市",
          "高雄市",
          "高雄市",
          "高雄市",
          "高雄市",
          "高雄市",
          "高雄市",
          "高雄市",
          "高雄市",
          "高雄市",
          "高雄市",
          "高雄市",
          "高雄市",
          "高雄市",
          "高雄市",
          "高雄市",
          "高雄市",
          "高雄市"
         ],
         "xaxis": "x",
         "y": [
          55715114,
          753504344,
          1923364256,
          2316604418,
          2358990576,
          2547051751,
          2042546963,
          1539941406,
          1107914396,
          750434007,
          507620333,
          297013128,
          108537969,
          66837747,
          18456803,
          218186430,
          559513188,
          683225422,
          673775566,
          653241363,
          476532656,
          350838445,
          261515637,
          165462275,
          102142073,
          47751807,
          12992288,
          11417576,
          17200093,
          178001314,
          557585474,
          772341873,
          808341237,
          882960116,
          705532451,
          573530471,
          467502097,
          331883362,
          213330706,
          117283189,
          42243363,
          28370846,
          49667202,
          530078559,
          1255515387,
          1497106911,
          1561860705,
          1772512394,
          1609108632,
          1412286175,
          1101446436,
          752758382,
          429519624,
          184839653,
          47943270,
          24370138,
          73709092,
          817100398,
          2216146490,
          2535077253,
          2566748598,
          3253279801,
          3194405299,
          2510695985,
          1539312096,
          815051346,
          478356979,
          237833594,
          73870743,
          41006363,
          66844278,
          1009481284,
          3329955802,
          4612291124,
          5196864975,
          5933202346,
          4944343209,
          4003265535,
          2890910595,
          1802474966,
          1068533625,
          571139881,
          174067317,
          94108099,
          25535420,
          318052989,
          814536878,
          973974516,
          930096982,
          955088227,
          738426737,
          557032899,
          387579850,
          236038153,
          137241995,
          71549520,
          23138005,
          12594988,
          2175517,
          30258580,
          84601450,
          117694243,
          138798649,
          161071368,
          140837829,
          115630157,
          88128951,
          56628262,
          31038760,
          13102845,
          2753929,
          1570981,
          2507240,
          41241124,
          146795389,
          223950192,
          262017736,
          298770554,
          273837865,
          236608050,
          189567974,
          135049262,
          80383994,
          37540535,
          11862563,
          5146602,
          3427816,
          53797617,
          163413152,
          248322541,
          328197253,
          438712520,
          426455316,
          374498855,
          314422545,
          214052892,
          130108931,
          57080440,
          15434767,
          6961104,
          3630578,
          51624804,
          143581401,
          177558734,
          215890641,
          320087276,
          309959439,
          228241448,
          149137826,
          96718967,
          58181296,
          31617868,
          8485747,
          5709317,
          100207455,
          138164879,
          412804407,
          628088350,
          809770268,
          1105347672,
          1052604036,
          1018026272,
          837218846,
          640352291,
          419861435,
          217244793,
          72250994,
          32700638,
          3128136,
          45518189,
          124928607,
          154550866,
          168045473,
          207463550,
          190370239,
          163527101,
          122737950,
          78626141,
          43976371,
          21257532,
          5927869,
          3084821,
          2117529,
          18101517,
          53536699,
          81793518,
          83249479,
          96758795,
          79692844,
          60093296,
          40202704,
          24184100,
          11567499,
          4657853,
          1068228,
          780204,
          1719614,
          25148170,
          83853079,
          123398882,
          138666612,
          166165927,
          156977715,
          138862141,
          107453505,
          64818049,
          40019775,
          17409512,
          4747761,
          2048569,
          4815656,
          95678304,
          348505450,
          453056533,
          451679478,
          526026922,
          461848991,
          415434397,
          332992337,
          211922107,
          106491393,
          52923963,
          11401475,
          5157613,
          3280439,
          38072689,
          98886562,
          119639431,
          126598155,
          168297077,
          184806008,
          164053096,
          122201857,
          75588918,
          48100016,
          22966773,
          5888523,
          3401252,
          8678722,
          137153572,
          416411645,
          568379316,
          686391416,
          891007833,
          869299201,
          787110759,
          573801385,
          366012601,
          197339338,
          88927522,
          23235609,
          10315411,
          8463999,
          140676934,
          372160898,
          430784410,
          423218527,
          499194601,
          457379669,
          396968437,
          318194575,
          209489659,
          119852405,
          59280923,
          18652934,
          10270117,
          3407297,
          44754913,
          102733038,
          145593738,
          134801842,
          148664229,
          125537474,
          106165822,
          77649500,
          47830376,
          25611283,
          9554765,
          2947118,
          1352987,
          3467224,
          54577776,
          176210141,
          235897586,
          262514606,
          308108713,
          287180599,
          243885158,
          194635563,
          115134510,
          67431171,
          30349953,
          8311363,
          4616136,
          3646732,
          56023317,
          206804358,
          303094649,
          385436284,
          449374583,
          430229140,
          405813306,
          317751195,
          203740304,
          117818304,
          40489496,
          9552343,
          4246663,
          7273352,
          99069398,
          265838253,
          304324140,
          325820837,
          428544008,
          418066955,
          362679245,
          268715688,
          175748166,
          104328612,
          51880357,
          14801603,
          6009720,
          12090761,
          224511239,
          690761978,
          905874156,
          1058812549,
          1255577046,
          1152806303,
          1018242139,
          743523252,
          455377607,
          254021251,
          119746907,
          28174330,
          14277568,
          1923715,
          34492467,
          90919268,
          107024755,
          116990435,
          136582687,
          127864040,
          104413163,
          84278837,
          59512142,
          34380679,
          18570873,
          5047479,
          3092926,
          1027316,
          14111366,
          33840909,
          42601756,
          51069525,
          61112405,
          57575706,
          47653652,
          34132629,
          20433648,
          9934955,
          3643074,
          781204,
          466720,
          2094054,
          31333317,
          116866700,
          158842855,
          169352121,
          209095958,
          197569481,
          175873994,
          134144208,
          89435097,
          48459701,
          21904882,
          6107703,
          3268210,
          2285509,
          37576790,
          116458454,
          151652437,
          199589922,
          255712691,
          243383745,
          239611420,
          170503524,
          116502349,
          59726530,
          20018775,
          5714971,
          2176093,
          1983271,
          29603200,
          83181224,
          83860069,
          105949222,
          127798068,
          120379750,
          100565488,
          67396272,
          38348738,
          23496892,
          12408385,
          2726358,
          1487668,
          5448468,
          98935081,
          301935449,
          401306122,
          483076030,
          574868174,
          541438903,
          446805132,
          345922649,
          220966744,
          115385144,
          54840683,
          14426342,
          8637784,
          4425547,
          72997594,
          192609428,
          237089448,
          248865328,
          304807212,
          298950138,
          266364915,
          216604964,
          153200036,
          99152277,
          48231688,
          15511403,
          8310838,
          2146611,
          22261522,
          48912122,
          66873565,
          76067364,
          86500157,
          78002174,
          63652283,
          45217728,
          29585379,
          13933709,
          5602048,
          1134780,
          806684,
          2995714,
          41754780,
          129849785,
          194223966,
          216581170,
          270365134,
          266721379,
          237093102,
          185782808,
          128406317,
          77373836,
          39246937,
          12093169,
          5583798,
          2412580,
          52691378,
          176860975,
          239773492,
          279363951,
          351419285,
          348564927,
          325426328,
          258549110,
          182855593,
          100341900,
          43351850,
          10431023,
          6218756,
          5550105,
          59359202,
          139343331,
          166389167,
          171086413,
          212391278,
          202784535,
          175944476,
          135733823,
          75864401,
          49552407,
          23620972,
          5890589,
          4821449,
          11095564,
          166014718,
          478080793,
          658944515,
          744929912,
          913054395,
          882634779,
          806709770,
          613384631,
          420863669,
          254291621,
          123267662,
          33584922,
          15348475
         ],
         "yaxis": "y"
        }
       ],
       "layout": {
        "annotations": [
         {
          "font": {},
          "showarrow": false,
          "text": "月=1",
          "x": 0.5,
          "xanchor": "center",
          "xref": "paper",
          "y": 1,
          "yanchor": "bottom",
          "yref": "paper"
         }
        ],
        "legend": {
         "tracegroupgap": 0
        },
        "template": {
         "data": {
          "bar": [
           {
            "error_x": {
             "color": "#2a3f5f"
            },
            "error_y": {
             "color": "#2a3f5f"
            },
            "marker": {
             "line": {
              "color": "#E5ECF6",
              "width": 0.5
             },
             "pattern": {
              "fillmode": "overlay",
              "size": 10,
              "solidity": 0.2
             }
            },
            "type": "bar"
           }
          ],
          "barpolar": [
           {
            "marker": {
             "line": {
              "color": "#E5ECF6",
              "width": 0.5
             },
             "pattern": {
              "fillmode": "overlay",
              "size": 10,
              "solidity": 0.2
             }
            },
            "type": "barpolar"
           }
          ],
          "carpet": [
           {
            "aaxis": {
             "endlinecolor": "#2a3f5f",
             "gridcolor": "white",
             "linecolor": "white",
             "minorgridcolor": "white",
             "startlinecolor": "#2a3f5f"
            },
            "baxis": {
             "endlinecolor": "#2a3f5f",
             "gridcolor": "white",
             "linecolor": "white",
             "minorgridcolor": "white",
             "startlinecolor": "#2a3f5f"
            },
            "type": "carpet"
           }
          ],
          "choropleth": [
           {
            "colorbar": {
             "outlinewidth": 0,
             "ticks": ""
            },
            "type": "choropleth"
           }
          ],
          "contour": [
           {
            "colorbar": {
             "outlinewidth": 0,
             "ticks": ""
            },
            "colorscale": [
             [
              0,
              "#0d0887"
             ],
             [
              0.1111111111111111,
              "#46039f"
             ],
             [
              0.2222222222222222,
              "#7201a8"
             ],
             [
              0.3333333333333333,
              "#9c179e"
             ],
             [
              0.4444444444444444,
              "#bd3786"
             ],
             [
              0.5555555555555556,
              "#d8576b"
             ],
             [
              0.6666666666666666,
              "#ed7953"
             ],
             [
              0.7777777777777778,
              "#fb9f3a"
             ],
             [
              0.8888888888888888,
              "#fdca26"
             ],
             [
              1,
              "#f0f921"
             ]
            ],
            "type": "contour"
           }
          ],
          "contourcarpet": [
           {
            "colorbar": {
             "outlinewidth": 0,
             "ticks": ""
            },
            "type": "contourcarpet"
           }
          ],
          "heatmap": [
           {
            "colorbar": {
             "outlinewidth": 0,
             "ticks": ""
            },
            "colorscale": [
             [
              0,
              "#0d0887"
             ],
             [
              0.1111111111111111,
              "#46039f"
             ],
             [
              0.2222222222222222,
              "#7201a8"
             ],
             [
              0.3333333333333333,
              "#9c179e"
             ],
             [
              0.4444444444444444,
              "#bd3786"
             ],
             [
              0.5555555555555556,
              "#d8576b"
             ],
             [
              0.6666666666666666,
              "#ed7953"
             ],
             [
              0.7777777777777778,
              "#fb9f3a"
             ],
             [
              0.8888888888888888,
              "#fdca26"
             ],
             [
              1,
              "#f0f921"
             ]
            ],
            "type": "heatmap"
           }
          ],
          "heatmapgl": [
           {
            "colorbar": {
             "outlinewidth": 0,
             "ticks": ""
            },
            "colorscale": [
             [
              0,
              "#0d0887"
             ],
             [
              0.1111111111111111,
              "#46039f"
             ],
             [
              0.2222222222222222,
              "#7201a8"
             ],
             [
              0.3333333333333333,
              "#9c179e"
             ],
             [
              0.4444444444444444,
              "#bd3786"
             ],
             [
              0.5555555555555556,
              "#d8576b"
             ],
             [
              0.6666666666666666,
              "#ed7953"
             ],
             [
              0.7777777777777778,
              "#fb9f3a"
             ],
             [
              0.8888888888888888,
              "#fdca26"
             ],
             [
              1,
              "#f0f921"
             ]
            ],
            "type": "heatmapgl"
           }
          ],
          "histogram": [
           {
            "marker": {
             "pattern": {
              "fillmode": "overlay",
              "size": 10,
              "solidity": 0.2
             }
            },
            "type": "histogram"
           }
          ],
          "histogram2d": [
           {
            "colorbar": {
             "outlinewidth": 0,
             "ticks": ""
            },
            "colorscale": [
             [
              0,
              "#0d0887"
             ],
             [
              0.1111111111111111,
              "#46039f"
             ],
             [
              0.2222222222222222,
              "#7201a8"
             ],
             [
              0.3333333333333333,
              "#9c179e"
             ],
             [
              0.4444444444444444,
              "#bd3786"
             ],
             [
              0.5555555555555556,
              "#d8576b"
             ],
             [
              0.6666666666666666,
              "#ed7953"
             ],
             [
              0.7777777777777778,
              "#fb9f3a"
             ],
             [
              0.8888888888888888,
              "#fdca26"
             ],
             [
              1,
              "#f0f921"
             ]
            ],
            "type": "histogram2d"
           }
          ],
          "histogram2dcontour": [
           {
            "colorbar": {
             "outlinewidth": 0,
             "ticks": ""
            },
            "colorscale": [
             [
              0,
              "#0d0887"
             ],
             [
              0.1111111111111111,
              "#46039f"
             ],
             [
              0.2222222222222222,
              "#7201a8"
             ],
             [
              0.3333333333333333,
              "#9c179e"
             ],
             [
              0.4444444444444444,
              "#bd3786"
             ],
             [
              0.5555555555555556,
              "#d8576b"
             ],
             [
              0.6666666666666666,
              "#ed7953"
             ],
             [
              0.7777777777777778,
              "#fb9f3a"
             ],
             [
              0.8888888888888888,
              "#fdca26"
             ],
             [
              1,
              "#f0f921"
             ]
            ],
            "type": "histogram2dcontour"
           }
          ],
          "mesh3d": [
           {
            "colorbar": {
             "outlinewidth": 0,
             "ticks": ""
            },
            "type": "mesh3d"
           }
          ],
          "parcoords": [
           {
            "line": {
             "colorbar": {
              "outlinewidth": 0,
              "ticks": ""
             }
            },
            "type": "parcoords"
           }
          ],
          "pie": [
           {
            "automargin": true,
            "type": "pie"
           }
          ],
          "scatter": [
           {
            "fillpattern": {
             "fillmode": "overlay",
             "size": 10,
             "solidity": 0.2
            },
            "type": "scatter"
           }
          ],
          "scatter3d": [
           {
            "line": {
             "colorbar": {
              "outlinewidth": 0,
              "ticks": ""
             }
            },
            "marker": {
             "colorbar": {
              "outlinewidth": 0,
              "ticks": ""
             }
            },
            "type": "scatter3d"
           }
          ],
          "scattercarpet": [
           {
            "marker": {
             "colorbar": {
              "outlinewidth": 0,
              "ticks": ""
             }
            },
            "type": "scattercarpet"
           }
          ],
          "scattergeo": [
           {
            "marker": {
             "colorbar": {
              "outlinewidth": 0,
              "ticks": ""
             }
            },
            "type": "scattergeo"
           }
          ],
          "scattergl": [
           {
            "marker": {
             "colorbar": {
              "outlinewidth": 0,
              "ticks": ""
             }
            },
            "type": "scattergl"
           }
          ],
          "scattermapbox": [
           {
            "marker": {
             "colorbar": {
              "outlinewidth": 0,
              "ticks": ""
             }
            },
            "type": "scattermapbox"
           }
          ],
          "scatterpolar": [
           {
            "marker": {
             "colorbar": {
              "outlinewidth": 0,
              "ticks": ""
             }
            },
            "type": "scatterpolar"
           }
          ],
          "scatterpolargl": [
           {
            "marker": {
             "colorbar": {
              "outlinewidth": 0,
              "ticks": ""
             }
            },
            "type": "scatterpolargl"
           }
          ],
          "scatterternary": [
           {
            "marker": {
             "colorbar": {
              "outlinewidth": 0,
              "ticks": ""
             }
            },
            "type": "scatterternary"
           }
          ],
          "surface": [
           {
            "colorbar": {
             "outlinewidth": 0,
             "ticks": ""
            },
            "colorscale": [
             [
              0,
              "#0d0887"
             ],
             [
              0.1111111111111111,
              "#46039f"
             ],
             [
              0.2222222222222222,
              "#7201a8"
             ],
             [
              0.3333333333333333,
              "#9c179e"
             ],
             [
              0.4444444444444444,
              "#bd3786"
             ],
             [
              0.5555555555555556,
              "#d8576b"
             ],
             [
              0.6666666666666666,
              "#ed7953"
             ],
             [
              0.7777777777777778,
              "#fb9f3a"
             ],
             [
              0.8888888888888888,
              "#fdca26"
             ],
             [
              1,
              "#f0f921"
             ]
            ],
            "type": "surface"
           }
          ],
          "table": [
           {
            "cells": {
             "fill": {
              "color": "#EBF0F8"
             },
             "line": {
              "color": "white"
             }
            },
            "header": {
             "fill": {
              "color": "#C8D4E3"
             },
             "line": {
              "color": "white"
             }
            },
            "type": "table"
           }
          ]
         },
         "layout": {
          "annotationdefaults": {
           "arrowcolor": "#2a3f5f",
           "arrowhead": 0,
           "arrowwidth": 1
          },
          "autotypenumbers": "strict",
          "coloraxis": {
           "colorbar": {
            "outlinewidth": 0,
            "ticks": ""
           }
          },
          "colorscale": {
           "diverging": [
            [
             0,
             "#8e0152"
            ],
            [
             0.1,
             "#c51b7d"
            ],
            [
             0.2,
             "#de77ae"
            ],
            [
             0.3,
             "#f1b6da"
            ],
            [
             0.4,
             "#fde0ef"
            ],
            [
             0.5,
             "#f7f7f7"
            ],
            [
             0.6,
             "#e6f5d0"
            ],
            [
             0.7,
             "#b8e186"
            ],
            [
             0.8,
             "#7fbc41"
            ],
            [
             0.9,
             "#4d9221"
            ],
            [
             1,
             "#276419"
            ]
           ],
           "sequential": [
            [
             0,
             "#0d0887"
            ],
            [
             0.1111111111111111,
             "#46039f"
            ],
            [
             0.2222222222222222,
             "#7201a8"
            ],
            [
             0.3333333333333333,
             "#9c179e"
            ],
            [
             0.4444444444444444,
             "#bd3786"
            ],
            [
             0.5555555555555556,
             "#d8576b"
            ],
            [
             0.6666666666666666,
             "#ed7953"
            ],
            [
             0.7777777777777778,
             "#fb9f3a"
            ],
            [
             0.8888888888888888,
             "#fdca26"
            ],
            [
             1,
             "#f0f921"
            ]
           ],
           "sequentialminus": [
            [
             0,
             "#0d0887"
            ],
            [
             0.1111111111111111,
             "#46039f"
            ],
            [
             0.2222222222222222,
             "#7201a8"
            ],
            [
             0.3333333333333333,
             "#9c179e"
            ],
            [
             0.4444444444444444,
             "#bd3786"
            ],
            [
             0.5555555555555556,
             "#d8576b"
            ],
            [
             0.6666666666666666,
             "#ed7953"
            ],
            [
             0.7777777777777778,
             "#fb9f3a"
            ],
            [
             0.8888888888888888,
             "#fdca26"
            ],
            [
             1,
             "#f0f921"
            ]
           ]
          },
          "colorway": [
           "#636efa",
           "#EF553B",
           "#00cc96",
           "#ab63fa",
           "#FFA15A",
           "#19d3f3",
           "#FF6692",
           "#B6E880",
           "#FF97FF",
           "#FECB52"
          ],
          "font": {
           "color": "#2a3f5f"
          },
          "geo": {
           "bgcolor": "white",
           "lakecolor": "white",
           "landcolor": "#E5ECF6",
           "showlakes": true,
           "showland": true,
           "subunitcolor": "white"
          },
          "hoverlabel": {
           "align": "left"
          },
          "hovermode": "closest",
          "mapbox": {
           "style": "light"
          },
          "paper_bgcolor": "white",
          "plot_bgcolor": "#E5ECF6",
          "polar": {
           "angularaxis": {
            "gridcolor": "white",
            "linecolor": "white",
            "ticks": ""
           },
           "bgcolor": "#E5ECF6",
           "radialaxis": {
            "gridcolor": "white",
            "linecolor": "white",
            "ticks": ""
           }
          },
          "scene": {
           "xaxis": {
            "backgroundcolor": "#E5ECF6",
            "gridcolor": "white",
            "gridwidth": 2,
            "linecolor": "white",
            "showbackground": true,
            "ticks": "",
            "zerolinecolor": "white"
           },
           "yaxis": {
            "backgroundcolor": "#E5ECF6",
            "gridcolor": "white",
            "gridwidth": 2,
            "linecolor": "white",
            "showbackground": true,
            "ticks": "",
            "zerolinecolor": "white"
           },
           "zaxis": {
            "backgroundcolor": "#E5ECF6",
            "gridcolor": "white",
            "gridwidth": 2,
            "linecolor": "white",
            "showbackground": true,
            "ticks": "",
            "zerolinecolor": "white"
           }
          },
          "shapedefaults": {
           "line": {
            "color": "#2a3f5f"
           }
          },
          "ternary": {
           "aaxis": {
            "gridcolor": "white",
            "linecolor": "white",
            "ticks": ""
           },
           "baxis": {
            "gridcolor": "white",
            "linecolor": "white",
            "ticks": ""
           },
           "bgcolor": "#E5ECF6",
           "caxis": {
            "gridcolor": "white",
            "linecolor": "white",
            "ticks": ""
           }
          },
          "title": {
           "x": 0.05
          },
          "xaxis": {
           "automargin": true,
           "gridcolor": "white",
           "linecolor": "white",
           "ticks": "",
           "title": {
            "standoff": 15
           },
           "zerolinecolor": "white",
           "zerolinewidth": 2
          },
          "yaxis": {
           "automargin": true,
           "gridcolor": "white",
           "linecolor": "white",
           "ticks": "",
           "title": {
            "standoff": 15
           },
           "zerolinecolor": "white",
           "zerolinewidth": 2
          }
         }
        },
        "title": {
         "text": "每年一月信用卡消費金額變化"
        },
        "xaxis": {
         "anchor": "y",
         "domain": [
          0,
          1
         ],
         "title": {
          "text": "地區"
         }
        },
        "yaxis": {
         "anchor": "x",
         "domain": [
          0,
          1
         ],
         "title": {
          "text": "信用卡交易金額"
         }
        }
       }
      },
      "text/html": [
       "<div>                            <div id=\"f3d43676-9b05-44b8-8167-0562c88db324\" class=\"plotly-graph-div\" style=\"height:525px; width:100%;\"></div>            <script type=\"text/javascript\">                require([\"plotly\"], function(Plotly) {                    window.PLOTLYENV=window.PLOTLYENV || {};                                    if (document.getElementById(\"f3d43676-9b05-44b8-8167-0562c88db324\")) {                    Plotly.newPlot(                        \"f3d43676-9b05-44b8-8167-0562c88db324\",                        [{\"hovertemplate\":\"\\u6708=1\\u003cbr\\u003e\\u5730\\u5340=%{x}\\u003cbr\\u003e\\u4fe1\\u7528\\u5361\\u4ea4\\u6613\\u91d1\\u984d=%{y}\\u003cextra\\u003e\\u003c\\u002fextra\\u003e\",\"legendgroup\":\"\",\"line\":{\"color\":\"#636efa\",\"dash\":\"solid\"},\"marker\":{\"symbol\":\"circle\"},\"mode\":\"markers+lines\",\"name\":\"\",\"orientation\":\"v\",\"showlegend\":false,\"x\":[\"\\u81fa\\u5317\\u5e02\",\"\\u81fa\\u5317\\u5e02\",\"\\u81fa\\u5317\\u5e02\",\"\\u81fa\\u5317\\u5e02\",\"\\u81fa\\u5317\\u5e02\",\"\\u81fa\\u5317\\u5e02\",\"\\u81fa\\u5317\\u5e02\",\"\\u81fa\\u5317\\u5e02\",\"\\u81fa\\u5317\\u5e02\",\"\\u81fa\\u5317\\u5e02\",\"\\u81fa\\u5317\\u5e02\",\"\\u81fa\\u5317\\u5e02\",\"\\u81fa\\u5317\\u5e02\",\"\\u81fa\\u5317\\u5e02\",\"\\u81fa\\u5317\\u5e02\",\"\\u81fa\\u5317\\u5e02\",\"\\u81fa\\u5317\\u5e02\",\"\\u81fa\\u5317\\u5e02\",\"\\u81fa\\u5317\\u5e02\",\"\\u81fa\\u5317\\u5e02\",\"\\u81fa\\u5317\\u5e02\",\"\\u81fa\\u5317\\u5e02\",\"\\u81fa\\u5317\\u5e02\",\"\\u81fa\\u5317\\u5e02\",\"\\u81fa\\u5317\\u5e02\",\"\\u81fa\\u5317\\u5e02\",\"\\u81fa\\u5317\\u5e02\",\"\\u81fa\\u5317\\u5e02\",\"\\u81fa\\u5317\\u5e02\",\"\\u81fa\\u5317\\u5e02\",\"\\u81fa\\u5317\\u5e02\",\"\\u81fa\\u5317\\u5e02\",\"\\u81fa\\u5317\\u5e02\",\"\\u81fa\\u5317\\u5e02\",\"\\u81fa\\u5317\\u5e02\",\"\\u81fa\\u5317\\u5e02\",\"\\u81fa\\u5317\\u5e02\",\"\\u81fa\\u5317\\u5e02\",\"\\u81fa\\u5317\\u5e02\",\"\\u81fa\\u5317\\u5e02\",\"\\u81fa\\u5317\\u5e02\",\"\\u81fa\\u5317\\u5e02\",\"\\u81fa\\u5317\\u5e02\",\"\\u81fa\\u5317\\u5e02\",\"\\u81fa\\u5317\\u5e02\",\"\\u81fa\\u5317\\u5e02\",\"\\u81fa\\u5317\\u5e02\",\"\\u81fa\\u5317\\u5e02\",\"\\u81fa\\u5317\\u5e02\",\"\\u81fa\\u5317\\u5e02\",\"\\u81fa\\u5317\\u5e02\",\"\\u81fa\\u5317\\u5e02\",\"\\u81fa\\u5317\\u5e02\",\"\\u81fa\\u5317\\u5e02\",\"\\u81fa\\u5317\\u5e02\",\"\\u81fa\\u5317\\u5e02\",\"\\u81fa\\u5317\\u5e02\",\"\\u81fa\\u5317\\u5e02\",\"\\u81fa\\u5317\\u5e02\",\"\\u81fa\\u5317\\u5e02\",\"\\u81fa\\u5317\\u5e02\",\"\\u81fa\\u5317\\u5e02\",\"\\u81fa\\u5317\\u5e02\",\"\\u81fa\\u5317\\u5e02\",\"\\u81fa\\u5317\\u5e02\",\"\\u81fa\\u5317\\u5e02\",\"\\u81fa\\u5317\\u5e02\",\"\\u81fa\\u5317\\u5e02\",\"\\u81fa\\u5317\\u5e02\",\"\\u81fa\\u5317\\u5e02\",\"\\u81fa\\u5317\\u5e02\",\"\\u81fa\\u5317\\u5e02\",\"\\u81fa\\u5317\\u5e02\",\"\\u81fa\\u5317\\u5e02\",\"\\u81fa\\u5317\\u5e02\",\"\\u81fa\\u5317\\u5e02\",\"\\u81fa\\u5317\\u5e02\",\"\\u81fa\\u5317\\u5e02\",\"\\u81fa\\u5317\\u5e02\",\"\\u81fa\\u5317\\u5e02\",\"\\u81fa\\u5317\\u5e02\",\"\\u81fa\\u5317\\u5e02\",\"\\u81fa\\u5317\\u5e02\",\"\\u81fa\\u5317\\u5e02\",\"\\u65b0\\u5317\\u5e02\",\"\\u65b0\\u5317\\u5e02\",\"\\u65b0\\u5317\\u5e02\",\"\\u65b0\\u5317\\u5e02\",\"\\u65b0\\u5317\\u5e02\",\"\\u65b0\\u5317\\u5e02\",\"\\u65b0\\u5317\\u5e02\",\"\\u65b0\\u5317\\u5e02\",\"\\u65b0\\u5317\\u5e02\",\"\\u65b0\\u5317\\u5e02\",\"\\u65b0\\u5317\\u5e02\",\"\\u65b0\\u5317\\u5e02\",\"\\u65b0\\u5317\\u5e02\",\"\\u65b0\\u5317\\u5e02\",\"\\u65b0\\u5317\\u5e02\",\"\\u65b0\\u5317\\u5e02\",\"\\u65b0\\u5317\\u5e02\",\"\\u65b0\\u5317\\u5e02\",\"\\u65b0\\u5317\\u5e02\",\"\\u65b0\\u5317\\u5e02\",\"\\u65b0\\u5317\\u5e02\",\"\\u65b0\\u5317\\u5e02\",\"\\u65b0\\u5317\\u5e02\",\"\\u65b0\\u5317\\u5e02\",\"\\u65b0\\u5317\\u5e02\",\"\\u65b0\\u5317\\u5e02\",\"\\u65b0\\u5317\\u5e02\",\"\\u65b0\\u5317\\u5e02\",\"\\u65b0\\u5317\\u5e02\",\"\\u65b0\\u5317\\u5e02\",\"\\u65b0\\u5317\\u5e02\",\"\\u65b0\\u5317\\u5e02\",\"\\u65b0\\u5317\\u5e02\",\"\\u65b0\\u5317\\u5e02\",\"\\u65b0\\u5317\\u5e02\",\"\\u65b0\\u5317\\u5e02\",\"\\u65b0\\u5317\\u5e02\",\"\\u65b0\\u5317\\u5e02\",\"\\u65b0\\u5317\\u5e02\",\"\\u65b0\\u5317\\u5e02\",\"\\u65b0\\u5317\\u5e02\",\"\\u65b0\\u5317\\u5e02\",\"\\u65b0\\u5317\\u5e02\",\"\\u65b0\\u5317\\u5e02\",\"\\u65b0\\u5317\\u5e02\",\"\\u65b0\\u5317\\u5e02\",\"\\u65b0\\u5317\\u5e02\",\"\\u65b0\\u5317\\u5e02\",\"\\u65b0\\u5317\\u5e02\",\"\\u65b0\\u5317\\u5e02\",\"\\u65b0\\u5317\\u5e02\",\"\\u65b0\\u5317\\u5e02\",\"\\u65b0\\u5317\\u5e02\",\"\\u65b0\\u5317\\u5e02\",\"\\u65b0\\u5317\\u5e02\",\"\\u65b0\\u5317\\u5e02\",\"\\u65b0\\u5317\\u5e02\",\"\\u65b0\\u5317\\u5e02\",\"\\u65b0\\u5317\\u5e02\",\"\\u65b0\\u5317\\u5e02\",\"\\u65b0\\u5317\\u5e02\",\"\\u65b0\\u5317\\u5e02\",\"\\u65b0\\u5317\\u5e02\",\"\\u65b0\\u5317\\u5e02\",\"\\u65b0\\u5317\\u5e02\",\"\\u65b0\\u5317\\u5e02\",\"\\u65b0\\u5317\\u5e02\",\"\\u65b0\\u5317\\u5e02\",\"\\u65b0\\u5317\\u5e02\",\"\\u65b0\\u5317\\u5e02\",\"\\u65b0\\u5317\\u5e02\",\"\\u65b0\\u5317\\u5e02\",\"\\u65b0\\u5317\\u5e02\",\"\\u65b0\\u5317\\u5e02\",\"\\u65b0\\u5317\\u5e02\",\"\\u65b0\\u5317\\u5e02\",\"\\u65b0\\u5317\\u5e02\",\"\\u65b0\\u5317\\u5e02\",\"\\u65b0\\u5317\\u5e02\",\"\\u65b0\\u5317\\u5e02\",\"\\u65b0\\u5317\\u5e02\",\"\\u65b0\\u5317\\u5e02\",\"\\u65b0\\u5317\\u5e02\",\"\\u65b0\\u5317\\u5e02\",\"\\u6843\\u5712\\u5e02\",\"\\u6843\\u5712\\u5e02\",\"\\u6843\\u5712\\u5e02\",\"\\u6843\\u5712\\u5e02\",\"\\u6843\\u5712\\u5e02\",\"\\u6843\\u5712\\u5e02\",\"\\u6843\\u5712\\u5e02\",\"\\u6843\\u5712\\u5e02\",\"\\u6843\\u5712\\u5e02\",\"\\u6843\\u5712\\u5e02\",\"\\u6843\\u5712\\u5e02\",\"\\u6843\\u5712\\u5e02\",\"\\u6843\\u5712\\u5e02\",\"\\u6843\\u5712\\u5e02\",\"\\u6843\\u5712\\u5e02\",\"\\u6843\\u5712\\u5e02\",\"\\u6843\\u5712\\u5e02\",\"\\u6843\\u5712\\u5e02\",\"\\u6843\\u5712\\u5e02\",\"\\u6843\\u5712\\u5e02\",\"\\u6843\\u5712\\u5e02\",\"\\u6843\\u5712\\u5e02\",\"\\u6843\\u5712\\u5e02\",\"\\u6843\\u5712\\u5e02\",\"\\u6843\\u5712\\u5e02\",\"\\u6843\\u5712\\u5e02\",\"\\u6843\\u5712\\u5e02\",\"\\u6843\\u5712\\u5e02\",\"\\u6843\\u5712\\u5e02\",\"\\u6843\\u5712\\u5e02\",\"\\u6843\\u5712\\u5e02\",\"\\u6843\\u5712\\u5e02\",\"\\u6843\\u5712\\u5e02\",\"\\u6843\\u5712\\u5e02\",\"\\u6843\\u5712\\u5e02\",\"\\u6843\\u5712\\u5e02\",\"\\u6843\\u5712\\u5e02\",\"\\u6843\\u5712\\u5e02\",\"\\u6843\\u5712\\u5e02\",\"\\u6843\\u5712\\u5e02\",\"\\u6843\\u5712\\u5e02\",\"\\u6843\\u5712\\u5e02\",\"\\u6843\\u5712\\u5e02\",\"\\u6843\\u5712\\u5e02\",\"\\u6843\\u5712\\u5e02\",\"\\u6843\\u5712\\u5e02\",\"\\u6843\\u5712\\u5e02\",\"\\u6843\\u5712\\u5e02\",\"\\u6843\\u5712\\u5e02\",\"\\u6843\\u5712\\u5e02\",\"\\u6843\\u5712\\u5e02\",\"\\u6843\\u5712\\u5e02\",\"\\u6843\\u5712\\u5e02\",\"\\u6843\\u5712\\u5e02\",\"\\u6843\\u5712\\u5e02\",\"\\u6843\\u5712\\u5e02\",\"\\u6843\\u5712\\u5e02\",\"\\u6843\\u5712\\u5e02\",\"\\u6843\\u5712\\u5e02\",\"\\u6843\\u5712\\u5e02\",\"\\u6843\\u5712\\u5e02\",\"\\u6843\\u5712\\u5e02\",\"\\u6843\\u5712\\u5e02\",\"\\u6843\\u5712\\u5e02\",\"\\u6843\\u5712\\u5e02\",\"\\u6843\\u5712\\u5e02\",\"\\u6843\\u5712\\u5e02\",\"\\u6843\\u5712\\u5e02\",\"\\u6843\\u5712\\u5e02\",\"\\u6843\\u5712\\u5e02\",\"\\u6843\\u5712\\u5e02\",\"\\u6843\\u5712\\u5e02\",\"\\u6843\\u5712\\u5e02\",\"\\u6843\\u5712\\u5e02\",\"\\u6843\\u5712\\u5e02\",\"\\u6843\\u5712\\u5e02\",\"\\u6843\\u5712\\u5e02\",\"\\u6843\\u5712\\u5e02\",\"\\u6843\\u5712\\u5e02\",\"\\u6843\\u5712\\u5e02\",\"\\u6843\\u5712\\u5e02\",\"\\u6843\\u5712\\u5e02\",\"\\u6843\\u5712\\u5e02\",\"\\u6843\\u5712\\u5e02\",\"\\u81fa\\u4e2d\\u5e02\",\"\\u81fa\\u4e2d\\u5e02\",\"\\u81fa\\u4e2d\\u5e02\",\"\\u81fa\\u4e2d\\u5e02\",\"\\u81fa\\u4e2d\\u5e02\",\"\\u81fa\\u4e2d\\u5e02\",\"\\u81fa\\u4e2d\\u5e02\",\"\\u81fa\\u4e2d\\u5e02\",\"\\u81fa\\u4e2d\\u5e02\",\"\\u81fa\\u4e2d\\u5e02\",\"\\u81fa\\u4e2d\\u5e02\",\"\\u81fa\\u4e2d\\u5e02\",\"\\u81fa\\u4e2d\\u5e02\",\"\\u81fa\\u4e2d\\u5e02\",\"\\u81fa\\u4e2d\\u5e02\",\"\\u81fa\\u4e2d\\u5e02\",\"\\u81fa\\u4e2d\\u5e02\",\"\\u81fa\\u4e2d\\u5e02\",\"\\u81fa\\u4e2d\\u5e02\",\"\\u81fa\\u4e2d\\u5e02\",\"\\u81fa\\u4e2d\\u5e02\",\"\\u81fa\\u4e2d\\u5e02\",\"\\u81fa\\u4e2d\\u5e02\",\"\\u81fa\\u4e2d\\u5e02\",\"\\u81fa\\u4e2d\\u5e02\",\"\\u81fa\\u4e2d\\u5e02\",\"\\u81fa\\u4e2d\\u5e02\",\"\\u81fa\\u4e2d\\u5e02\",\"\\u81fa\\u4e2d\\u5e02\",\"\\u81fa\\u4e2d\\u5e02\",\"\\u81fa\\u4e2d\\u5e02\",\"\\u81fa\\u4e2d\\u5e02\",\"\\u81fa\\u4e2d\\u5e02\",\"\\u81fa\\u4e2d\\u5e02\",\"\\u81fa\\u4e2d\\u5e02\",\"\\u81fa\\u4e2d\\u5e02\",\"\\u81fa\\u4e2d\\u5e02\",\"\\u81fa\\u4e2d\\u5e02\",\"\\u81fa\\u4e2d\\u5e02\",\"\\u81fa\\u4e2d\\u5e02\",\"\\u81fa\\u4e2d\\u5e02\",\"\\u81fa\\u4e2d\\u5e02\",\"\\u81fa\\u4e2d\\u5e02\",\"\\u81fa\\u4e2d\\u5e02\",\"\\u81fa\\u4e2d\\u5e02\",\"\\u81fa\\u4e2d\\u5e02\",\"\\u81fa\\u4e2d\\u5e02\",\"\\u81fa\\u4e2d\\u5e02\",\"\\u81fa\\u4e2d\\u5e02\",\"\\u81fa\\u4e2d\\u5e02\",\"\\u81fa\\u4e2d\\u5e02\",\"\\u81fa\\u4e2d\\u5e02\",\"\\u81fa\\u4e2d\\u5e02\",\"\\u81fa\\u4e2d\\u5e02\",\"\\u81fa\\u4e2d\\u5e02\",\"\\u81fa\\u4e2d\\u5e02\",\"\\u81fa\\u4e2d\\u5e02\",\"\\u81fa\\u4e2d\\u5e02\",\"\\u81fa\\u4e2d\\u5e02\",\"\\u81fa\\u4e2d\\u5e02\",\"\\u81fa\\u4e2d\\u5e02\",\"\\u81fa\\u4e2d\\u5e02\",\"\\u81fa\\u4e2d\\u5e02\",\"\\u81fa\\u4e2d\\u5e02\",\"\\u81fa\\u4e2d\\u5e02\",\"\\u81fa\\u4e2d\\u5e02\",\"\\u81fa\\u4e2d\\u5e02\",\"\\u81fa\\u4e2d\\u5e02\",\"\\u81fa\\u4e2d\\u5e02\",\"\\u81fa\\u4e2d\\u5e02\",\"\\u81fa\\u4e2d\\u5e02\",\"\\u81fa\\u4e2d\\u5e02\",\"\\u81fa\\u4e2d\\u5e02\",\"\\u81fa\\u4e2d\\u5e02\",\"\\u81fa\\u4e2d\\u5e02\",\"\\u81fa\\u4e2d\\u5e02\",\"\\u81fa\\u4e2d\\u5e02\",\"\\u81fa\\u4e2d\\u5e02\",\"\\u81fa\\u4e2d\\u5e02\",\"\\u81fa\\u4e2d\\u5e02\",\"\\u81fa\\u4e2d\\u5e02\",\"\\u81fa\\u4e2d\\u5e02\",\"\\u81fa\\u4e2d\\u5e02\",\"\\u81fa\\u4e2d\\u5e02\",\"\\u81fa\\u5357\\u5e02\",\"\\u81fa\\u5357\\u5e02\",\"\\u81fa\\u5357\\u5e02\",\"\\u81fa\\u5357\\u5e02\",\"\\u81fa\\u5357\\u5e02\",\"\\u81fa\\u5357\\u5e02\",\"\\u81fa\\u5357\\u5e02\",\"\\u81fa\\u5357\\u5e02\",\"\\u81fa\\u5357\\u5e02\",\"\\u81fa\\u5357\\u5e02\",\"\\u81fa\\u5357\\u5e02\",\"\\u81fa\\u5357\\u5e02\",\"\\u81fa\\u5357\\u5e02\",\"\\u81fa\\u5357\\u5e02\",\"\\u81fa\\u5357\\u5e02\",\"\\u81fa\\u5357\\u5e02\",\"\\u81fa\\u5357\\u5e02\",\"\\u81fa\\u5357\\u5e02\",\"\\u81fa\\u5357\\u5e02\",\"\\u81fa\\u5357\\u5e02\",\"\\u81fa\\u5357\\u5e02\",\"\\u81fa\\u5357\\u5e02\",\"\\u81fa\\u5357\\u5e02\",\"\\u81fa\\u5357\\u5e02\",\"\\u81fa\\u5357\\u5e02\",\"\\u81fa\\u5357\\u5e02\",\"\\u81fa\\u5357\\u5e02\",\"\\u81fa\\u5357\\u5e02\",\"\\u81fa\\u5357\\u5e02\",\"\\u81fa\\u5357\\u5e02\",\"\\u81fa\\u5357\\u5e02\",\"\\u81fa\\u5357\\u5e02\",\"\\u81fa\\u5357\\u5e02\",\"\\u81fa\\u5357\\u5e02\",\"\\u81fa\\u5357\\u5e02\",\"\\u81fa\\u5357\\u5e02\",\"\\u81fa\\u5357\\u5e02\",\"\\u81fa\\u5357\\u5e02\",\"\\u81fa\\u5357\\u5e02\",\"\\u81fa\\u5357\\u5e02\",\"\\u81fa\\u5357\\u5e02\",\"\\u81fa\\u5357\\u5e02\",\"\\u81fa\\u5357\\u5e02\",\"\\u81fa\\u5357\\u5e02\",\"\\u81fa\\u5357\\u5e02\",\"\\u81fa\\u5357\\u5e02\",\"\\u81fa\\u5357\\u5e02\",\"\\u81fa\\u5357\\u5e02\",\"\\u81fa\\u5357\\u5e02\",\"\\u81fa\\u5357\\u5e02\",\"\\u81fa\\u5357\\u5e02\",\"\\u81fa\\u5357\\u5e02\",\"\\u81fa\\u5357\\u5e02\",\"\\u81fa\\u5357\\u5e02\",\"\\u81fa\\u5357\\u5e02\",\"\\u81fa\\u5357\\u5e02\",\"\\u81fa\\u5357\\u5e02\",\"\\u81fa\\u5357\\u5e02\",\"\\u81fa\\u5357\\u5e02\",\"\\u81fa\\u5357\\u5e02\",\"\\u81fa\\u5357\\u5e02\",\"\\u81fa\\u5357\\u5e02\",\"\\u81fa\\u5357\\u5e02\",\"\\u81fa\\u5357\\u5e02\",\"\\u81fa\\u5357\\u5e02\",\"\\u81fa\\u5357\\u5e02\",\"\\u81fa\\u5357\\u5e02\",\"\\u81fa\\u5357\\u5e02\",\"\\u81fa\\u5357\\u5e02\",\"\\u81fa\\u5357\\u5e02\",\"\\u81fa\\u5357\\u5e02\",\"\\u81fa\\u5357\\u5e02\",\"\\u81fa\\u5357\\u5e02\",\"\\u81fa\\u5357\\u5e02\",\"\\u81fa\\u5357\\u5e02\",\"\\u81fa\\u5357\\u5e02\",\"\\u81fa\\u5357\\u5e02\",\"\\u81fa\\u5357\\u5e02\",\"\\u81fa\\u5357\\u5e02\",\"\\u81fa\\u5357\\u5e02\",\"\\u81fa\\u5357\\u5e02\",\"\\u81fa\\u5357\\u5e02\",\"\\u81fa\\u5357\\u5e02\",\"\\u81fa\\u5357\\u5e02\",\"\\u9ad8\\u96c4\\u5e02\",\"\\u9ad8\\u96c4\\u5e02\",\"\\u9ad8\\u96c4\\u5e02\",\"\\u9ad8\\u96c4\\u5e02\",\"\\u9ad8\\u96c4\\u5e02\",\"\\u9ad8\\u96c4\\u5e02\",\"\\u9ad8\\u96c4\\u5e02\",\"\\u9ad8\\u96c4\\u5e02\",\"\\u9ad8\\u96c4\\u5e02\",\"\\u9ad8\\u96c4\\u5e02\",\"\\u9ad8\\u96c4\\u5e02\",\"\\u9ad8\\u96c4\\u5e02\",\"\\u9ad8\\u96c4\\u5e02\",\"\\u9ad8\\u96c4\\u5e02\",\"\\u9ad8\\u96c4\\u5e02\",\"\\u9ad8\\u96c4\\u5e02\",\"\\u9ad8\\u96c4\\u5e02\",\"\\u9ad8\\u96c4\\u5e02\",\"\\u9ad8\\u96c4\\u5e02\",\"\\u9ad8\\u96c4\\u5e02\",\"\\u9ad8\\u96c4\\u5e02\",\"\\u9ad8\\u96c4\\u5e02\",\"\\u9ad8\\u96c4\\u5e02\",\"\\u9ad8\\u96c4\\u5e02\",\"\\u9ad8\\u96c4\\u5e02\",\"\\u9ad8\\u96c4\\u5e02\",\"\\u9ad8\\u96c4\\u5e02\",\"\\u9ad8\\u96c4\\u5e02\",\"\\u9ad8\\u96c4\\u5e02\",\"\\u9ad8\\u96c4\\u5e02\",\"\\u9ad8\\u96c4\\u5e02\",\"\\u9ad8\\u96c4\\u5e02\",\"\\u9ad8\\u96c4\\u5e02\",\"\\u9ad8\\u96c4\\u5e02\",\"\\u9ad8\\u96c4\\u5e02\",\"\\u9ad8\\u96c4\\u5e02\",\"\\u9ad8\\u96c4\\u5e02\",\"\\u9ad8\\u96c4\\u5e02\",\"\\u9ad8\\u96c4\\u5e02\",\"\\u9ad8\\u96c4\\u5e02\",\"\\u9ad8\\u96c4\\u5e02\",\"\\u9ad8\\u96c4\\u5e02\",\"\\u9ad8\\u96c4\\u5e02\",\"\\u9ad8\\u96c4\\u5e02\",\"\\u9ad8\\u96c4\\u5e02\",\"\\u9ad8\\u96c4\\u5e02\",\"\\u9ad8\\u96c4\\u5e02\",\"\\u9ad8\\u96c4\\u5e02\",\"\\u9ad8\\u96c4\\u5e02\",\"\\u9ad8\\u96c4\\u5e02\",\"\\u9ad8\\u96c4\\u5e02\",\"\\u9ad8\\u96c4\\u5e02\",\"\\u9ad8\\u96c4\\u5e02\",\"\\u9ad8\\u96c4\\u5e02\",\"\\u9ad8\\u96c4\\u5e02\",\"\\u9ad8\\u96c4\\u5e02\",\"\\u9ad8\\u96c4\\u5e02\",\"\\u9ad8\\u96c4\\u5e02\",\"\\u9ad8\\u96c4\\u5e02\",\"\\u9ad8\\u96c4\\u5e02\",\"\\u9ad8\\u96c4\\u5e02\",\"\\u9ad8\\u96c4\\u5e02\",\"\\u9ad8\\u96c4\\u5e02\",\"\\u9ad8\\u96c4\\u5e02\",\"\\u9ad8\\u96c4\\u5e02\",\"\\u9ad8\\u96c4\\u5e02\",\"\\u9ad8\\u96c4\\u5e02\",\"\\u9ad8\\u96c4\\u5e02\",\"\\u9ad8\\u96c4\\u5e02\",\"\\u9ad8\\u96c4\\u5e02\",\"\\u9ad8\\u96c4\\u5e02\",\"\\u9ad8\\u96c4\\u5e02\",\"\\u9ad8\\u96c4\\u5e02\",\"\\u9ad8\\u96c4\\u5e02\",\"\\u9ad8\\u96c4\\u5e02\",\"\\u9ad8\\u96c4\\u5e02\",\"\\u9ad8\\u96c4\\u5e02\",\"\\u9ad8\\u96c4\\u5e02\",\"\\u9ad8\\u96c4\\u5e02\",\"\\u9ad8\\u96c4\\u5e02\",\"\\u9ad8\\u96c4\\u5e02\",\"\\u9ad8\\u96c4\\u5e02\",\"\\u9ad8\\u96c4\\u5e02\",\"\\u9ad8\\u96c4\\u5e02\"],\"xaxis\":\"x\",\"y\":[55715114,753504344,1923364256,2316604418,2358990576,2547051751,2042546963,1539941406,1107914396,750434007,507620333,297013128,108537969,66837747,18456803,218186430,559513188,683225422,673775566,653241363,476532656,350838445,261515637,165462275,102142073,47751807,12992288,11417576,17200093,178001314,557585474,772341873,808341237,882960116,705532451,573530471,467502097,331883362,213330706,117283189,42243363,28370846,49667202,530078559,1255515387,1497106911,1561860705,1772512394,1609108632,1412286175,1101446436,752758382,429519624,184839653,47943270,24370138,73709092,817100398,2216146490,2535077253,2566748598,3253279801,3194405299,2510695985,1539312096,815051346,478356979,237833594,73870743,41006363,66844278,1009481284,3329955802,4612291124,5196864975,5933202346,4944343209,4003265535,2890910595,1802474966,1068533625,571139881,174067317,94108099,25535420,318052989,814536878,973974516,930096982,955088227,738426737,557032899,387579850,236038153,137241995,71549520,23138005,12594988,2175517,30258580,84601450,117694243,138798649,161071368,140837829,115630157,88128951,56628262,31038760,13102845,2753929,1570981,2507240,41241124,146795389,223950192,262017736,298770554,273837865,236608050,189567974,135049262,80383994,37540535,11862563,5146602,3427816,53797617,163413152,248322541,328197253,438712520,426455316,374498855,314422545,214052892,130108931,57080440,15434767,6961104,3630578,51624804,143581401,177558734,215890641,320087276,309959439,228241448,149137826,96718967,58181296,31617868,8485747,5709317,100207455,138164879,412804407,628088350,809770268,1105347672,1052604036,1018026272,837218846,640352291,419861435,217244793,72250994,32700638,3128136,45518189,124928607,154550866,168045473,207463550,190370239,163527101,122737950,78626141,43976371,21257532,5927869,3084821,2117529,18101517,53536699,81793518,83249479,96758795,79692844,60093296,40202704,24184100,11567499,4657853,1068228,780204,1719614,25148170,83853079,123398882,138666612,166165927,156977715,138862141,107453505,64818049,40019775,17409512,4747761,2048569,4815656,95678304,348505450,453056533,451679478,526026922,461848991,415434397,332992337,211922107,106491393,52923963,11401475,5157613,3280439,38072689,98886562,119639431,126598155,168297077,184806008,164053096,122201857,75588918,48100016,22966773,5888523,3401252,8678722,137153572,416411645,568379316,686391416,891007833,869299201,787110759,573801385,366012601,197339338,88927522,23235609,10315411,8463999,140676934,372160898,430784410,423218527,499194601,457379669,396968437,318194575,209489659,119852405,59280923,18652934,10270117,3407297,44754913,102733038,145593738,134801842,148664229,125537474,106165822,77649500,47830376,25611283,9554765,2947118,1352987,3467224,54577776,176210141,235897586,262514606,308108713,287180599,243885158,194635563,115134510,67431171,30349953,8311363,4616136,3646732,56023317,206804358,303094649,385436284,449374583,430229140,405813306,317751195,203740304,117818304,40489496,9552343,4246663,7273352,99069398,265838253,304324140,325820837,428544008,418066955,362679245,268715688,175748166,104328612,51880357,14801603,6009720,12090761,224511239,690761978,905874156,1058812549,1255577046,1152806303,1018242139,743523252,455377607,254021251,119746907,28174330,14277568,1923715,34492467,90919268,107024755,116990435,136582687,127864040,104413163,84278837,59512142,34380679,18570873,5047479,3092926,1027316,14111366,33840909,42601756,51069525,61112405,57575706,47653652,34132629,20433648,9934955,3643074,781204,466720,2094054,31333317,116866700,158842855,169352121,209095958,197569481,175873994,134144208,89435097,48459701,21904882,6107703,3268210,2285509,37576790,116458454,151652437,199589922,255712691,243383745,239611420,170503524,116502349,59726530,20018775,5714971,2176093,1983271,29603200,83181224,83860069,105949222,127798068,120379750,100565488,67396272,38348738,23496892,12408385,2726358,1487668,5448468,98935081,301935449,401306122,483076030,574868174,541438903,446805132,345922649,220966744,115385144,54840683,14426342,8637784,4425547,72997594,192609428,237089448,248865328,304807212,298950138,266364915,216604964,153200036,99152277,48231688,15511403,8310838,2146611,22261522,48912122,66873565,76067364,86500157,78002174,63652283,45217728,29585379,13933709,5602048,1134780,806684,2995714,41754780,129849785,194223966,216581170,270365134,266721379,237093102,185782808,128406317,77373836,39246937,12093169,5583798,2412580,52691378,176860975,239773492,279363951,351419285,348564927,325426328,258549110,182855593,100341900,43351850,10431023,6218756,5550105,59359202,139343331,166389167,171086413,212391278,202784535,175944476,135733823,75864401,49552407,23620972,5890589,4821449,11095564,166014718,478080793,658944515,744929912,913054395,882634779,806709770,613384631,420863669,254291621,123267662,33584922,15348475],\"yaxis\":\"y\",\"type\":\"scatter\"}],                        {\"template\":{\"data\":{\"histogram2dcontour\":[{\"type\":\"histogram2dcontour\",\"colorbar\":{\"outlinewidth\":0,\"ticks\":\"\"},\"colorscale\":[[0.0,\"#0d0887\"],[0.1111111111111111,\"#46039f\"],[0.2222222222222222,\"#7201a8\"],[0.3333333333333333,\"#9c179e\"],[0.4444444444444444,\"#bd3786\"],[0.5555555555555556,\"#d8576b\"],[0.6666666666666666,\"#ed7953\"],[0.7777777777777778,\"#fb9f3a\"],[0.8888888888888888,\"#fdca26\"],[1.0,\"#f0f921\"]]}],\"choropleth\":[{\"type\":\"choropleth\",\"colorbar\":{\"outlinewidth\":0,\"ticks\":\"\"}}],\"histogram2d\":[{\"type\":\"histogram2d\",\"colorbar\":{\"outlinewidth\":0,\"ticks\":\"\"},\"colorscale\":[[0.0,\"#0d0887\"],[0.1111111111111111,\"#46039f\"],[0.2222222222222222,\"#7201a8\"],[0.3333333333333333,\"#9c179e\"],[0.4444444444444444,\"#bd3786\"],[0.5555555555555556,\"#d8576b\"],[0.6666666666666666,\"#ed7953\"],[0.7777777777777778,\"#fb9f3a\"],[0.8888888888888888,\"#fdca26\"],[1.0,\"#f0f921\"]]}],\"heatmap\":[{\"type\":\"heatmap\",\"colorbar\":{\"outlinewidth\":0,\"ticks\":\"\"},\"colorscale\":[[0.0,\"#0d0887\"],[0.1111111111111111,\"#46039f\"],[0.2222222222222222,\"#7201a8\"],[0.3333333333333333,\"#9c179e\"],[0.4444444444444444,\"#bd3786\"],[0.5555555555555556,\"#d8576b\"],[0.6666666666666666,\"#ed7953\"],[0.7777777777777778,\"#fb9f3a\"],[0.8888888888888888,\"#fdca26\"],[1.0,\"#f0f921\"]]}],\"heatmapgl\":[{\"type\":\"heatmapgl\",\"colorbar\":{\"outlinewidth\":0,\"ticks\":\"\"},\"colorscale\":[[0.0,\"#0d0887\"],[0.1111111111111111,\"#46039f\"],[0.2222222222222222,\"#7201a8\"],[0.3333333333333333,\"#9c179e\"],[0.4444444444444444,\"#bd3786\"],[0.5555555555555556,\"#d8576b\"],[0.6666666666666666,\"#ed7953\"],[0.7777777777777778,\"#fb9f3a\"],[0.8888888888888888,\"#fdca26\"],[1.0,\"#f0f921\"]]}],\"contourcarpet\":[{\"type\":\"contourcarpet\",\"colorbar\":{\"outlinewidth\":0,\"ticks\":\"\"}}],\"contour\":[{\"type\":\"contour\",\"colorbar\":{\"outlinewidth\":0,\"ticks\":\"\"},\"colorscale\":[[0.0,\"#0d0887\"],[0.1111111111111111,\"#46039f\"],[0.2222222222222222,\"#7201a8\"],[0.3333333333333333,\"#9c179e\"],[0.4444444444444444,\"#bd3786\"],[0.5555555555555556,\"#d8576b\"],[0.6666666666666666,\"#ed7953\"],[0.7777777777777778,\"#fb9f3a\"],[0.8888888888888888,\"#fdca26\"],[1.0,\"#f0f921\"]]}],\"surface\":[{\"type\":\"surface\",\"colorbar\":{\"outlinewidth\":0,\"ticks\":\"\"},\"colorscale\":[[0.0,\"#0d0887\"],[0.1111111111111111,\"#46039f\"],[0.2222222222222222,\"#7201a8\"],[0.3333333333333333,\"#9c179e\"],[0.4444444444444444,\"#bd3786\"],[0.5555555555555556,\"#d8576b\"],[0.6666666666666666,\"#ed7953\"],[0.7777777777777778,\"#fb9f3a\"],[0.8888888888888888,\"#fdca26\"],[1.0,\"#f0f921\"]]}],\"mesh3d\":[{\"type\":\"mesh3d\",\"colorbar\":{\"outlinewidth\":0,\"ticks\":\"\"}}],\"scatter\":[{\"fillpattern\":{\"fillmode\":\"overlay\",\"size\":10,\"solidity\":0.2},\"type\":\"scatter\"}],\"parcoords\":[{\"type\":\"parcoords\",\"line\":{\"colorbar\":{\"outlinewidth\":0,\"ticks\":\"\"}}}],\"scatterpolargl\":[{\"type\":\"scatterpolargl\",\"marker\":{\"colorbar\":{\"outlinewidth\":0,\"ticks\":\"\"}}}],\"bar\":[{\"error_x\":{\"color\":\"#2a3f5f\"},\"error_y\":{\"color\":\"#2a3f5f\"},\"marker\":{\"line\":{\"color\":\"#E5ECF6\",\"width\":0.5},\"pattern\":{\"fillmode\":\"overlay\",\"size\":10,\"solidity\":0.2}},\"type\":\"bar\"}],\"scattergeo\":[{\"type\":\"scattergeo\",\"marker\":{\"colorbar\":{\"outlinewidth\":0,\"ticks\":\"\"}}}],\"scatterpolar\":[{\"type\":\"scatterpolar\",\"marker\":{\"colorbar\":{\"outlinewidth\":0,\"ticks\":\"\"}}}],\"histogram\":[{\"marker\":{\"pattern\":{\"fillmode\":\"overlay\",\"size\":10,\"solidity\":0.2}},\"type\":\"histogram\"}],\"scattergl\":[{\"type\":\"scattergl\",\"marker\":{\"colorbar\":{\"outlinewidth\":0,\"ticks\":\"\"}}}],\"scatter3d\":[{\"type\":\"scatter3d\",\"line\":{\"colorbar\":{\"outlinewidth\":0,\"ticks\":\"\"}},\"marker\":{\"colorbar\":{\"outlinewidth\":0,\"ticks\":\"\"}}}],\"scattermapbox\":[{\"type\":\"scattermapbox\",\"marker\":{\"colorbar\":{\"outlinewidth\":0,\"ticks\":\"\"}}}],\"scatterternary\":[{\"type\":\"scatterternary\",\"marker\":{\"colorbar\":{\"outlinewidth\":0,\"ticks\":\"\"}}}],\"scattercarpet\":[{\"type\":\"scattercarpet\",\"marker\":{\"colorbar\":{\"outlinewidth\":0,\"ticks\":\"\"}}}],\"carpet\":[{\"aaxis\":{\"endlinecolor\":\"#2a3f5f\",\"gridcolor\":\"white\",\"linecolor\":\"white\",\"minorgridcolor\":\"white\",\"startlinecolor\":\"#2a3f5f\"},\"baxis\":{\"endlinecolor\":\"#2a3f5f\",\"gridcolor\":\"white\",\"linecolor\":\"white\",\"minorgridcolor\":\"white\",\"startlinecolor\":\"#2a3f5f\"},\"type\":\"carpet\"}],\"table\":[{\"cells\":{\"fill\":{\"color\":\"#EBF0F8\"},\"line\":{\"color\":\"white\"}},\"header\":{\"fill\":{\"color\":\"#C8D4E3\"},\"line\":{\"color\":\"white\"}},\"type\":\"table\"}],\"barpolar\":[{\"marker\":{\"line\":{\"color\":\"#E5ECF6\",\"width\":0.5},\"pattern\":{\"fillmode\":\"overlay\",\"size\":10,\"solidity\":0.2}},\"type\":\"barpolar\"}],\"pie\":[{\"automargin\":true,\"type\":\"pie\"}]},\"layout\":{\"autotypenumbers\":\"strict\",\"colorway\":[\"#636efa\",\"#EF553B\",\"#00cc96\",\"#ab63fa\",\"#FFA15A\",\"#19d3f3\",\"#FF6692\",\"#B6E880\",\"#FF97FF\",\"#FECB52\"],\"font\":{\"color\":\"#2a3f5f\"},\"hovermode\":\"closest\",\"hoverlabel\":{\"align\":\"left\"},\"paper_bgcolor\":\"white\",\"plot_bgcolor\":\"#E5ECF6\",\"polar\":{\"bgcolor\":\"#E5ECF6\",\"angularaxis\":{\"gridcolor\":\"white\",\"linecolor\":\"white\",\"ticks\":\"\"},\"radialaxis\":{\"gridcolor\":\"white\",\"linecolor\":\"white\",\"ticks\":\"\"}},\"ternary\":{\"bgcolor\":\"#E5ECF6\",\"aaxis\":{\"gridcolor\":\"white\",\"linecolor\":\"white\",\"ticks\":\"\"},\"baxis\":{\"gridcolor\":\"white\",\"linecolor\":\"white\",\"ticks\":\"\"},\"caxis\":{\"gridcolor\":\"white\",\"linecolor\":\"white\",\"ticks\":\"\"}},\"coloraxis\":{\"colorbar\":{\"outlinewidth\":0,\"ticks\":\"\"}},\"colorscale\":{\"sequential\":[[0.0,\"#0d0887\"],[0.1111111111111111,\"#46039f\"],[0.2222222222222222,\"#7201a8\"],[0.3333333333333333,\"#9c179e\"],[0.4444444444444444,\"#bd3786\"],[0.5555555555555556,\"#d8576b\"],[0.6666666666666666,\"#ed7953\"],[0.7777777777777778,\"#fb9f3a\"],[0.8888888888888888,\"#fdca26\"],[1.0,\"#f0f921\"]],\"sequentialminus\":[[0.0,\"#0d0887\"],[0.1111111111111111,\"#46039f\"],[0.2222222222222222,\"#7201a8\"],[0.3333333333333333,\"#9c179e\"],[0.4444444444444444,\"#bd3786\"],[0.5555555555555556,\"#d8576b\"],[0.6666666666666666,\"#ed7953\"],[0.7777777777777778,\"#fb9f3a\"],[0.8888888888888888,\"#fdca26\"],[1.0,\"#f0f921\"]],\"diverging\":[[0,\"#8e0152\"],[0.1,\"#c51b7d\"],[0.2,\"#de77ae\"],[0.3,\"#f1b6da\"],[0.4,\"#fde0ef\"],[0.5,\"#f7f7f7\"],[0.6,\"#e6f5d0\"],[0.7,\"#b8e186\"],[0.8,\"#7fbc41\"],[0.9,\"#4d9221\"],[1,\"#276419\"]]},\"xaxis\":{\"gridcolor\":\"white\",\"linecolor\":\"white\",\"ticks\":\"\",\"title\":{\"standoff\":15},\"zerolinecolor\":\"white\",\"automargin\":true,\"zerolinewidth\":2},\"yaxis\":{\"gridcolor\":\"white\",\"linecolor\":\"white\",\"ticks\":\"\",\"title\":{\"standoff\":15},\"zerolinecolor\":\"white\",\"automargin\":true,\"zerolinewidth\":2},\"scene\":{\"xaxis\":{\"backgroundcolor\":\"#E5ECF6\",\"gridcolor\":\"white\",\"linecolor\":\"white\",\"showbackground\":true,\"ticks\":\"\",\"zerolinecolor\":\"white\",\"gridwidth\":2},\"yaxis\":{\"backgroundcolor\":\"#E5ECF6\",\"gridcolor\":\"white\",\"linecolor\":\"white\",\"showbackground\":true,\"ticks\":\"\",\"zerolinecolor\":\"white\",\"gridwidth\":2},\"zaxis\":{\"backgroundcolor\":\"#E5ECF6\",\"gridcolor\":\"white\",\"linecolor\":\"white\",\"showbackground\":true,\"ticks\":\"\",\"zerolinecolor\":\"white\",\"gridwidth\":2}},\"shapedefaults\":{\"line\":{\"color\":\"#2a3f5f\"}},\"annotationdefaults\":{\"arrowcolor\":\"#2a3f5f\",\"arrowhead\":0,\"arrowwidth\":1},\"geo\":{\"bgcolor\":\"white\",\"landcolor\":\"#E5ECF6\",\"subunitcolor\":\"white\",\"showland\":true,\"showlakes\":true,\"lakecolor\":\"white\"},\"title\":{\"x\":0.05},\"mapbox\":{\"style\":\"light\"}}},\"xaxis\":{\"anchor\":\"y\",\"domain\":[0.0,1.0],\"title\":{\"text\":\"\\u5730\\u5340\"}},\"yaxis\":{\"anchor\":\"x\",\"domain\":[0.0,1.0],\"title\":{\"text\":\"\\u4fe1\\u7528\\u5361\\u4ea4\\u6613\\u91d1\\u984d\"}},\"annotations\":[{\"font\":{},\"showarrow\":false,\"text\":\"\\u6708=1\",\"x\":0.5,\"xanchor\":\"center\",\"xref\":\"paper\",\"y\":1.0,\"yanchor\":\"bottom\",\"yref\":\"paper\"}],\"legend\":{\"tracegroupgap\":0},\"title\":{\"text\":\"\\u6bcf\\u5e74\\u4e00\\u6708\\u4fe1\\u7528\\u5361\\u6d88\\u8cbb\\u91d1\\u984d\\u8b8a\\u5316\"}},                        {\"responsive\": true}                    ).then(function(){\n",
       "                            \n",
       "var gd = document.getElementById('f3d43676-9b05-44b8-8167-0562c88db324');\n",
       "var x = new MutationObserver(function (mutations, observer) {{\n",
       "        var display = window.getComputedStyle(gd).display;\n",
       "        if (!display || display === 'none') {{\n",
       "            console.log([gd, 'removed!']);\n",
       "            Plotly.purge(gd);\n",
       "            observer.disconnect();\n",
       "        }}\n",
       "}});\n",
       "\n",
       "// Listen for the removal of the full notebook cells\n",
       "var notebookContainer = gd.closest('#notebook-container');\n",
       "if (notebookContainer) {{\n",
       "    x.observe(notebookContainer, {childList: true});\n",
       "}}\n",
       "\n",
       "// Listen for the clearing of the current output cell\n",
       "var outputEl = gd.closest('.output');\n",
       "if (outputEl) {{\n",
       "    x.observe(outputEl, {childList: true});\n",
       "}}\n",
       "\n",
       "                        })                };                });            </script>        </div>"
      ]
     },
     "metadata": {},
     "output_type": "display_data"
    }
   ],
   "source": [
    "import plotly.express as px\n",
    "import pandas as pd\n",
    "\n",
    "# 讀取 CSV 檔案\n",
    "df = pd.read_csv(\"../six_age_2023.csv\")\n",
    "\n",
    "# 條件篩選：只選取每年的一月\n",
    "january_data = df[(df['月'] == 1)]\n",
    "display(january_data)\n",
    "\n",
    "# 繪製折線圖\n",
    "fig = px.line(january_data, x=\"地區\", y=\"信用卡交易金額\", facet_col=\"月\", title='每年一月信用卡消費金額變化', markers=True)\n",
    "\n",
    "# 顯示圖表\n",
    "fig.show()\n"
   ]
  },
  {
   "cell_type": "code",
   "execution_count": 57,
   "metadata": {},
   "outputs": [
    {
     "data": {
      "text/html": [
       "<div>\n",
       "<style scoped>\n",
       "    .dataframe tbody tr th:only-of-type {\n",
       "        vertical-align: middle;\n",
       "    }\n",
       "\n",
       "    .dataframe tbody tr th {\n",
       "        vertical-align: top;\n",
       "    }\n",
       "\n",
       "    .dataframe thead th {\n",
       "        text-align: right;\n",
       "    }\n",
       "</style>\n",
       "<table border=\"1\" class=\"dataframe\">\n",
       "  <thead>\n",
       "    <tr style=\"text-align: right;\">\n",
       "      <th></th>\n",
       "      <th>年</th>\n",
       "      <th>月</th>\n",
       "      <th>地區</th>\n",
       "      <th>產業別</th>\n",
       "      <th>年齡層</th>\n",
       "      <th>信用卡交易筆數</th>\n",
       "      <th>信用卡交易金額</th>\n",
       "    </tr>\n",
       "  </thead>\n",
       "  <tbody>\n",
       "    <tr>\n",
       "      <th>0</th>\n",
       "      <td>2023</td>\n",
       "      <td>1</td>\n",
       "      <td>臺北市</td>\n",
       "      <td>食</td>\n",
       "      <td>未滿20歲</td>\n",
       "      <td>220977</td>\n",
       "      <td>55715114</td>\n",
       "    </tr>\n",
       "    <tr>\n",
       "      <th>1</th>\n",
       "      <td>2023</td>\n",
       "      <td>1</td>\n",
       "      <td>臺北市</td>\n",
       "      <td>食</td>\n",
       "      <td>20(含)-25歲</td>\n",
       "      <td>2566821</td>\n",
       "      <td>753504344</td>\n",
       "    </tr>\n",
       "    <tr>\n",
       "      <th>2</th>\n",
       "      <td>2023</td>\n",
       "      <td>1</td>\n",
       "      <td>臺北市</td>\n",
       "      <td>食</td>\n",
       "      <td>25(含)-30歲</td>\n",
       "      <td>5363528</td>\n",
       "      <td>1923364256</td>\n",
       "    </tr>\n",
       "    <tr>\n",
       "      <th>3</th>\n",
       "      <td>2023</td>\n",
       "      <td>1</td>\n",
       "      <td>臺北市</td>\n",
       "      <td>食</td>\n",
       "      <td>30(含)-35歲</td>\n",
       "      <td>5857840</td>\n",
       "      <td>2316604418</td>\n",
       "    </tr>\n",
       "    <tr>\n",
       "      <th>4</th>\n",
       "      <td>2023</td>\n",
       "      <td>1</td>\n",
       "      <td>臺北市</td>\n",
       "      <td>食</td>\n",
       "      <td>35(含)-40歲</td>\n",
       "      <td>5520136</td>\n",
       "      <td>2358990576</td>\n",
       "    </tr>\n",
       "    <tr>\n",
       "      <th>...</th>\n",
       "      <td>...</td>\n",
       "      <td>...</td>\n",
       "      <td>...</td>\n",
       "      <td>...</td>\n",
       "      <td>...</td>\n",
       "      <td>...</td>\n",
       "      <td>...</td>\n",
       "    </tr>\n",
       "    <tr>\n",
       "      <th>499</th>\n",
       "      <td>2023</td>\n",
       "      <td>1</td>\n",
       "      <td>高雄市</td>\n",
       "      <td>百貨</td>\n",
       "      <td>60(含)-65歲</td>\n",
       "      <td>206522</td>\n",
       "      <td>420863669</td>\n",
       "    </tr>\n",
       "    <tr>\n",
       "      <th>500</th>\n",
       "      <td>2023</td>\n",
       "      <td>1</td>\n",
       "      <td>高雄市</td>\n",
       "      <td>百貨</td>\n",
       "      <td>65(含)-70歲</td>\n",
       "      <td>137246</td>\n",
       "      <td>254291621</td>\n",
       "    </tr>\n",
       "    <tr>\n",
       "      <th>501</th>\n",
       "      <td>2023</td>\n",
       "      <td>1</td>\n",
       "      <td>高雄市</td>\n",
       "      <td>百貨</td>\n",
       "      <td>70(含)-75歲</td>\n",
       "      <td>71281</td>\n",
       "      <td>123267662</td>\n",
       "    </tr>\n",
       "    <tr>\n",
       "      <th>502</th>\n",
       "      <td>2023</td>\n",
       "      <td>1</td>\n",
       "      <td>高雄市</td>\n",
       "      <td>百貨</td>\n",
       "      <td>75(含)-80歲</td>\n",
       "      <td>19938</td>\n",
       "      <td>33584922</td>\n",
       "    </tr>\n",
       "    <tr>\n",
       "      <th>503</th>\n",
       "      <td>2023</td>\n",
       "      <td>1</td>\n",
       "      <td>高雄市</td>\n",
       "      <td>百貨</td>\n",
       "      <td>80(含)歲以上</td>\n",
       "      <td>8774</td>\n",
       "      <td>15348475</td>\n",
       "    </tr>\n",
       "  </tbody>\n",
       "</table>\n",
       "<p>504 rows × 7 columns</p>\n",
       "</div>"
      ],
      "text/plain": [
       "        年  月   地區 產業別        年齡層  信用卡交易筆數     信用卡交易金額\n",
       "0    2023  1  臺北市   食      未滿20歲   220977    55715114\n",
       "1    2023  1  臺北市   食  20(含)-25歲  2566821   753504344\n",
       "2    2023  1  臺北市   食  25(含)-30歲  5363528  1923364256\n",
       "3    2023  1  臺北市   食  30(含)-35歲  5857840  2316604418\n",
       "4    2023  1  臺北市   食  35(含)-40歲  5520136  2358990576\n",
       "..    ... ..  ...  ..        ...      ...         ...\n",
       "499  2023  1  高雄市  百貨  60(含)-65歲   206522   420863669\n",
       "500  2023  1  高雄市  百貨  65(含)-70歲   137246   254291621\n",
       "501  2023  1  高雄市  百貨  70(含)-75歲    71281   123267662\n",
       "502  2023  1  高雄市  百貨  75(含)-80歲    19938    33584922\n",
       "503  2023  1  高雄市  百貨   80(含)歲以上     8774    15348475\n",
       "\n",
       "[504 rows x 7 columns]"
      ]
     },
     "metadata": {},
     "output_type": "display_data"
    },
    {
     "data": {
      "application/vnd.plotly.v1+json": {
       "config": {
        "plotlyServerURL": "https://plot.ly"
       },
       "data": [
        {
         "domain": {
          "x": [
           0,
           1
          ],
          "y": [
           0,
           1
          ]
         },
         "hovertemplate": "產業別=%{label}<br>信用卡交易金額=%{value}<extra></extra>",
         "labels": [
          "食",
          "食",
          "食",
          "食",
          "食",
          "食",
          "食",
          "食",
          "食",
          "食",
          "食",
          "食",
          "食",
          "食",
          "衣",
          "衣",
          "衣",
          "衣",
          "衣",
          "衣",
          "衣",
          "衣",
          "衣",
          "衣",
          "衣",
          "衣",
          "衣",
          "衣",
          "住",
          "住",
          "住",
          "住",
          "住",
          "住",
          "住",
          "住",
          "住",
          "住",
          "住",
          "住",
          "住",
          "住",
          "行",
          "行",
          "行",
          "行",
          "行",
          "行",
          "行",
          "行",
          "行",
          "行",
          "行",
          "行",
          "行",
          "行",
          "文教康樂",
          "文教康樂",
          "文教康樂",
          "文教康樂",
          "文教康樂",
          "文教康樂",
          "文教康樂",
          "文教康樂",
          "文教康樂",
          "文教康樂",
          "文教康樂",
          "文教康樂",
          "文教康樂",
          "文教康樂",
          "百貨",
          "百貨",
          "百貨",
          "百貨",
          "百貨",
          "百貨",
          "百貨",
          "百貨",
          "百貨",
          "百貨",
          "百貨",
          "百貨",
          "百貨",
          "百貨",
          "食",
          "食",
          "食",
          "食",
          "食",
          "食",
          "食",
          "食",
          "食",
          "食",
          "食",
          "食",
          "食",
          "食",
          "衣",
          "衣",
          "衣",
          "衣",
          "衣",
          "衣",
          "衣",
          "衣",
          "衣",
          "衣",
          "衣",
          "衣",
          "衣",
          "衣",
          "住",
          "住",
          "住",
          "住",
          "住",
          "住",
          "住",
          "住",
          "住",
          "住",
          "住",
          "住",
          "住",
          "住",
          "行",
          "行",
          "行",
          "行",
          "行",
          "行",
          "行",
          "行",
          "行",
          "行",
          "行",
          "行",
          "行",
          "行",
          "文教康樂",
          "文教康樂",
          "文教康樂",
          "文教康樂",
          "文教康樂",
          "文教康樂",
          "文教康樂",
          "文教康樂",
          "文教康樂",
          "文教康樂",
          "文教康樂",
          "文教康樂",
          "文教康樂",
          "文教康樂",
          "百貨",
          "百貨",
          "百貨",
          "百貨",
          "百貨",
          "百貨",
          "百貨",
          "百貨",
          "百貨",
          "百貨",
          "百貨",
          "百貨",
          "百貨",
          "百貨",
          "食",
          "食",
          "食",
          "食",
          "食",
          "食",
          "食",
          "食",
          "食",
          "食",
          "食",
          "食",
          "食",
          "食",
          "衣",
          "衣",
          "衣",
          "衣",
          "衣",
          "衣",
          "衣",
          "衣",
          "衣",
          "衣",
          "衣",
          "衣",
          "衣",
          "衣",
          "住",
          "住",
          "住",
          "住",
          "住",
          "住",
          "住",
          "住",
          "住",
          "住",
          "住",
          "住",
          "住",
          "住",
          "行",
          "行",
          "行",
          "行",
          "行",
          "行",
          "行",
          "行",
          "行",
          "行",
          "行",
          "行",
          "行",
          "行",
          "文教康樂",
          "文教康樂",
          "文教康樂",
          "文教康樂",
          "文教康樂",
          "文教康樂",
          "文教康樂",
          "文教康樂",
          "文教康樂",
          "文教康樂",
          "文教康樂",
          "文教康樂",
          "文教康樂",
          "文教康樂",
          "百貨",
          "百貨",
          "百貨",
          "百貨",
          "百貨",
          "百貨",
          "百貨",
          "百貨",
          "百貨",
          "百貨",
          "百貨",
          "百貨",
          "百貨",
          "百貨",
          "食",
          "食",
          "食",
          "食",
          "食",
          "食",
          "食",
          "食",
          "食",
          "食",
          "食",
          "食",
          "食",
          "食",
          "衣",
          "衣",
          "衣",
          "衣",
          "衣",
          "衣",
          "衣",
          "衣",
          "衣",
          "衣",
          "衣",
          "衣",
          "衣",
          "衣",
          "住",
          "住",
          "住",
          "住",
          "住",
          "住",
          "住",
          "住",
          "住",
          "住",
          "住",
          "住",
          "住",
          "住",
          "行",
          "行",
          "行",
          "行",
          "行",
          "行",
          "行",
          "行",
          "行",
          "行",
          "行",
          "行",
          "行",
          "行",
          "文教康樂",
          "文教康樂",
          "文教康樂",
          "文教康樂",
          "文教康樂",
          "文教康樂",
          "文教康樂",
          "文教康樂",
          "文教康樂",
          "文教康樂",
          "文教康樂",
          "文教康樂",
          "文教康樂",
          "文教康樂",
          "百貨",
          "百貨",
          "百貨",
          "百貨",
          "百貨",
          "百貨",
          "百貨",
          "百貨",
          "百貨",
          "百貨",
          "百貨",
          "百貨",
          "百貨",
          "百貨",
          "食",
          "食",
          "食",
          "食",
          "食",
          "食",
          "食",
          "食",
          "食",
          "食",
          "食",
          "食",
          "食",
          "食",
          "衣",
          "衣",
          "衣",
          "衣",
          "衣",
          "衣",
          "衣",
          "衣",
          "衣",
          "衣",
          "衣",
          "衣",
          "衣",
          "衣",
          "住",
          "住",
          "住",
          "住",
          "住",
          "住",
          "住",
          "住",
          "住",
          "住",
          "住",
          "住",
          "住",
          "住",
          "行",
          "行",
          "行",
          "行",
          "行",
          "行",
          "行",
          "行",
          "行",
          "行",
          "行",
          "行",
          "行",
          "行",
          "文教康樂",
          "文教康樂",
          "文教康樂",
          "文教康樂",
          "文教康樂",
          "文教康樂",
          "文教康樂",
          "文教康樂",
          "文教康樂",
          "文教康樂",
          "文教康樂",
          "文教康樂",
          "文教康樂",
          "文教康樂",
          "百貨",
          "百貨",
          "百貨",
          "百貨",
          "百貨",
          "百貨",
          "百貨",
          "百貨",
          "百貨",
          "百貨",
          "百貨",
          "百貨",
          "百貨",
          "百貨",
          "食",
          "食",
          "食",
          "食",
          "食",
          "食",
          "食",
          "食",
          "食",
          "食",
          "食",
          "食",
          "食",
          "食",
          "衣",
          "衣",
          "衣",
          "衣",
          "衣",
          "衣",
          "衣",
          "衣",
          "衣",
          "衣",
          "衣",
          "衣",
          "衣",
          "衣",
          "住",
          "住",
          "住",
          "住",
          "住",
          "住",
          "住",
          "住",
          "住",
          "住",
          "住",
          "住",
          "住",
          "住",
          "行",
          "行",
          "行",
          "行",
          "行",
          "行",
          "行",
          "行",
          "行",
          "行",
          "行",
          "行",
          "行",
          "行",
          "文教康樂",
          "文教康樂",
          "文教康樂",
          "文教康樂",
          "文教康樂",
          "文教康樂",
          "文教康樂",
          "文教康樂",
          "文教康樂",
          "文教康樂",
          "文教康樂",
          "文教康樂",
          "文教康樂",
          "文教康樂",
          "百貨",
          "百貨",
          "百貨",
          "百貨",
          "百貨",
          "百貨",
          "百貨",
          "百貨",
          "百貨",
          "百貨",
          "百貨",
          "百貨",
          "百貨",
          "百貨"
         ],
         "legendgroup": "",
         "name": "",
         "showlegend": true,
         "type": "pie",
         "values": [
          55715114,
          753504344,
          1923364256,
          2316604418,
          2358990576,
          2547051751,
          2042546963,
          1539941406,
          1107914396,
          750434007,
          507620333,
          297013128,
          108537969,
          66837747,
          18456803,
          218186430,
          559513188,
          683225422,
          673775566,
          653241363,
          476532656,
          350838445,
          261515637,
          165462275,
          102142073,
          47751807,
          12992288,
          11417576,
          17200093,
          178001314,
          557585474,
          772341873,
          808341237,
          882960116,
          705532451,
          573530471,
          467502097,
          331883362,
          213330706,
          117283189,
          42243363,
          28370846,
          49667202,
          530078559,
          1255515387,
          1497106911,
          1561860705,
          1772512394,
          1609108632,
          1412286175,
          1101446436,
          752758382,
          429519624,
          184839653,
          47943270,
          24370138,
          73709092,
          817100398,
          2216146490,
          2535077253,
          2566748598,
          3253279801,
          3194405299,
          2510695985,
          1539312096,
          815051346,
          478356979,
          237833594,
          73870743,
          41006363,
          66844278,
          1009481284,
          3329955802,
          4612291124,
          5196864975,
          5933202346,
          4944343209,
          4003265535,
          2890910595,
          1802474966,
          1068533625,
          571139881,
          174067317,
          94108099,
          25535420,
          318052989,
          814536878,
          973974516,
          930096982,
          955088227,
          738426737,
          557032899,
          387579850,
          236038153,
          137241995,
          71549520,
          23138005,
          12594988,
          2175517,
          30258580,
          84601450,
          117694243,
          138798649,
          161071368,
          140837829,
          115630157,
          88128951,
          56628262,
          31038760,
          13102845,
          2753929,
          1570981,
          2507240,
          41241124,
          146795389,
          223950192,
          262017736,
          298770554,
          273837865,
          236608050,
          189567974,
          135049262,
          80383994,
          37540535,
          11862563,
          5146602,
          3427816,
          53797617,
          163413152,
          248322541,
          328197253,
          438712520,
          426455316,
          374498855,
          314422545,
          214052892,
          130108931,
          57080440,
          15434767,
          6961104,
          3630578,
          51624804,
          143581401,
          177558734,
          215890641,
          320087276,
          309959439,
          228241448,
          149137826,
          96718967,
          58181296,
          31617868,
          8485747,
          5709317,
          100207455,
          138164879,
          412804407,
          628088350,
          809770268,
          1105347672,
          1052604036,
          1018026272,
          837218846,
          640352291,
          419861435,
          217244793,
          72250994,
          32700638,
          3128136,
          45518189,
          124928607,
          154550866,
          168045473,
          207463550,
          190370239,
          163527101,
          122737950,
          78626141,
          43976371,
          21257532,
          5927869,
          3084821,
          2117529,
          18101517,
          53536699,
          81793518,
          83249479,
          96758795,
          79692844,
          60093296,
          40202704,
          24184100,
          11567499,
          4657853,
          1068228,
          780204,
          1719614,
          25148170,
          83853079,
          123398882,
          138666612,
          166165927,
          156977715,
          138862141,
          107453505,
          64818049,
          40019775,
          17409512,
          4747761,
          2048569,
          4815656,
          95678304,
          348505450,
          453056533,
          451679478,
          526026922,
          461848991,
          415434397,
          332992337,
          211922107,
          106491393,
          52923963,
          11401475,
          5157613,
          3280439,
          38072689,
          98886562,
          119639431,
          126598155,
          168297077,
          184806008,
          164053096,
          122201857,
          75588918,
          48100016,
          22966773,
          5888523,
          3401252,
          8678722,
          137153572,
          416411645,
          568379316,
          686391416,
          891007833,
          869299201,
          787110759,
          573801385,
          366012601,
          197339338,
          88927522,
          23235609,
          10315411,
          8463999,
          140676934,
          372160898,
          430784410,
          423218527,
          499194601,
          457379669,
          396968437,
          318194575,
          209489659,
          119852405,
          59280923,
          18652934,
          10270117,
          3407297,
          44754913,
          102733038,
          145593738,
          134801842,
          148664229,
          125537474,
          106165822,
          77649500,
          47830376,
          25611283,
          9554765,
          2947118,
          1352987,
          3467224,
          54577776,
          176210141,
          235897586,
          262514606,
          308108713,
          287180599,
          243885158,
          194635563,
          115134510,
          67431171,
          30349953,
          8311363,
          4616136,
          3646732,
          56023317,
          206804358,
          303094649,
          385436284,
          449374583,
          430229140,
          405813306,
          317751195,
          203740304,
          117818304,
          40489496,
          9552343,
          4246663,
          7273352,
          99069398,
          265838253,
          304324140,
          325820837,
          428544008,
          418066955,
          362679245,
          268715688,
          175748166,
          104328612,
          51880357,
          14801603,
          6009720,
          12090761,
          224511239,
          690761978,
          905874156,
          1058812549,
          1255577046,
          1152806303,
          1018242139,
          743523252,
          455377607,
          254021251,
          119746907,
          28174330,
          14277568,
          1923715,
          34492467,
          90919268,
          107024755,
          116990435,
          136582687,
          127864040,
          104413163,
          84278837,
          59512142,
          34380679,
          18570873,
          5047479,
          3092926,
          1027316,
          14111366,
          33840909,
          42601756,
          51069525,
          61112405,
          57575706,
          47653652,
          34132629,
          20433648,
          9934955,
          3643074,
          781204,
          466720,
          2094054,
          31333317,
          116866700,
          158842855,
          169352121,
          209095958,
          197569481,
          175873994,
          134144208,
          89435097,
          48459701,
          21904882,
          6107703,
          3268210,
          2285509,
          37576790,
          116458454,
          151652437,
          199589922,
          255712691,
          243383745,
          239611420,
          170503524,
          116502349,
          59726530,
          20018775,
          5714971,
          2176093,
          1983271,
          29603200,
          83181224,
          83860069,
          105949222,
          127798068,
          120379750,
          100565488,
          67396272,
          38348738,
          23496892,
          12408385,
          2726358,
          1487668,
          5448468,
          98935081,
          301935449,
          401306122,
          483076030,
          574868174,
          541438903,
          446805132,
          345922649,
          220966744,
          115385144,
          54840683,
          14426342,
          8637784,
          4425547,
          72997594,
          192609428,
          237089448,
          248865328,
          304807212,
          298950138,
          266364915,
          216604964,
          153200036,
          99152277,
          48231688,
          15511403,
          8310838,
          2146611,
          22261522,
          48912122,
          66873565,
          76067364,
          86500157,
          78002174,
          63652283,
          45217728,
          29585379,
          13933709,
          5602048,
          1134780,
          806684,
          2995714,
          41754780,
          129849785,
          194223966,
          216581170,
          270365134,
          266721379,
          237093102,
          185782808,
          128406317,
          77373836,
          39246937,
          12093169,
          5583798,
          2412580,
          52691378,
          176860975,
          239773492,
          279363951,
          351419285,
          348564927,
          325426328,
          258549110,
          182855593,
          100341900,
          43351850,
          10431023,
          6218756,
          5550105,
          59359202,
          139343331,
          166389167,
          171086413,
          212391278,
          202784535,
          175944476,
          135733823,
          75864401,
          49552407,
          23620972,
          5890589,
          4821449,
          11095564,
          166014718,
          478080793,
          658944515,
          744929912,
          913054395,
          882634779,
          806709770,
          613384631,
          420863669,
          254291621,
          123267662,
          33584922,
          15348475
         ]
        }
       ],
       "layout": {
        "legend": {
         "tracegroupgap": 0
        },
        "template": {
         "data": {
          "bar": [
           {
            "error_x": {
             "color": "#2a3f5f"
            },
            "error_y": {
             "color": "#2a3f5f"
            },
            "marker": {
             "line": {
              "color": "#E5ECF6",
              "width": 0.5
             },
             "pattern": {
              "fillmode": "overlay",
              "size": 10,
              "solidity": 0.2
             }
            },
            "type": "bar"
           }
          ],
          "barpolar": [
           {
            "marker": {
             "line": {
              "color": "#E5ECF6",
              "width": 0.5
             },
             "pattern": {
              "fillmode": "overlay",
              "size": 10,
              "solidity": 0.2
             }
            },
            "type": "barpolar"
           }
          ],
          "carpet": [
           {
            "aaxis": {
             "endlinecolor": "#2a3f5f",
             "gridcolor": "white",
             "linecolor": "white",
             "minorgridcolor": "white",
             "startlinecolor": "#2a3f5f"
            },
            "baxis": {
             "endlinecolor": "#2a3f5f",
             "gridcolor": "white",
             "linecolor": "white",
             "minorgridcolor": "white",
             "startlinecolor": "#2a3f5f"
            },
            "type": "carpet"
           }
          ],
          "choropleth": [
           {
            "colorbar": {
             "outlinewidth": 0,
             "ticks": ""
            },
            "type": "choropleth"
           }
          ],
          "contour": [
           {
            "colorbar": {
             "outlinewidth": 0,
             "ticks": ""
            },
            "colorscale": [
             [
              0,
              "#0d0887"
             ],
             [
              0.1111111111111111,
              "#46039f"
             ],
             [
              0.2222222222222222,
              "#7201a8"
             ],
             [
              0.3333333333333333,
              "#9c179e"
             ],
             [
              0.4444444444444444,
              "#bd3786"
             ],
             [
              0.5555555555555556,
              "#d8576b"
             ],
             [
              0.6666666666666666,
              "#ed7953"
             ],
             [
              0.7777777777777778,
              "#fb9f3a"
             ],
             [
              0.8888888888888888,
              "#fdca26"
             ],
             [
              1,
              "#f0f921"
             ]
            ],
            "type": "contour"
           }
          ],
          "contourcarpet": [
           {
            "colorbar": {
             "outlinewidth": 0,
             "ticks": ""
            },
            "type": "contourcarpet"
           }
          ],
          "heatmap": [
           {
            "colorbar": {
             "outlinewidth": 0,
             "ticks": ""
            },
            "colorscale": [
             [
              0,
              "#0d0887"
             ],
             [
              0.1111111111111111,
              "#46039f"
             ],
             [
              0.2222222222222222,
              "#7201a8"
             ],
             [
              0.3333333333333333,
              "#9c179e"
             ],
             [
              0.4444444444444444,
              "#bd3786"
             ],
             [
              0.5555555555555556,
              "#d8576b"
             ],
             [
              0.6666666666666666,
              "#ed7953"
             ],
             [
              0.7777777777777778,
              "#fb9f3a"
             ],
             [
              0.8888888888888888,
              "#fdca26"
             ],
             [
              1,
              "#f0f921"
             ]
            ],
            "type": "heatmap"
           }
          ],
          "heatmapgl": [
           {
            "colorbar": {
             "outlinewidth": 0,
             "ticks": ""
            },
            "colorscale": [
             [
              0,
              "#0d0887"
             ],
             [
              0.1111111111111111,
              "#46039f"
             ],
             [
              0.2222222222222222,
              "#7201a8"
             ],
             [
              0.3333333333333333,
              "#9c179e"
             ],
             [
              0.4444444444444444,
              "#bd3786"
             ],
             [
              0.5555555555555556,
              "#d8576b"
             ],
             [
              0.6666666666666666,
              "#ed7953"
             ],
             [
              0.7777777777777778,
              "#fb9f3a"
             ],
             [
              0.8888888888888888,
              "#fdca26"
             ],
             [
              1,
              "#f0f921"
             ]
            ],
            "type": "heatmapgl"
           }
          ],
          "histogram": [
           {
            "marker": {
             "pattern": {
              "fillmode": "overlay",
              "size": 10,
              "solidity": 0.2
             }
            },
            "type": "histogram"
           }
          ],
          "histogram2d": [
           {
            "colorbar": {
             "outlinewidth": 0,
             "ticks": ""
            },
            "colorscale": [
             [
              0,
              "#0d0887"
             ],
             [
              0.1111111111111111,
              "#46039f"
             ],
             [
              0.2222222222222222,
              "#7201a8"
             ],
             [
              0.3333333333333333,
              "#9c179e"
             ],
             [
              0.4444444444444444,
              "#bd3786"
             ],
             [
              0.5555555555555556,
              "#d8576b"
             ],
             [
              0.6666666666666666,
              "#ed7953"
             ],
             [
              0.7777777777777778,
              "#fb9f3a"
             ],
             [
              0.8888888888888888,
              "#fdca26"
             ],
             [
              1,
              "#f0f921"
             ]
            ],
            "type": "histogram2d"
           }
          ],
          "histogram2dcontour": [
           {
            "colorbar": {
             "outlinewidth": 0,
             "ticks": ""
            },
            "colorscale": [
             [
              0,
              "#0d0887"
             ],
             [
              0.1111111111111111,
              "#46039f"
             ],
             [
              0.2222222222222222,
              "#7201a8"
             ],
             [
              0.3333333333333333,
              "#9c179e"
             ],
             [
              0.4444444444444444,
              "#bd3786"
             ],
             [
              0.5555555555555556,
              "#d8576b"
             ],
             [
              0.6666666666666666,
              "#ed7953"
             ],
             [
              0.7777777777777778,
              "#fb9f3a"
             ],
             [
              0.8888888888888888,
              "#fdca26"
             ],
             [
              1,
              "#f0f921"
             ]
            ],
            "type": "histogram2dcontour"
           }
          ],
          "mesh3d": [
           {
            "colorbar": {
             "outlinewidth": 0,
             "ticks": ""
            },
            "type": "mesh3d"
           }
          ],
          "parcoords": [
           {
            "line": {
             "colorbar": {
              "outlinewidth": 0,
              "ticks": ""
             }
            },
            "type": "parcoords"
           }
          ],
          "pie": [
           {
            "automargin": true,
            "type": "pie"
           }
          ],
          "scatter": [
           {
            "fillpattern": {
             "fillmode": "overlay",
             "size": 10,
             "solidity": 0.2
            },
            "type": "scatter"
           }
          ],
          "scatter3d": [
           {
            "line": {
             "colorbar": {
              "outlinewidth": 0,
              "ticks": ""
             }
            },
            "marker": {
             "colorbar": {
              "outlinewidth": 0,
              "ticks": ""
             }
            },
            "type": "scatter3d"
           }
          ],
          "scattercarpet": [
           {
            "marker": {
             "colorbar": {
              "outlinewidth": 0,
              "ticks": ""
             }
            },
            "type": "scattercarpet"
           }
          ],
          "scattergeo": [
           {
            "marker": {
             "colorbar": {
              "outlinewidth": 0,
              "ticks": ""
             }
            },
            "type": "scattergeo"
           }
          ],
          "scattergl": [
           {
            "marker": {
             "colorbar": {
              "outlinewidth": 0,
              "ticks": ""
             }
            },
            "type": "scattergl"
           }
          ],
          "scattermapbox": [
           {
            "marker": {
             "colorbar": {
              "outlinewidth": 0,
              "ticks": ""
             }
            },
            "type": "scattermapbox"
           }
          ],
          "scatterpolar": [
           {
            "marker": {
             "colorbar": {
              "outlinewidth": 0,
              "ticks": ""
             }
            },
            "type": "scatterpolar"
           }
          ],
          "scatterpolargl": [
           {
            "marker": {
             "colorbar": {
              "outlinewidth": 0,
              "ticks": ""
             }
            },
            "type": "scatterpolargl"
           }
          ],
          "scatterternary": [
           {
            "marker": {
             "colorbar": {
              "outlinewidth": 0,
              "ticks": ""
             }
            },
            "type": "scatterternary"
           }
          ],
          "surface": [
           {
            "colorbar": {
             "outlinewidth": 0,
             "ticks": ""
            },
            "colorscale": [
             [
              0,
              "#0d0887"
             ],
             [
              0.1111111111111111,
              "#46039f"
             ],
             [
              0.2222222222222222,
              "#7201a8"
             ],
             [
              0.3333333333333333,
              "#9c179e"
             ],
             [
              0.4444444444444444,
              "#bd3786"
             ],
             [
              0.5555555555555556,
              "#d8576b"
             ],
             [
              0.6666666666666666,
              "#ed7953"
             ],
             [
              0.7777777777777778,
              "#fb9f3a"
             ],
             [
              0.8888888888888888,
              "#fdca26"
             ],
             [
              1,
              "#f0f921"
             ]
            ],
            "type": "surface"
           }
          ],
          "table": [
           {
            "cells": {
             "fill": {
              "color": "#EBF0F8"
             },
             "line": {
              "color": "white"
             }
            },
            "header": {
             "fill": {
              "color": "#C8D4E3"
             },
             "line": {
              "color": "white"
             }
            },
            "type": "table"
           }
          ]
         },
         "layout": {
          "annotationdefaults": {
           "arrowcolor": "#2a3f5f",
           "arrowhead": 0,
           "arrowwidth": 1
          },
          "autotypenumbers": "strict",
          "coloraxis": {
           "colorbar": {
            "outlinewidth": 0,
            "ticks": ""
           }
          },
          "colorscale": {
           "diverging": [
            [
             0,
             "#8e0152"
            ],
            [
             0.1,
             "#c51b7d"
            ],
            [
             0.2,
             "#de77ae"
            ],
            [
             0.3,
             "#f1b6da"
            ],
            [
             0.4,
             "#fde0ef"
            ],
            [
             0.5,
             "#f7f7f7"
            ],
            [
             0.6,
             "#e6f5d0"
            ],
            [
             0.7,
             "#b8e186"
            ],
            [
             0.8,
             "#7fbc41"
            ],
            [
             0.9,
             "#4d9221"
            ],
            [
             1,
             "#276419"
            ]
           ],
           "sequential": [
            [
             0,
             "#0d0887"
            ],
            [
             0.1111111111111111,
             "#46039f"
            ],
            [
             0.2222222222222222,
             "#7201a8"
            ],
            [
             0.3333333333333333,
             "#9c179e"
            ],
            [
             0.4444444444444444,
             "#bd3786"
            ],
            [
             0.5555555555555556,
             "#d8576b"
            ],
            [
             0.6666666666666666,
             "#ed7953"
            ],
            [
             0.7777777777777778,
             "#fb9f3a"
            ],
            [
             0.8888888888888888,
             "#fdca26"
            ],
            [
             1,
             "#f0f921"
            ]
           ],
           "sequentialminus": [
            [
             0,
             "#0d0887"
            ],
            [
             0.1111111111111111,
             "#46039f"
            ],
            [
             0.2222222222222222,
             "#7201a8"
            ],
            [
             0.3333333333333333,
             "#9c179e"
            ],
            [
             0.4444444444444444,
             "#bd3786"
            ],
            [
             0.5555555555555556,
             "#d8576b"
            ],
            [
             0.6666666666666666,
             "#ed7953"
            ],
            [
             0.7777777777777778,
             "#fb9f3a"
            ],
            [
             0.8888888888888888,
             "#fdca26"
            ],
            [
             1,
             "#f0f921"
            ]
           ]
          },
          "colorway": [
           "#636efa",
           "#EF553B",
           "#00cc96",
           "#ab63fa",
           "#FFA15A",
           "#19d3f3",
           "#FF6692",
           "#B6E880",
           "#FF97FF",
           "#FECB52"
          ],
          "font": {
           "color": "#2a3f5f"
          },
          "geo": {
           "bgcolor": "white",
           "lakecolor": "white",
           "landcolor": "#E5ECF6",
           "showlakes": true,
           "showland": true,
           "subunitcolor": "white"
          },
          "hoverlabel": {
           "align": "left"
          },
          "hovermode": "closest",
          "mapbox": {
           "style": "light"
          },
          "paper_bgcolor": "white",
          "plot_bgcolor": "#E5ECF6",
          "polar": {
           "angularaxis": {
            "gridcolor": "white",
            "linecolor": "white",
            "ticks": ""
           },
           "bgcolor": "#E5ECF6",
           "radialaxis": {
            "gridcolor": "white",
            "linecolor": "white",
            "ticks": ""
           }
          },
          "scene": {
           "xaxis": {
            "backgroundcolor": "#E5ECF6",
            "gridcolor": "white",
            "gridwidth": 2,
            "linecolor": "white",
            "showbackground": true,
            "ticks": "",
            "zerolinecolor": "white"
           },
           "yaxis": {
            "backgroundcolor": "#E5ECF6",
            "gridcolor": "white",
            "gridwidth": 2,
            "linecolor": "white",
            "showbackground": true,
            "ticks": "",
            "zerolinecolor": "white"
           },
           "zaxis": {
            "backgroundcolor": "#E5ECF6",
            "gridcolor": "white",
            "gridwidth": 2,
            "linecolor": "white",
            "showbackground": true,
            "ticks": "",
            "zerolinecolor": "white"
           }
          },
          "shapedefaults": {
           "line": {
            "color": "#2a3f5f"
           }
          },
          "ternary": {
           "aaxis": {
            "gridcolor": "white",
            "linecolor": "white",
            "ticks": ""
           },
           "baxis": {
            "gridcolor": "white",
            "linecolor": "white",
            "ticks": ""
           },
           "bgcolor": "#E5ECF6",
           "caxis": {
            "gridcolor": "white",
            "linecolor": "white",
            "ticks": ""
           }
          },
          "title": {
           "x": 0.05
          },
          "xaxis": {
           "automargin": true,
           "gridcolor": "white",
           "linecolor": "white",
           "ticks": "",
           "title": {
            "standoff": 15
           },
           "zerolinecolor": "white",
           "zerolinewidth": 2
          },
          "yaxis": {
           "automargin": true,
           "gridcolor": "white",
           "linecolor": "white",
           "ticks": "",
           "title": {
            "standoff": 15
           },
           "zerolinecolor": "white",
           "zerolinewidth": 2
          }
         }
        },
        "title": {
         "text": "每年一月各年齡層在不同產業別的信用卡消費總金額"
        }
       }
      },
      "text/html": [
       "<div>                            <div id=\"27c08a80-ead4-4ddd-9564-8922dda86cf7\" class=\"plotly-graph-div\" style=\"height:525px; width:100%;\"></div>            <script type=\"text/javascript\">                require([\"plotly\"], function(Plotly) {                    window.PLOTLYENV=window.PLOTLYENV || {};                                    if (document.getElementById(\"27c08a80-ead4-4ddd-9564-8922dda86cf7\")) {                    Plotly.newPlot(                        \"27c08a80-ead4-4ddd-9564-8922dda86cf7\",                        [{\"domain\":{\"x\":[0.0,1.0],\"y\":[0.0,1.0]},\"hovertemplate\":\"\\u7522\\u696d\\u5225=%{label}\\u003cbr\\u003e\\u4fe1\\u7528\\u5361\\u4ea4\\u6613\\u91d1\\u984d=%{value}\\u003cextra\\u003e\\u003c\\u002fextra\\u003e\",\"labels\":[\"\\u98df\",\"\\u98df\",\"\\u98df\",\"\\u98df\",\"\\u98df\",\"\\u98df\",\"\\u98df\",\"\\u98df\",\"\\u98df\",\"\\u98df\",\"\\u98df\",\"\\u98df\",\"\\u98df\",\"\\u98df\",\"\\u8863\",\"\\u8863\",\"\\u8863\",\"\\u8863\",\"\\u8863\",\"\\u8863\",\"\\u8863\",\"\\u8863\",\"\\u8863\",\"\\u8863\",\"\\u8863\",\"\\u8863\",\"\\u8863\",\"\\u8863\",\"\\u4f4f\",\"\\u4f4f\",\"\\u4f4f\",\"\\u4f4f\",\"\\u4f4f\",\"\\u4f4f\",\"\\u4f4f\",\"\\u4f4f\",\"\\u4f4f\",\"\\u4f4f\",\"\\u4f4f\",\"\\u4f4f\",\"\\u4f4f\",\"\\u4f4f\",\"\\u884c\",\"\\u884c\",\"\\u884c\",\"\\u884c\",\"\\u884c\",\"\\u884c\",\"\\u884c\",\"\\u884c\",\"\\u884c\",\"\\u884c\",\"\\u884c\",\"\\u884c\",\"\\u884c\",\"\\u884c\",\"\\u6587\\u6559\\u5eb7\\u6a02\",\"\\u6587\\u6559\\u5eb7\\u6a02\",\"\\u6587\\u6559\\u5eb7\\u6a02\",\"\\u6587\\u6559\\u5eb7\\u6a02\",\"\\u6587\\u6559\\u5eb7\\u6a02\",\"\\u6587\\u6559\\u5eb7\\u6a02\",\"\\u6587\\u6559\\u5eb7\\u6a02\",\"\\u6587\\u6559\\u5eb7\\u6a02\",\"\\u6587\\u6559\\u5eb7\\u6a02\",\"\\u6587\\u6559\\u5eb7\\u6a02\",\"\\u6587\\u6559\\u5eb7\\u6a02\",\"\\u6587\\u6559\\u5eb7\\u6a02\",\"\\u6587\\u6559\\u5eb7\\u6a02\",\"\\u6587\\u6559\\u5eb7\\u6a02\",\"\\u767e\\u8ca8\",\"\\u767e\\u8ca8\",\"\\u767e\\u8ca8\",\"\\u767e\\u8ca8\",\"\\u767e\\u8ca8\",\"\\u767e\\u8ca8\",\"\\u767e\\u8ca8\",\"\\u767e\\u8ca8\",\"\\u767e\\u8ca8\",\"\\u767e\\u8ca8\",\"\\u767e\\u8ca8\",\"\\u767e\\u8ca8\",\"\\u767e\\u8ca8\",\"\\u767e\\u8ca8\",\"\\u98df\",\"\\u98df\",\"\\u98df\",\"\\u98df\",\"\\u98df\",\"\\u98df\",\"\\u98df\",\"\\u98df\",\"\\u98df\",\"\\u98df\",\"\\u98df\",\"\\u98df\",\"\\u98df\",\"\\u98df\",\"\\u8863\",\"\\u8863\",\"\\u8863\",\"\\u8863\",\"\\u8863\",\"\\u8863\",\"\\u8863\",\"\\u8863\",\"\\u8863\",\"\\u8863\",\"\\u8863\",\"\\u8863\",\"\\u8863\",\"\\u8863\",\"\\u4f4f\",\"\\u4f4f\",\"\\u4f4f\",\"\\u4f4f\",\"\\u4f4f\",\"\\u4f4f\",\"\\u4f4f\",\"\\u4f4f\",\"\\u4f4f\",\"\\u4f4f\",\"\\u4f4f\",\"\\u4f4f\",\"\\u4f4f\",\"\\u4f4f\",\"\\u884c\",\"\\u884c\",\"\\u884c\",\"\\u884c\",\"\\u884c\",\"\\u884c\",\"\\u884c\",\"\\u884c\",\"\\u884c\",\"\\u884c\",\"\\u884c\",\"\\u884c\",\"\\u884c\",\"\\u884c\",\"\\u6587\\u6559\\u5eb7\\u6a02\",\"\\u6587\\u6559\\u5eb7\\u6a02\",\"\\u6587\\u6559\\u5eb7\\u6a02\",\"\\u6587\\u6559\\u5eb7\\u6a02\",\"\\u6587\\u6559\\u5eb7\\u6a02\",\"\\u6587\\u6559\\u5eb7\\u6a02\",\"\\u6587\\u6559\\u5eb7\\u6a02\",\"\\u6587\\u6559\\u5eb7\\u6a02\",\"\\u6587\\u6559\\u5eb7\\u6a02\",\"\\u6587\\u6559\\u5eb7\\u6a02\",\"\\u6587\\u6559\\u5eb7\\u6a02\",\"\\u6587\\u6559\\u5eb7\\u6a02\",\"\\u6587\\u6559\\u5eb7\\u6a02\",\"\\u6587\\u6559\\u5eb7\\u6a02\",\"\\u767e\\u8ca8\",\"\\u767e\\u8ca8\",\"\\u767e\\u8ca8\",\"\\u767e\\u8ca8\",\"\\u767e\\u8ca8\",\"\\u767e\\u8ca8\",\"\\u767e\\u8ca8\",\"\\u767e\\u8ca8\",\"\\u767e\\u8ca8\",\"\\u767e\\u8ca8\",\"\\u767e\\u8ca8\",\"\\u767e\\u8ca8\",\"\\u767e\\u8ca8\",\"\\u767e\\u8ca8\",\"\\u98df\",\"\\u98df\",\"\\u98df\",\"\\u98df\",\"\\u98df\",\"\\u98df\",\"\\u98df\",\"\\u98df\",\"\\u98df\",\"\\u98df\",\"\\u98df\",\"\\u98df\",\"\\u98df\",\"\\u98df\",\"\\u8863\",\"\\u8863\",\"\\u8863\",\"\\u8863\",\"\\u8863\",\"\\u8863\",\"\\u8863\",\"\\u8863\",\"\\u8863\",\"\\u8863\",\"\\u8863\",\"\\u8863\",\"\\u8863\",\"\\u8863\",\"\\u4f4f\",\"\\u4f4f\",\"\\u4f4f\",\"\\u4f4f\",\"\\u4f4f\",\"\\u4f4f\",\"\\u4f4f\",\"\\u4f4f\",\"\\u4f4f\",\"\\u4f4f\",\"\\u4f4f\",\"\\u4f4f\",\"\\u4f4f\",\"\\u4f4f\",\"\\u884c\",\"\\u884c\",\"\\u884c\",\"\\u884c\",\"\\u884c\",\"\\u884c\",\"\\u884c\",\"\\u884c\",\"\\u884c\",\"\\u884c\",\"\\u884c\",\"\\u884c\",\"\\u884c\",\"\\u884c\",\"\\u6587\\u6559\\u5eb7\\u6a02\",\"\\u6587\\u6559\\u5eb7\\u6a02\",\"\\u6587\\u6559\\u5eb7\\u6a02\",\"\\u6587\\u6559\\u5eb7\\u6a02\",\"\\u6587\\u6559\\u5eb7\\u6a02\",\"\\u6587\\u6559\\u5eb7\\u6a02\",\"\\u6587\\u6559\\u5eb7\\u6a02\",\"\\u6587\\u6559\\u5eb7\\u6a02\",\"\\u6587\\u6559\\u5eb7\\u6a02\",\"\\u6587\\u6559\\u5eb7\\u6a02\",\"\\u6587\\u6559\\u5eb7\\u6a02\",\"\\u6587\\u6559\\u5eb7\\u6a02\",\"\\u6587\\u6559\\u5eb7\\u6a02\",\"\\u6587\\u6559\\u5eb7\\u6a02\",\"\\u767e\\u8ca8\",\"\\u767e\\u8ca8\",\"\\u767e\\u8ca8\",\"\\u767e\\u8ca8\",\"\\u767e\\u8ca8\",\"\\u767e\\u8ca8\",\"\\u767e\\u8ca8\",\"\\u767e\\u8ca8\",\"\\u767e\\u8ca8\",\"\\u767e\\u8ca8\",\"\\u767e\\u8ca8\",\"\\u767e\\u8ca8\",\"\\u767e\\u8ca8\",\"\\u767e\\u8ca8\",\"\\u98df\",\"\\u98df\",\"\\u98df\",\"\\u98df\",\"\\u98df\",\"\\u98df\",\"\\u98df\",\"\\u98df\",\"\\u98df\",\"\\u98df\",\"\\u98df\",\"\\u98df\",\"\\u98df\",\"\\u98df\",\"\\u8863\",\"\\u8863\",\"\\u8863\",\"\\u8863\",\"\\u8863\",\"\\u8863\",\"\\u8863\",\"\\u8863\",\"\\u8863\",\"\\u8863\",\"\\u8863\",\"\\u8863\",\"\\u8863\",\"\\u8863\",\"\\u4f4f\",\"\\u4f4f\",\"\\u4f4f\",\"\\u4f4f\",\"\\u4f4f\",\"\\u4f4f\",\"\\u4f4f\",\"\\u4f4f\",\"\\u4f4f\",\"\\u4f4f\",\"\\u4f4f\",\"\\u4f4f\",\"\\u4f4f\",\"\\u4f4f\",\"\\u884c\",\"\\u884c\",\"\\u884c\",\"\\u884c\",\"\\u884c\",\"\\u884c\",\"\\u884c\",\"\\u884c\",\"\\u884c\",\"\\u884c\",\"\\u884c\",\"\\u884c\",\"\\u884c\",\"\\u884c\",\"\\u6587\\u6559\\u5eb7\\u6a02\",\"\\u6587\\u6559\\u5eb7\\u6a02\",\"\\u6587\\u6559\\u5eb7\\u6a02\",\"\\u6587\\u6559\\u5eb7\\u6a02\",\"\\u6587\\u6559\\u5eb7\\u6a02\",\"\\u6587\\u6559\\u5eb7\\u6a02\",\"\\u6587\\u6559\\u5eb7\\u6a02\",\"\\u6587\\u6559\\u5eb7\\u6a02\",\"\\u6587\\u6559\\u5eb7\\u6a02\",\"\\u6587\\u6559\\u5eb7\\u6a02\",\"\\u6587\\u6559\\u5eb7\\u6a02\",\"\\u6587\\u6559\\u5eb7\\u6a02\",\"\\u6587\\u6559\\u5eb7\\u6a02\",\"\\u6587\\u6559\\u5eb7\\u6a02\",\"\\u767e\\u8ca8\",\"\\u767e\\u8ca8\",\"\\u767e\\u8ca8\",\"\\u767e\\u8ca8\",\"\\u767e\\u8ca8\",\"\\u767e\\u8ca8\",\"\\u767e\\u8ca8\",\"\\u767e\\u8ca8\",\"\\u767e\\u8ca8\",\"\\u767e\\u8ca8\",\"\\u767e\\u8ca8\",\"\\u767e\\u8ca8\",\"\\u767e\\u8ca8\",\"\\u767e\\u8ca8\",\"\\u98df\",\"\\u98df\",\"\\u98df\",\"\\u98df\",\"\\u98df\",\"\\u98df\",\"\\u98df\",\"\\u98df\",\"\\u98df\",\"\\u98df\",\"\\u98df\",\"\\u98df\",\"\\u98df\",\"\\u98df\",\"\\u8863\",\"\\u8863\",\"\\u8863\",\"\\u8863\",\"\\u8863\",\"\\u8863\",\"\\u8863\",\"\\u8863\",\"\\u8863\",\"\\u8863\",\"\\u8863\",\"\\u8863\",\"\\u8863\",\"\\u8863\",\"\\u4f4f\",\"\\u4f4f\",\"\\u4f4f\",\"\\u4f4f\",\"\\u4f4f\",\"\\u4f4f\",\"\\u4f4f\",\"\\u4f4f\",\"\\u4f4f\",\"\\u4f4f\",\"\\u4f4f\",\"\\u4f4f\",\"\\u4f4f\",\"\\u4f4f\",\"\\u884c\",\"\\u884c\",\"\\u884c\",\"\\u884c\",\"\\u884c\",\"\\u884c\",\"\\u884c\",\"\\u884c\",\"\\u884c\",\"\\u884c\",\"\\u884c\",\"\\u884c\",\"\\u884c\",\"\\u884c\",\"\\u6587\\u6559\\u5eb7\\u6a02\",\"\\u6587\\u6559\\u5eb7\\u6a02\",\"\\u6587\\u6559\\u5eb7\\u6a02\",\"\\u6587\\u6559\\u5eb7\\u6a02\",\"\\u6587\\u6559\\u5eb7\\u6a02\",\"\\u6587\\u6559\\u5eb7\\u6a02\",\"\\u6587\\u6559\\u5eb7\\u6a02\",\"\\u6587\\u6559\\u5eb7\\u6a02\",\"\\u6587\\u6559\\u5eb7\\u6a02\",\"\\u6587\\u6559\\u5eb7\\u6a02\",\"\\u6587\\u6559\\u5eb7\\u6a02\",\"\\u6587\\u6559\\u5eb7\\u6a02\",\"\\u6587\\u6559\\u5eb7\\u6a02\",\"\\u6587\\u6559\\u5eb7\\u6a02\",\"\\u767e\\u8ca8\",\"\\u767e\\u8ca8\",\"\\u767e\\u8ca8\",\"\\u767e\\u8ca8\",\"\\u767e\\u8ca8\",\"\\u767e\\u8ca8\",\"\\u767e\\u8ca8\",\"\\u767e\\u8ca8\",\"\\u767e\\u8ca8\",\"\\u767e\\u8ca8\",\"\\u767e\\u8ca8\",\"\\u767e\\u8ca8\",\"\\u767e\\u8ca8\",\"\\u767e\\u8ca8\",\"\\u98df\",\"\\u98df\",\"\\u98df\",\"\\u98df\",\"\\u98df\",\"\\u98df\",\"\\u98df\",\"\\u98df\",\"\\u98df\",\"\\u98df\",\"\\u98df\",\"\\u98df\",\"\\u98df\",\"\\u98df\",\"\\u8863\",\"\\u8863\",\"\\u8863\",\"\\u8863\",\"\\u8863\",\"\\u8863\",\"\\u8863\",\"\\u8863\",\"\\u8863\",\"\\u8863\",\"\\u8863\",\"\\u8863\",\"\\u8863\",\"\\u8863\",\"\\u4f4f\",\"\\u4f4f\",\"\\u4f4f\",\"\\u4f4f\",\"\\u4f4f\",\"\\u4f4f\",\"\\u4f4f\",\"\\u4f4f\",\"\\u4f4f\",\"\\u4f4f\",\"\\u4f4f\",\"\\u4f4f\",\"\\u4f4f\",\"\\u4f4f\",\"\\u884c\",\"\\u884c\",\"\\u884c\",\"\\u884c\",\"\\u884c\",\"\\u884c\",\"\\u884c\",\"\\u884c\",\"\\u884c\",\"\\u884c\",\"\\u884c\",\"\\u884c\",\"\\u884c\",\"\\u884c\",\"\\u6587\\u6559\\u5eb7\\u6a02\",\"\\u6587\\u6559\\u5eb7\\u6a02\",\"\\u6587\\u6559\\u5eb7\\u6a02\",\"\\u6587\\u6559\\u5eb7\\u6a02\",\"\\u6587\\u6559\\u5eb7\\u6a02\",\"\\u6587\\u6559\\u5eb7\\u6a02\",\"\\u6587\\u6559\\u5eb7\\u6a02\",\"\\u6587\\u6559\\u5eb7\\u6a02\",\"\\u6587\\u6559\\u5eb7\\u6a02\",\"\\u6587\\u6559\\u5eb7\\u6a02\",\"\\u6587\\u6559\\u5eb7\\u6a02\",\"\\u6587\\u6559\\u5eb7\\u6a02\",\"\\u6587\\u6559\\u5eb7\\u6a02\",\"\\u6587\\u6559\\u5eb7\\u6a02\",\"\\u767e\\u8ca8\",\"\\u767e\\u8ca8\",\"\\u767e\\u8ca8\",\"\\u767e\\u8ca8\",\"\\u767e\\u8ca8\",\"\\u767e\\u8ca8\",\"\\u767e\\u8ca8\",\"\\u767e\\u8ca8\",\"\\u767e\\u8ca8\",\"\\u767e\\u8ca8\",\"\\u767e\\u8ca8\",\"\\u767e\\u8ca8\",\"\\u767e\\u8ca8\",\"\\u767e\\u8ca8\"],\"legendgroup\":\"\",\"name\":\"\",\"showlegend\":true,\"values\":[55715114,753504344,1923364256,2316604418,2358990576,2547051751,2042546963,1539941406,1107914396,750434007,507620333,297013128,108537969,66837747,18456803,218186430,559513188,683225422,673775566,653241363,476532656,350838445,261515637,165462275,102142073,47751807,12992288,11417576,17200093,178001314,557585474,772341873,808341237,882960116,705532451,573530471,467502097,331883362,213330706,117283189,42243363,28370846,49667202,530078559,1255515387,1497106911,1561860705,1772512394,1609108632,1412286175,1101446436,752758382,429519624,184839653,47943270,24370138,73709092,817100398,2216146490,2535077253,2566748598,3253279801,3194405299,2510695985,1539312096,815051346,478356979,237833594,73870743,41006363,66844278,1009481284,3329955802,4612291124,5196864975,5933202346,4944343209,4003265535,2890910595,1802474966,1068533625,571139881,174067317,94108099,25535420,318052989,814536878,973974516,930096982,955088227,738426737,557032899,387579850,236038153,137241995,71549520,23138005,12594988,2175517,30258580,84601450,117694243,138798649,161071368,140837829,115630157,88128951,56628262,31038760,13102845,2753929,1570981,2507240,41241124,146795389,223950192,262017736,298770554,273837865,236608050,189567974,135049262,80383994,37540535,11862563,5146602,3427816,53797617,163413152,248322541,328197253,438712520,426455316,374498855,314422545,214052892,130108931,57080440,15434767,6961104,3630578,51624804,143581401,177558734,215890641,320087276,309959439,228241448,149137826,96718967,58181296,31617868,8485747,5709317,100207455,138164879,412804407,628088350,809770268,1105347672,1052604036,1018026272,837218846,640352291,419861435,217244793,72250994,32700638,3128136,45518189,124928607,154550866,168045473,207463550,190370239,163527101,122737950,78626141,43976371,21257532,5927869,3084821,2117529,18101517,53536699,81793518,83249479,96758795,79692844,60093296,40202704,24184100,11567499,4657853,1068228,780204,1719614,25148170,83853079,123398882,138666612,166165927,156977715,138862141,107453505,64818049,40019775,17409512,4747761,2048569,4815656,95678304,348505450,453056533,451679478,526026922,461848991,415434397,332992337,211922107,106491393,52923963,11401475,5157613,3280439,38072689,98886562,119639431,126598155,168297077,184806008,164053096,122201857,75588918,48100016,22966773,5888523,3401252,8678722,137153572,416411645,568379316,686391416,891007833,869299201,787110759,573801385,366012601,197339338,88927522,23235609,10315411,8463999,140676934,372160898,430784410,423218527,499194601,457379669,396968437,318194575,209489659,119852405,59280923,18652934,10270117,3407297,44754913,102733038,145593738,134801842,148664229,125537474,106165822,77649500,47830376,25611283,9554765,2947118,1352987,3467224,54577776,176210141,235897586,262514606,308108713,287180599,243885158,194635563,115134510,67431171,30349953,8311363,4616136,3646732,56023317,206804358,303094649,385436284,449374583,430229140,405813306,317751195,203740304,117818304,40489496,9552343,4246663,7273352,99069398,265838253,304324140,325820837,428544008,418066955,362679245,268715688,175748166,104328612,51880357,14801603,6009720,12090761,224511239,690761978,905874156,1058812549,1255577046,1152806303,1018242139,743523252,455377607,254021251,119746907,28174330,14277568,1923715,34492467,90919268,107024755,116990435,136582687,127864040,104413163,84278837,59512142,34380679,18570873,5047479,3092926,1027316,14111366,33840909,42601756,51069525,61112405,57575706,47653652,34132629,20433648,9934955,3643074,781204,466720,2094054,31333317,116866700,158842855,169352121,209095958,197569481,175873994,134144208,89435097,48459701,21904882,6107703,3268210,2285509,37576790,116458454,151652437,199589922,255712691,243383745,239611420,170503524,116502349,59726530,20018775,5714971,2176093,1983271,29603200,83181224,83860069,105949222,127798068,120379750,100565488,67396272,38348738,23496892,12408385,2726358,1487668,5448468,98935081,301935449,401306122,483076030,574868174,541438903,446805132,345922649,220966744,115385144,54840683,14426342,8637784,4425547,72997594,192609428,237089448,248865328,304807212,298950138,266364915,216604964,153200036,99152277,48231688,15511403,8310838,2146611,22261522,48912122,66873565,76067364,86500157,78002174,63652283,45217728,29585379,13933709,5602048,1134780,806684,2995714,41754780,129849785,194223966,216581170,270365134,266721379,237093102,185782808,128406317,77373836,39246937,12093169,5583798,2412580,52691378,176860975,239773492,279363951,351419285,348564927,325426328,258549110,182855593,100341900,43351850,10431023,6218756,5550105,59359202,139343331,166389167,171086413,212391278,202784535,175944476,135733823,75864401,49552407,23620972,5890589,4821449,11095564,166014718,478080793,658944515,744929912,913054395,882634779,806709770,613384631,420863669,254291621,123267662,33584922,15348475],\"type\":\"pie\"}],                        {\"template\":{\"data\":{\"histogram2dcontour\":[{\"type\":\"histogram2dcontour\",\"colorbar\":{\"outlinewidth\":0,\"ticks\":\"\"},\"colorscale\":[[0.0,\"#0d0887\"],[0.1111111111111111,\"#46039f\"],[0.2222222222222222,\"#7201a8\"],[0.3333333333333333,\"#9c179e\"],[0.4444444444444444,\"#bd3786\"],[0.5555555555555556,\"#d8576b\"],[0.6666666666666666,\"#ed7953\"],[0.7777777777777778,\"#fb9f3a\"],[0.8888888888888888,\"#fdca26\"],[1.0,\"#f0f921\"]]}],\"choropleth\":[{\"type\":\"choropleth\",\"colorbar\":{\"outlinewidth\":0,\"ticks\":\"\"}}],\"histogram2d\":[{\"type\":\"histogram2d\",\"colorbar\":{\"outlinewidth\":0,\"ticks\":\"\"},\"colorscale\":[[0.0,\"#0d0887\"],[0.1111111111111111,\"#46039f\"],[0.2222222222222222,\"#7201a8\"],[0.3333333333333333,\"#9c179e\"],[0.4444444444444444,\"#bd3786\"],[0.5555555555555556,\"#d8576b\"],[0.6666666666666666,\"#ed7953\"],[0.7777777777777778,\"#fb9f3a\"],[0.8888888888888888,\"#fdca26\"],[1.0,\"#f0f921\"]]}],\"heatmap\":[{\"type\":\"heatmap\",\"colorbar\":{\"outlinewidth\":0,\"ticks\":\"\"},\"colorscale\":[[0.0,\"#0d0887\"],[0.1111111111111111,\"#46039f\"],[0.2222222222222222,\"#7201a8\"],[0.3333333333333333,\"#9c179e\"],[0.4444444444444444,\"#bd3786\"],[0.5555555555555556,\"#d8576b\"],[0.6666666666666666,\"#ed7953\"],[0.7777777777777778,\"#fb9f3a\"],[0.8888888888888888,\"#fdca26\"],[1.0,\"#f0f921\"]]}],\"heatmapgl\":[{\"type\":\"heatmapgl\",\"colorbar\":{\"outlinewidth\":0,\"ticks\":\"\"},\"colorscale\":[[0.0,\"#0d0887\"],[0.1111111111111111,\"#46039f\"],[0.2222222222222222,\"#7201a8\"],[0.3333333333333333,\"#9c179e\"],[0.4444444444444444,\"#bd3786\"],[0.5555555555555556,\"#d8576b\"],[0.6666666666666666,\"#ed7953\"],[0.7777777777777778,\"#fb9f3a\"],[0.8888888888888888,\"#fdca26\"],[1.0,\"#f0f921\"]]}],\"contourcarpet\":[{\"type\":\"contourcarpet\",\"colorbar\":{\"outlinewidth\":0,\"ticks\":\"\"}}],\"contour\":[{\"type\":\"contour\",\"colorbar\":{\"outlinewidth\":0,\"ticks\":\"\"},\"colorscale\":[[0.0,\"#0d0887\"],[0.1111111111111111,\"#46039f\"],[0.2222222222222222,\"#7201a8\"],[0.3333333333333333,\"#9c179e\"],[0.4444444444444444,\"#bd3786\"],[0.5555555555555556,\"#d8576b\"],[0.6666666666666666,\"#ed7953\"],[0.7777777777777778,\"#fb9f3a\"],[0.8888888888888888,\"#fdca26\"],[1.0,\"#f0f921\"]]}],\"surface\":[{\"type\":\"surface\",\"colorbar\":{\"outlinewidth\":0,\"ticks\":\"\"},\"colorscale\":[[0.0,\"#0d0887\"],[0.1111111111111111,\"#46039f\"],[0.2222222222222222,\"#7201a8\"],[0.3333333333333333,\"#9c179e\"],[0.4444444444444444,\"#bd3786\"],[0.5555555555555556,\"#d8576b\"],[0.6666666666666666,\"#ed7953\"],[0.7777777777777778,\"#fb9f3a\"],[0.8888888888888888,\"#fdca26\"],[1.0,\"#f0f921\"]]}],\"mesh3d\":[{\"type\":\"mesh3d\",\"colorbar\":{\"outlinewidth\":0,\"ticks\":\"\"}}],\"scatter\":[{\"fillpattern\":{\"fillmode\":\"overlay\",\"size\":10,\"solidity\":0.2},\"type\":\"scatter\"}],\"parcoords\":[{\"type\":\"parcoords\",\"line\":{\"colorbar\":{\"outlinewidth\":0,\"ticks\":\"\"}}}],\"scatterpolargl\":[{\"type\":\"scatterpolargl\",\"marker\":{\"colorbar\":{\"outlinewidth\":0,\"ticks\":\"\"}}}],\"bar\":[{\"error_x\":{\"color\":\"#2a3f5f\"},\"error_y\":{\"color\":\"#2a3f5f\"},\"marker\":{\"line\":{\"color\":\"#E5ECF6\",\"width\":0.5},\"pattern\":{\"fillmode\":\"overlay\",\"size\":10,\"solidity\":0.2}},\"type\":\"bar\"}],\"scattergeo\":[{\"type\":\"scattergeo\",\"marker\":{\"colorbar\":{\"outlinewidth\":0,\"ticks\":\"\"}}}],\"scatterpolar\":[{\"type\":\"scatterpolar\",\"marker\":{\"colorbar\":{\"outlinewidth\":0,\"ticks\":\"\"}}}],\"histogram\":[{\"marker\":{\"pattern\":{\"fillmode\":\"overlay\",\"size\":10,\"solidity\":0.2}},\"type\":\"histogram\"}],\"scattergl\":[{\"type\":\"scattergl\",\"marker\":{\"colorbar\":{\"outlinewidth\":0,\"ticks\":\"\"}}}],\"scatter3d\":[{\"type\":\"scatter3d\",\"line\":{\"colorbar\":{\"outlinewidth\":0,\"ticks\":\"\"}},\"marker\":{\"colorbar\":{\"outlinewidth\":0,\"ticks\":\"\"}}}],\"scattermapbox\":[{\"type\":\"scattermapbox\",\"marker\":{\"colorbar\":{\"outlinewidth\":0,\"ticks\":\"\"}}}],\"scatterternary\":[{\"type\":\"scatterternary\",\"marker\":{\"colorbar\":{\"outlinewidth\":0,\"ticks\":\"\"}}}],\"scattercarpet\":[{\"type\":\"scattercarpet\",\"marker\":{\"colorbar\":{\"outlinewidth\":0,\"ticks\":\"\"}}}],\"carpet\":[{\"aaxis\":{\"endlinecolor\":\"#2a3f5f\",\"gridcolor\":\"white\",\"linecolor\":\"white\",\"minorgridcolor\":\"white\",\"startlinecolor\":\"#2a3f5f\"},\"baxis\":{\"endlinecolor\":\"#2a3f5f\",\"gridcolor\":\"white\",\"linecolor\":\"white\",\"minorgridcolor\":\"white\",\"startlinecolor\":\"#2a3f5f\"},\"type\":\"carpet\"}],\"table\":[{\"cells\":{\"fill\":{\"color\":\"#EBF0F8\"},\"line\":{\"color\":\"white\"}},\"header\":{\"fill\":{\"color\":\"#C8D4E3\"},\"line\":{\"color\":\"white\"}},\"type\":\"table\"}],\"barpolar\":[{\"marker\":{\"line\":{\"color\":\"#E5ECF6\",\"width\":0.5},\"pattern\":{\"fillmode\":\"overlay\",\"size\":10,\"solidity\":0.2}},\"type\":\"barpolar\"}],\"pie\":[{\"automargin\":true,\"type\":\"pie\"}]},\"layout\":{\"autotypenumbers\":\"strict\",\"colorway\":[\"#636efa\",\"#EF553B\",\"#00cc96\",\"#ab63fa\",\"#FFA15A\",\"#19d3f3\",\"#FF6692\",\"#B6E880\",\"#FF97FF\",\"#FECB52\"],\"font\":{\"color\":\"#2a3f5f\"},\"hovermode\":\"closest\",\"hoverlabel\":{\"align\":\"left\"},\"paper_bgcolor\":\"white\",\"plot_bgcolor\":\"#E5ECF6\",\"polar\":{\"bgcolor\":\"#E5ECF6\",\"angularaxis\":{\"gridcolor\":\"white\",\"linecolor\":\"white\",\"ticks\":\"\"},\"radialaxis\":{\"gridcolor\":\"white\",\"linecolor\":\"white\",\"ticks\":\"\"}},\"ternary\":{\"bgcolor\":\"#E5ECF6\",\"aaxis\":{\"gridcolor\":\"white\",\"linecolor\":\"white\",\"ticks\":\"\"},\"baxis\":{\"gridcolor\":\"white\",\"linecolor\":\"white\",\"ticks\":\"\"},\"caxis\":{\"gridcolor\":\"white\",\"linecolor\":\"white\",\"ticks\":\"\"}},\"coloraxis\":{\"colorbar\":{\"outlinewidth\":0,\"ticks\":\"\"}},\"colorscale\":{\"sequential\":[[0.0,\"#0d0887\"],[0.1111111111111111,\"#46039f\"],[0.2222222222222222,\"#7201a8\"],[0.3333333333333333,\"#9c179e\"],[0.4444444444444444,\"#bd3786\"],[0.5555555555555556,\"#d8576b\"],[0.6666666666666666,\"#ed7953\"],[0.7777777777777778,\"#fb9f3a\"],[0.8888888888888888,\"#fdca26\"],[1.0,\"#f0f921\"]],\"sequentialminus\":[[0.0,\"#0d0887\"],[0.1111111111111111,\"#46039f\"],[0.2222222222222222,\"#7201a8\"],[0.3333333333333333,\"#9c179e\"],[0.4444444444444444,\"#bd3786\"],[0.5555555555555556,\"#d8576b\"],[0.6666666666666666,\"#ed7953\"],[0.7777777777777778,\"#fb9f3a\"],[0.8888888888888888,\"#fdca26\"],[1.0,\"#f0f921\"]],\"diverging\":[[0,\"#8e0152\"],[0.1,\"#c51b7d\"],[0.2,\"#de77ae\"],[0.3,\"#f1b6da\"],[0.4,\"#fde0ef\"],[0.5,\"#f7f7f7\"],[0.6,\"#e6f5d0\"],[0.7,\"#b8e186\"],[0.8,\"#7fbc41\"],[0.9,\"#4d9221\"],[1,\"#276419\"]]},\"xaxis\":{\"gridcolor\":\"white\",\"linecolor\":\"white\",\"ticks\":\"\",\"title\":{\"standoff\":15},\"zerolinecolor\":\"white\",\"automargin\":true,\"zerolinewidth\":2},\"yaxis\":{\"gridcolor\":\"white\",\"linecolor\":\"white\",\"ticks\":\"\",\"title\":{\"standoff\":15},\"zerolinecolor\":\"white\",\"automargin\":true,\"zerolinewidth\":2},\"scene\":{\"xaxis\":{\"backgroundcolor\":\"#E5ECF6\",\"gridcolor\":\"white\",\"linecolor\":\"white\",\"showbackground\":true,\"ticks\":\"\",\"zerolinecolor\":\"white\",\"gridwidth\":2},\"yaxis\":{\"backgroundcolor\":\"#E5ECF6\",\"gridcolor\":\"white\",\"linecolor\":\"white\",\"showbackground\":true,\"ticks\":\"\",\"zerolinecolor\":\"white\",\"gridwidth\":2},\"zaxis\":{\"backgroundcolor\":\"#E5ECF6\",\"gridcolor\":\"white\",\"linecolor\":\"white\",\"showbackground\":true,\"ticks\":\"\",\"zerolinecolor\":\"white\",\"gridwidth\":2}},\"shapedefaults\":{\"line\":{\"color\":\"#2a3f5f\"}},\"annotationdefaults\":{\"arrowcolor\":\"#2a3f5f\",\"arrowhead\":0,\"arrowwidth\":1},\"geo\":{\"bgcolor\":\"white\",\"landcolor\":\"#E5ECF6\",\"subunitcolor\":\"white\",\"showland\":true,\"showlakes\":true,\"lakecolor\":\"white\"},\"title\":{\"x\":0.05},\"mapbox\":{\"style\":\"light\"}}},\"legend\":{\"tracegroupgap\":0},\"title\":{\"text\":\"\\u6bcf\\u5e74\\u4e00\\u6708\\u5404\\u5e74\\u9f61\\u5c64\\u5728\\u4e0d\\u540c\\u7522\\u696d\\u5225\\u7684\\u4fe1\\u7528\\u5361\\u6d88\\u8cbb\\u7e3d\\u91d1\\u984d\"}},                        {\"responsive\": true}                    ).then(function(){\n",
       "                            \n",
       "var gd = document.getElementById('27c08a80-ead4-4ddd-9564-8922dda86cf7');\n",
       "var x = new MutationObserver(function (mutations, observer) {{\n",
       "        var display = window.getComputedStyle(gd).display;\n",
       "        if (!display || display === 'none') {{\n",
       "            console.log([gd, 'removed!']);\n",
       "            Plotly.purge(gd);\n",
       "            observer.disconnect();\n",
       "        }}\n",
       "}});\n",
       "\n",
       "// Listen for the removal of the full notebook cells\n",
       "var notebookContainer = gd.closest('#notebook-container');\n",
       "if (notebookContainer) {{\n",
       "    x.observe(notebookContainer, {childList: true});\n",
       "}}\n",
       "\n",
       "// Listen for the clearing of the current output cell\n",
       "var outputEl = gd.closest('.output');\n",
       "if (outputEl) {{\n",
       "    x.observe(outputEl, {childList: true});\n",
       "}}\n",
       "\n",
       "                        })                };                });            </script>        </div>"
      ]
     },
     "metadata": {},
     "output_type": "display_data"
    }
   ],
   "source": [
    "import plotly.express as px\n",
    "import pandas as pd\n",
    "\n",
    "# 讀取 CSV 檔案\n",
    "df = pd.read_csv(\"../six_age_2023.csv\")\n",
    "\n",
    "# 條件篩選：只選取每年的一月\n",
    "january_data = df[(df['月'] == 1)]\n",
    "display(january_data)\n",
    "\n",
    "# 使用 px.pie 繪製圓餅圖\n",
    "fig = px.pie(january_data, values='信用卡交易金額', names='產業別', \n",
    "             title='每年一月各年齡層在不同產業別的信用卡消費總金額')\n",
    "\n",
    "# 顯示圖表\n",
    "fig.show()\n"
   ]
  },
  {
   "cell_type": "code",
   "execution_count": null,
   "metadata": {},
   "outputs": [],
   "source": []
  }
 ],
 "metadata": {
  "kernelspec": {
   "display_name": "Python 3",
   "language": "python",
   "name": "python3"
  },
  "language_info": {
   "codemirror_mode": {
    "name": "ipython",
    "version": 3
   },
   "file_extension": ".py",
   "mimetype": "text/x-python",
   "name": "python",
   "nbconvert_exporter": "python",
   "pygments_lexer": "ipython3",
   "version": "3.10.13"
  }
 },
 "nbformat": 4,
 "nbformat_minor": 2
}
